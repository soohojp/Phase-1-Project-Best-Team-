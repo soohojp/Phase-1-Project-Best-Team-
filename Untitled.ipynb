{
 "cells": [
  {
   "cell_type": "code",
   "execution_count": null,
   "metadata": {},
   "outputs": [],
   "source": [
    "import pandas as pd\n",
    "import sqlite3\n",
    "import zipfile\n",
    "from  pandasql import sqldf"
   ]
  },
  {
   "cell_type": "code",
   "execution_count": null,
   "metadata": {},
   "outputs": [],
   "source": [
    "tn_movie = pd.read_csv('zippedData/tn.movie_budgets.csv.gz')\n",
    "\n",
    "\n",
    "\n",
    "tn_movie = pd.read_csv('zippedData/tn.movie_budgets.csv.gz')\n",
    "tn_movie\n",
    "\n",
    "# remove all $ and commas for domestic gross, worldwide gross, and production budget\n",
    "\n",
    "tn_movie[\"production_budget\"]=tn_movie[\"production_budget\"].map(lambda x: int(x.replace(',', '').replace('$', '')))\n",
    "tn_movie[\"domestic_gross\"]=tn_movie[\"domestic_gross\"].map(lambda x: int(x.replace(',', '').replace('$', '')))\n",
    "tn_movie[\"worldwide_gross\"]=tn_movie[\"worldwide_gross\"].map(lambda x: int(x.replace(',', '').replace('$', '')))\n",
    "\n",
    "\n",
    "#Add ROI column\n",
    "tn_movie[\"ROI\"]= (tn_movie[\"worldwide_gross\"]- tn_movie[\"production_budget\"])/    \\\n",
    "         tn_movie[\"production_budget\"]\n",
    "\n",
    "#Add start year as int column\n",
    "\n",
    "tn_movie[\"start_year\"] = tn_movie[\"release_date\"].map(lambda x: int(x[-4:]))\n",
    "\n",
    "#eliminate any worldwide gross columns that = 0\n",
    "\n",
    "tn_movie = tn_movie [tn_movie .worldwide_gross != 0]\n",
    "\n",
    "tn_movie"
   ]
  },
  {
   "cell_type": "code",
   "execution_count": null,
   "metadata": {},
   "outputs": [],
   "source": [
    "\n",
    "conn = sqlite3.connect('zippedData/im.db')\n",
    "cur= conn.cursor()\n",
    "# cur.execute(\"\"\"SELECT name FROM sqlite_master WHERE type = 'table';\"\"\").fetchall()"
   ]
  },
  {
   "cell_type": "code",
   "execution_count": null,
   "metadata": {
    "scrolled": false
   },
   "outputs": [],
   "source": [
    "q1 = \"\"\"SELECT * FROM movie_basics ;\"\"\"\n",
    "dfzip=pd.read_sql(q1, conn)\n",
    "imdb_basics = pd.merge(left= dfzip ,right = tn_movie, left_on=[\"start_year\",\"primary_title\"], right_on=[\"start_year\",\"movie\"], \\\n",
    "                          how = 'inner')\n",
    "imdb_basics"
   ]
  },
  {
   "cell_type": "code",
   "execution_count": null,
   "metadata": {
    "scrolled": false
   },
   "outputs": [],
   "source": [
    "imdb_basics=imdb_basics.dropna(subset=['genres'])"
   ]
  },
  {
   "cell_type": "code",
   "execution_count": null,
   "metadata": {
    "scrolled": true
   },
   "outputs": [],
   "source": [
    "imdb_basics.genres = imdb_basics.genres.str.split(',')"
   ]
  }
 ],
 "metadata": {
  "kernelspec": {
   "display_name": "Python 3",
   "language": "python",
   "name": "python3"
  },
  "language_info": {
   "codemirror_mode": {
    "name": "ipython",
    "version": 3
   },
   "file_extension": ".py",
   "mimetype": "text/x-python",
   "name": "python",
   "nbconvert_exporter": "python",
   "pygments_lexer": "ipython3",
   "version": "3.8.5"
  }
 },
 "nbformat": 4,
 "nbformat_minor": 4
}
