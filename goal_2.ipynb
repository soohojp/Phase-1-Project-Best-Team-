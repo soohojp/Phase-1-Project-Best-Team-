{
 "cells": [
  {
   "cell_type": "code",
   "execution_count": 16,
   "metadata": {},
   "outputs": [],
   "source": [
    "import pandas as pd\n",
    "import sqlite3\n",
    "import zipfile\n",
    "from  pandasql import sqldf\n",
    "from matplotlib import pyplot as plt\n"
   ]
  },
  {
   "cell_type": "code",
   "execution_count": 17,
   "metadata": {},
   "outputs": [],
   "source": [
    "tn_movie = pd.read_csv('zippedData/tn.movie_budgets.csv.gz')\n",
    "\n",
    "\n",
    "\n",
    "tn_movie = pd.read_csv('zippedData/tn.movie_budgets.csv.gz')\n",
    "tn_movie\n",
    "\n",
    "# remove all $ and commas for domestic gross, worldwide gross, and production budget\n",
    "\n",
    "tn_movie[\"production_budget\"]=tn_movie[\"production_budget\"].map(lambda x: int(x.replace(',', '').replace('$', '')))\n",
    "tn_movie[\"domestic_gross\"]=tn_movie[\"domestic_gross\"].map(lambda x: int(x.replace(',', '').replace('$', '')))\n",
    "tn_movie[\"worldwide_gross\"]=tn_movie[\"worldwide_gross\"].map(lambda x: int(x.replace(',', '').replace('$', '')))\n",
    "\n",
    "\n",
    "#Add ROI column\n",
    "tn_movie[\"ROI\"]= (tn_movie[\"worldwide_gross\"]- tn_movie[\"production_budget\"])/    \\\n",
    "         tn_movie[\"production_budget\"]\n",
    "\n",
    "#Add start year as int column\n",
    "\n",
    "tn_movie[\"start_year\"] = tn_movie[\"release_date\"].map(lambda x: int(x[-4:]))\n",
    "\n",
    "#eliminate any worldwide gross columns that = 0\n",
    "\n",
    "tn_movie = tn_movie [tn_movie .worldwide_gross != 0]\n",
    "\n",
    "# tn_movie"
   ]
  },
  {
   "cell_type": "code",
   "execution_count": null,
   "metadata": {},
   "outputs": [],
   "source": []
  },
  {
   "cell_type": "code",
   "execution_count": 9,
   "metadata": {},
   "outputs": [],
   "source": [
    "\n",
    "conn = sqlite3.connect('zippedData/im.db')\n",
    "cur= conn.cursor()\n",
    "# cur.execute(\"\"\"SELECT name FROM sqlite_master WHERE type = 'table';\"\"\").fetchall()"
   ]
  },
  {
   "cell_type": "code",
   "execution_count": 10,
   "metadata": {},
   "outputs": [],
   "source": [
    "q1 = \"\"\"SELECT * FROM movie_basics ;\"\"\"\n",
    "dfzip=pd.read_sql(q1, conn)\n",
    "imdb_basics = pd.merge(left= dfzip ,right = tn_movie, left_on=[\"start_year\",\"primary_title\"], \\\n",
    "                       right_on=[\"start_year\",\"movie\"], \\\n",
    "                          how = 'inner')\n",
    "# imdb_basics"
   ]
  },
  {
   "cell_type": "code",
   "execution_count": null,
   "metadata": {},
   "outputs": [],
   "source": []
  },
  {
   "cell_type": "code",
   "execution_count": null,
   "metadata": {},
   "outputs": [],
   "source": []
  },
  {
   "cell_type": "code",
   "execution_count": null,
   "metadata": {},
   "outputs": [],
   "source": []
  },
  {
   "cell_type": "code",
   "execution_count": null,
   "metadata": {},
   "outputs": [],
   "source": []
  },
  {
   "cell_type": "code",
   "execution_count": null,
   "metadata": {},
   "outputs": [],
   "source": []
  },
  {
   "cell_type": "code",
   "execution_count": null,
   "metadata": {},
   "outputs": [],
   "source": []
  },
  {
   "cell_type": "code",
   "execution_count": null,
   "metadata": {},
   "outputs": [],
   "source": []
  },
  {
   "cell_type": "code",
   "execution_count": null,
   "metadata": {},
   "outputs": [],
   "source": []
  },
  {
   "cell_type": "code",
   "execution_count": null,
   "metadata": {},
   "outputs": [],
   "source": []
  },
  {
   "cell_type": "code",
   "execution_count": null,
   "metadata": {},
   "outputs": [],
   "source": []
  },
  {
   "cell_type": "code",
   "execution_count": null,
   "metadata": {},
   "outputs": [],
   "source": []
  },
  {
   "cell_type": "code",
   "execution_count": null,
   "metadata": {},
   "outputs": [],
   "source": []
  },
  {
   "cell_type": "code",
   "execution_count": null,
   "metadata": {},
   "outputs": [],
   "source": []
  },
  {
   "cell_type": "code",
   "execution_count": null,
   "metadata": {},
   "outputs": [],
   "source": []
  },
  {
   "cell_type": "code",
   "execution_count": null,
   "metadata": {},
   "outputs": [],
   "source": []
  },
  {
   "cell_type": "code",
   "execution_count": null,
   "metadata": {},
   "outputs": [],
   "source": []
  },
  {
   "cell_type": "markdown",
   "metadata": {},
   "source": [
    "# Goal 2 - Writer and Driector Profitablity\n"
   ]
  },
  {
   "cell_type": "markdown",
   "metadata": {},
   "source": [
    "# Director Profitablity/ROI"
   ]
  },
  {
   "cell_type": "code",
   "execution_count": 35,
   "metadata": {},
   "outputs": [],
   "source": [
    "movie_to_director = \"\"\"\n",
    "SELECT mb.primary_title AS title, \n",
    "    mb.start_year,\n",
    "    p.primary_name as director_name,\n",
    "    p.death_year as dead\n",
    "\n",
    "    \n",
    "FROM movie_basics AS mb \n",
    "JOIN directors AS d \n",
    "    ON d.movie_id = mb.movie_id \n",
    "JOIN persons as p\n",
    "    ON p.person_id= d.person_id\n",
    "JOIN movie_akas AS a\n",
    "    ON mb.movie_id = a.movie_id \n",
    "    \n",
    "\n",
    "ORDER BY primary_title ASC;\"\"\""
   ]
  },
  {
   "cell_type": "code",
   "execution_count": 46,
   "metadata": {},
   "outputs": [],
   "source": [
    "directors = pd.read_sql(movie_to_director, conn)\n",
    "directors = directors.drop_duplicates() "
   ]
  },
  {
   "cell_type": "code",
   "execution_count": 55,
   "metadata": {},
   "outputs": [
    {
     "data": {
      "text/html": [
       "<div>\n",
       "<style scoped>\n",
       "    .dataframe tbody tr th:only-of-type {\n",
       "        vertical-align: middle;\n",
       "    }\n",
       "\n",
       "    .dataframe tbody tr th {\n",
       "        vertical-align: top;\n",
       "    }\n",
       "\n",
       "    .dataframe thead th {\n",
       "        text-align: right;\n",
       "    }\n",
       "</style>\n",
       "<table border=\"1\" class=\"dataframe\">\n",
       "  <thead>\n",
       "    <tr style=\"text-align: right;\">\n",
       "      <th></th>\n",
       "      <th>movie</th>\n",
       "      <th>ROI</th>\n",
       "      <th>director_name</th>\n",
       "    </tr>\n",
       "  </thead>\n",
       "  <tbody>\n",
       "    <tr>\n",
       "      <th>1077</th>\n",
       "      <td>The Fault in Our Stars</td>\n",
       "      <td>24.597236</td>\n",
       "      <td>Josh Boone</td>\n",
       "    </tr>\n",
       "    <tr>\n",
       "      <th>1124</th>\n",
       "      <td>Halloween</td>\n",
       "      <td>24.490067</td>\n",
       "      <td>David Gordon Green</td>\n",
       "    </tr>\n",
       "    <tr>\n",
       "      <th>1048</th>\n",
       "      <td>Black Swan</td>\n",
       "      <td>24.482055</td>\n",
       "      <td>Darren Aronofsky</td>\n",
       "    </tr>\n",
       "    <tr>\n",
       "      <th>868</th>\n",
       "      <td>La La Land</td>\n",
       "      <td>20.317558</td>\n",
       "      <td>Damien Chazelle</td>\n",
       "    </tr>\n",
       "    <tr>\n",
       "      <th>1002</th>\n",
       "      <td>Annabelle: Creation</td>\n",
       "      <td>19.358991</td>\n",
       "      <td>David F. Sandberg</td>\n",
       "    </tr>\n",
       "    <tr>\n",
       "      <th>...</th>\n",
       "      <td>...</td>\n",
       "      <td>...</td>\n",
       "      <td>...</td>\n",
       "    </tr>\n",
       "    <tr>\n",
       "      <th>779</th>\n",
       "      <td>Accidental Love</td>\n",
       "      <td>-0.994791</td>\n",
       "      <td>David O. Russell</td>\n",
       "    </tr>\n",
       "    <tr>\n",
       "      <th>670</th>\n",
       "      <td>Freaks of Nature</td>\n",
       "      <td>-0.997850</td>\n",
       "      <td>Robbie Pickering</td>\n",
       "    </tr>\n",
       "    <tr>\n",
       "      <th>524</th>\n",
       "      <td>Foodfight!</td>\n",
       "      <td>-0.998362</td>\n",
       "      <td>Lawrence Kasanoff</td>\n",
       "    </tr>\n",
       "    <tr>\n",
       "      <th>1108</th>\n",
       "      <td>10 Days in a Madhouse</td>\n",
       "      <td>-0.998782</td>\n",
       "      <td>Timothy Hines</td>\n",
       "    </tr>\n",
       "    <tr>\n",
       "      <th>1036</th>\n",
       "      <td>Broken Horses</td>\n",
       "      <td>-0.999769</td>\n",
       "      <td>Vidhu Vinod Chopra</td>\n",
       "    </tr>\n",
       "  </tbody>\n",
       "</table>\n",
       "<p>1187 rows × 3 columns</p>\n",
       "</div>"
      ],
      "text/plain": [
       "                       movie        ROI       director_name\n",
       "1077  The Fault in Our Stars  24.597236          Josh Boone\n",
       "1124               Halloween  24.490067  David Gordon Green\n",
       "1048              Black Swan  24.482055    Darren Aronofsky\n",
       "868               La La Land  20.317558     Damien Chazelle\n",
       "1002     Annabelle: Creation  19.358991   David F. Sandberg\n",
       "...                      ...        ...                 ...\n",
       "779          Accidental Love  -0.994791    David O. Russell\n",
       "670         Freaks of Nature  -0.997850    Robbie Pickering\n",
       "524               Foodfight!  -0.998362   Lawrence Kasanoff\n",
       "1108   10 Days in a Madhouse  -0.998782       Timothy Hines\n",
       "1036           Broken Horses  -0.999769  Vidhu Vinod Chopra\n",
       "\n",
       "[1187 rows x 3 columns]"
      ]
     },
     "execution_count": 55,
     "metadata": {},
     "output_type": "execute_result"
    }
   ],
   "source": [
    "d_info_all = pd.merge(left= tn_movie, right = directors, how = \"inner\", left_on=[\"start_year\",\"movie\"],\\\n",
    "                  right_on=[\"start_year\",\"title\"])\n",
    "\n",
    "#Filter out the dead and lower mid budget (less than $10 mil)\n",
    "dia = d_info_all[(d_info_all[\"dead\"].isna()) & (d_info_all[\"production_budget\"]>= 10000000)]\n",
    "\n",
    "#Give us the column we want\n",
    "dia2 = dia[[\"movie\", \"ROI\", \"director_name\"]]\n",
    "dia2.sort_values(by = [\"ROI\"], ascending = False)"
   ]
  },
  {
   "cell_type": "markdown",
   "metadata": {},
   "source": [
    "## Getting the mean ROI to determine the directors' average ROI as many have done high and low budget films."
   ]
  },
  {
   "cell_type": "code",
   "execution_count": 56,
   "metadata": {},
   "outputs": [
    {
     "data": {
      "text/html": [
       "<div>\n",
       "<style scoped>\n",
       "    .dataframe tbody tr th:only-of-type {\n",
       "        vertical-align: middle;\n",
       "    }\n",
       "\n",
       "    .dataframe tbody tr th {\n",
       "        vertical-align: top;\n",
       "    }\n",
       "\n",
       "    .dataframe thead th {\n",
       "        text-align: right;\n",
       "    }\n",
       "</style>\n",
       "<table border=\"1\" class=\"dataframe\">\n",
       "  <thead>\n",
       "    <tr style=\"text-align: right;\">\n",
       "      <th></th>\n",
       "      <th>ROI</th>\n",
       "    </tr>\n",
       "    <tr>\n",
       "      <th>director_name</th>\n",
       "      <th></th>\n",
       "    </tr>\n",
       "  </thead>\n",
       "  <tbody>\n",
       "    <tr>\n",
       "      <th>Josh Boone</th>\n",
       "      <td>24.597236</td>\n",
       "    </tr>\n",
       "    <tr>\n",
       "      <th>John Krasinski</th>\n",
       "      <td>18.677782</td>\n",
       "    </tr>\n",
       "    <tr>\n",
       "      <th>Adam Robitel</th>\n",
       "      <td>15.788559</td>\n",
       "    </tr>\n",
       "    <tr>\n",
       "      <th>Andy Muschietti</th>\n",
       "      <td>13.900204</td>\n",
       "    </tr>\n",
       "    <tr>\n",
       "      <th>Kyle Balda</th>\n",
       "      <td>13.738294</td>\n",
       "    </tr>\n",
       "    <tr>\n",
       "      <th>...</th>\n",
       "      <td>...</td>\n",
       "    </tr>\n",
       "    <tr>\n",
       "      <th>David Hayter</th>\n",
       "      <td>-0.994725</td>\n",
       "    </tr>\n",
       "    <tr>\n",
       "      <th>Robbie Pickering</th>\n",
       "      <td>-0.997850</td>\n",
       "    </tr>\n",
       "    <tr>\n",
       "      <th>Lawrence Kasanoff</th>\n",
       "      <td>-0.998362</td>\n",
       "    </tr>\n",
       "    <tr>\n",
       "      <th>Timothy Hines</th>\n",
       "      <td>-0.998782</td>\n",
       "    </tr>\n",
       "    <tr>\n",
       "      <th>Vidhu Vinod Chopra</th>\n",
       "      <td>-0.999769</td>\n",
       "    </tr>\n",
       "  </tbody>\n",
       "</table>\n",
       "<p>765 rows × 1 columns</p>\n",
       "</div>"
      ],
      "text/plain": [
       "                          ROI\n",
       "director_name                \n",
       "Josh Boone          24.597236\n",
       "John Krasinski      18.677782\n",
       "Adam Robitel        15.788559\n",
       "Andy Muschietti     13.900204\n",
       "Kyle Balda          13.738294\n",
       "...                       ...\n",
       "David Hayter        -0.994725\n",
       "Robbie Pickering    -0.997850\n",
       "Lawrence Kasanoff   -0.998362\n",
       "Timothy Hines       -0.998782\n",
       "Vidhu Vinod Chopra  -0.999769\n",
       "\n",
       "[765 rows x 1 columns]"
      ]
     },
     "execution_count": 56,
     "metadata": {},
     "output_type": "execute_result"
    }
   ],
   "source": [
    "d_roi = dia2.groupby(['director_name']).mean().sort_values(by=[\"ROI\"], ascending = False)\n",
    "d_roi\n"
   ]
  },
  {
   "cell_type": "code",
   "execution_count": 65,
   "metadata": {},
   "outputs": [
    {
     "data": {
      "text/plain": [
       "''"
      ]
     },
     "execution_count": 65,
     "metadata": {},
     "output_type": "execute_result"
    },
    {
     "data": {
      "image/png": "[encoded data removed]",
      "text/plain": [
       "<Figure size 1440x576 with 1 Axes>"
      ]
     },
     "metadata": {
      "needs_background": "light"
     },
     "output_type": "display_data"
    }
   ],
   "source": [
    "fig, ax = plt.subplots(figsize = (20,8))\n",
    "\n",
    "d_roi2 = d_roi.head(20)\n",
    "\n",
    "ax.bar(\n",
    "    x=d_roi2.index,\n",
    "    height=d_roi2[\"ROI\"]\n",
    ")\n",
    "plt.xticks(fontsize = 15, rotation = 65)\n",
    "ax.set_title(\"Directors with Top 20 Average ROI\", fontsize = 25)\n",
    "ax.set_xlabel(\"Directors\", fontsize =20)\n",
    "ax.set_ylabel(\"ROI Returned\", fontsize =20)\n",
    "# plt.savefig('director_roi.png')\n",
    ";"
   ]
  },
  {
   "cell_type": "code",
   "execution_count": null,
   "metadata": {},
   "outputs": [],
   "source": []
  },
  {
   "cell_type": "code",
   "execution_count": null,
   "metadata": {},
   "outputs": [],
   "source": []
  },
  {
   "cell_type": "code",
   "execution_count": null,
   "metadata": {},
   "outputs": [],
   "source": []
  },
  {
   "cell_type": "code",
   "execution_count": null,
   "metadata": {},
   "outputs": [],
   "source": []
  },
  {
   "cell_type": "code",
   "execution_count": null,
   "metadata": {},
   "outputs": [],
   "source": []
  },
  {
   "cell_type": "code",
   "execution_count": null,
   "metadata": {},
   "outputs": [],
   "source": []
  },
  {
   "cell_type": "code",
   "execution_count": null,
   "metadata": {},
   "outputs": [],
   "source": []
  },
  {
   "cell_type": "code",
   "execution_count": null,
   "metadata": {},
   "outputs": [],
   "source": []
  },
  {
   "cell_type": "code",
   "execution_count": null,
   "metadata": {},
   "outputs": [],
   "source": []
  },
  {
   "cell_type": "markdown",
   "metadata": {},
   "source": [
    "# Writer Profitablity/ROI"
   ]
  },
  {
   "cell_type": "code",
   "execution_count": 50,
   "metadata": {},
   "outputs": [],
   "source": [
    "movie_to_writer = \"\"\"\n",
    "SELECT mb.primary_title AS title,\n",
    "    mb.start_year,\n",
    "    w.person_id, \n",
    "    p.primary_name as writer_name,\n",
    "    p.death_year as dead\n",
    "    \n",
    "FROM movie_basics AS mb \n",
    "JOIN writers AS w \n",
    "    ON mb.movie_id = w.movie_id \n",
    "JOIN persons as p\n",
    "    ON p.person_id= w.person_id\n",
    "\n",
    "\n",
    "ORDER BY primary_title ASC;\"\"\"\n"
   ]
  },
  {
   "cell_type": "code",
   "execution_count": 51,
   "metadata": {},
   "outputs": [],
   "source": [
    "writers = pd.read_sql(movie_to_writer, conn)\n",
    "writers = writers.drop_duplicates() "
   ]
  },
  {
   "cell_type": "code",
   "execution_count": 58,
   "metadata": {},
   "outputs": [
    {
     "data": {
      "text/html": [
       "<div>\n",
       "<style scoped>\n",
       "    .dataframe tbody tr th:only-of-type {\n",
       "        vertical-align: middle;\n",
       "    }\n",
       "\n",
       "    .dataframe tbody tr th {\n",
       "        vertical-align: top;\n",
       "    }\n",
       "\n",
       "    .dataframe thead th {\n",
       "        text-align: right;\n",
       "    }\n",
       "</style>\n",
       "<table border=\"1\" class=\"dataframe\">\n",
       "  <thead>\n",
       "    <tr style=\"text-align: right;\">\n",
       "      <th></th>\n",
       "      <th>movie</th>\n",
       "      <th>ROI</th>\n",
       "      <th>writer_name</th>\n",
       "    </tr>\n",
       "  </thead>\n",
       "  <tbody>\n",
       "    <tr>\n",
       "      <th>2783</th>\n",
       "      <td>The Fault in Our Stars</td>\n",
       "      <td>24.597236</td>\n",
       "      <td>Scott Neustadter</td>\n",
       "    </tr>\n",
       "    <tr>\n",
       "      <th>2782</th>\n",
       "      <td>The Fault in Our Stars</td>\n",
       "      <td>24.597236</td>\n",
       "      <td>Michael H. Weber</td>\n",
       "    </tr>\n",
       "    <tr>\n",
       "      <th>2781</th>\n",
       "      <td>The Fault in Our Stars</td>\n",
       "      <td>24.597236</td>\n",
       "      <td>John Green</td>\n",
       "    </tr>\n",
       "    <tr>\n",
       "      <th>1318</th>\n",
       "      <td>Halloween</td>\n",
       "      <td>24.490067</td>\n",
       "      <td>Danny McBride</td>\n",
       "    </tr>\n",
       "    <tr>\n",
       "      <th>1315</th>\n",
       "      <td>Halloween</td>\n",
       "      <td>24.490067</td>\n",
       "      <td>John Carpenter</td>\n",
       "    </tr>\n",
       "    <tr>\n",
       "      <th>...</th>\n",
       "      <td>...</td>\n",
       "      <td>...</td>\n",
       "      <td>...</td>\n",
       "    </tr>\n",
       "    <tr>\n",
       "      <th>2</th>\n",
       "      <td>Foodfight!</td>\n",
       "      <td>-0.998362</td>\n",
       "      <td>Lawrence Kasanoff</td>\n",
       "    </tr>\n",
       "    <tr>\n",
       "      <th>0</th>\n",
       "      <td>Foodfight!</td>\n",
       "      <td>-0.998362</td>\n",
       "      <td>Sean Catherine Derek</td>\n",
       "    </tr>\n",
       "    <tr>\n",
       "      <th>3129</th>\n",
       "      <td>10 Days in a Madhouse</td>\n",
       "      <td>-0.998782</td>\n",
       "      <td>Timothy Hines</td>\n",
       "    </tr>\n",
       "    <tr>\n",
       "      <th>2730</th>\n",
       "      <td>Broken Horses</td>\n",
       "      <td>-0.999769</td>\n",
       "      <td>Abhijat Joshi</td>\n",
       "    </tr>\n",
       "    <tr>\n",
       "      <th>2729</th>\n",
       "      <td>Broken Horses</td>\n",
       "      <td>-0.999769</td>\n",
       "      <td>Vidhu Vinod Chopra</td>\n",
       "    </tr>\n",
       "  </tbody>\n",
       "</table>\n",
       "<p>2896 rows × 3 columns</p>\n",
       "</div>"
      ],
      "text/plain": [
       "                       movie        ROI           writer_name\n",
       "2783  The Fault in Our Stars  24.597236      Scott Neustadter\n",
       "2782  The Fault in Our Stars  24.597236      Michael H. Weber\n",
       "2781  The Fault in Our Stars  24.597236            John Green\n",
       "1318               Halloween  24.490067         Danny McBride\n",
       "1315               Halloween  24.490067        John Carpenter\n",
       "...                      ...        ...                   ...\n",
       "2                 Foodfight!  -0.998362     Lawrence Kasanoff\n",
       "0                 Foodfight!  -0.998362  Sean Catherine Derek\n",
       "3129   10 Days in a Madhouse  -0.998782         Timothy Hines\n",
       "2730           Broken Horses  -0.999769         Abhijat Joshi\n",
       "2729           Broken Horses  -0.999769    Vidhu Vinod Chopra\n",
       "\n",
       "[2896 rows x 3 columns]"
      ]
     },
     "execution_count": 58,
     "metadata": {},
     "output_type": "execute_result"
    }
   ],
   "source": [
    "w_info_all = pd.merge(left= imdb_basics, right = writers, how = \"inner\", left_on=[\"movie\", \"start_year\"],\\\n",
    "                  right_on=[\"title\", \"start_year\"])\n",
    "\n",
    "#Filter out the dead and lower - mid budget (less than $10 mil)\n",
    "wia = w_info_all[(w_info_all[\"dead\"].isna()) & (w_info_all[\"production_budget\"]>= 10000000)]\n",
    "\n",
    "#Give us the column we want\n",
    "wia2 = wia[[\"movie\", \"ROI\", \"writer_name\"]]\n",
    "wia2.sort_values(by = [\"ROI\"], ascending = False)"
   ]
  },
  {
   "cell_type": "markdown",
   "metadata": {},
   "source": [
    "## Getting the mean ROI to determine the writers' average ROI. Many have written highly profitable as many have done high and low budget films."
   ]
  },
  {
   "cell_type": "code",
   "execution_count": 59,
   "metadata": {},
   "outputs": [
    {
     "data": {
      "text/html": [
       "<div>\n",
       "<style scoped>\n",
       "    .dataframe tbody tr th:only-of-type {\n",
       "        vertical-align: middle;\n",
       "    }\n",
       "\n",
       "    .dataframe tbody tr th {\n",
       "        vertical-align: top;\n",
       "    }\n",
       "\n",
       "    .dataframe thead th {\n",
       "        text-align: right;\n",
       "    }\n",
       "</style>\n",
       "<table border=\"1\" class=\"dataframe\">\n",
       "  <thead>\n",
       "    <tr style=\"text-align: right;\">\n",
       "      <th></th>\n",
       "      <th>ROI</th>\n",
       "    </tr>\n",
       "    <tr>\n",
       "      <th>writer_name</th>\n",
       "      <th></th>\n",
       "    </tr>\n",
       "  </thead>\n",
       "  <tbody>\n",
       "    <tr>\n",
       "      <th>Jeff Fradley</th>\n",
       "      <td>24.490067</td>\n",
       "    </tr>\n",
       "    <tr>\n",
       "      <th>David Gordon Green</th>\n",
       "      <td>24.490067</td>\n",
       "    </tr>\n",
       "    <tr>\n",
       "      <th>Mark Heyman</th>\n",
       "      <td>24.482055</td>\n",
       "    </tr>\n",
       "    <tr>\n",
       "      <th>Andres Heinz</th>\n",
       "      <td>24.482055</td>\n",
       "    </tr>\n",
       "    <tr>\n",
       "      <th>Damien Chazelle</th>\n",
       "      <td>20.317558</td>\n",
       "    </tr>\n",
       "    <tr>\n",
       "      <th>...</th>\n",
       "      <td>...</td>\n",
       "    </tr>\n",
       "    <tr>\n",
       "      <th>Joshua Wexler</th>\n",
       "      <td>-0.998362</td>\n",
       "    </tr>\n",
       "    <tr>\n",
       "      <th>Rebecca Swanson</th>\n",
       "      <td>-0.998362</td>\n",
       "    </tr>\n",
       "    <tr>\n",
       "      <th>Timothy Hines</th>\n",
       "      <td>-0.998782</td>\n",
       "    </tr>\n",
       "    <tr>\n",
       "      <th>Vidhu Vinod Chopra</th>\n",
       "      <td>-0.999769</td>\n",
       "    </tr>\n",
       "    <tr>\n",
       "      <th>Abhijat Joshi</th>\n",
       "      <td>-0.999769</td>\n",
       "    </tr>\n",
       "  </tbody>\n",
       "</table>\n",
       "<p>1828 rows × 1 columns</p>\n",
       "</div>"
      ],
      "text/plain": [
       "                          ROI\n",
       "writer_name                  \n",
       "Jeff Fradley        24.490067\n",
       "David Gordon Green  24.490067\n",
       "Mark Heyman         24.482055\n",
       "Andres Heinz        24.482055\n",
       "Damien Chazelle     20.317558\n",
       "...                       ...\n",
       "Joshua Wexler       -0.998362\n",
       "Rebecca Swanson     -0.998362\n",
       "Timothy Hines       -0.998782\n",
       "Vidhu Vinod Chopra  -0.999769\n",
       "Abhijat Joshi       -0.999769\n",
       "\n",
       "[1828 rows x 1 columns]"
      ]
     },
     "execution_count": 59,
     "metadata": {},
     "output_type": "execute_result"
    }
   ],
   "source": [
    "w_roi = wia2.groupby(['writer_name']).mean().sort_values(by=[\"ROI\"], ascending = False)\n",
    "w_roi "
   ]
  },
  {
   "cell_type": "code",
   "execution_count": 60,
   "metadata": {},
   "outputs": [
    {
     "data": {
      "text/plain": [
       "''"
      ]
     },
     "execution_count": 60,
     "metadata": {},
     "output_type": "execute_result"
    },
    {
     "data": {
      "image/png": "[encoded data removed]",
      "text/plain": [
       "<Figure size 1440x576 with 1 Axes>"
      ]
     },
     "metadata": {
      "needs_background": "light"
     },
     "output_type": "display_data"
    }
   ],
   "source": [
    "fig, ax = plt.subplots(figsize = (20,8))\n",
    "\n",
    "w_roi2 = w_roi.head(20)  #\n",
    "\n",
    "ax.bar(\n",
    "    x=w_roi2.index,\n",
    "    height=w_roi2[\"ROI\"]\n",
    ")\n",
    "ax.set(title = \"Writers with Top 20 ROI\", xlabel = \"Writers\", ylabel = \"ROI Returned\")\n",
    "plt.xticks(fontsize = 15, rotation = 65)\n",
    "ax.set_title(\"Writers with Top 20 Average ROI\", fontsize = 25)\n",
    "ax.set_xlabel(\"Writers\", fontsize =20)\n",
    "ax.set_ylabel(\"ROI Returned\", fontsize =20)\n",
    "# plt.savefig('writer_roi.png')\n",
    ";"
   ]
  },
  {
   "cell_type": "code",
   "execution_count": null,
   "metadata": {},
   "outputs": [],
   "source": []
  },
  {
   "cell_type": "code",
   "execution_count": null,
   "metadata": {},
   "outputs": [],
   "source": []
  },
  {
   "cell_type": "code",
   "execution_count": null,
   "metadata": {},
   "outputs": [],
   "source": []
  },
  {
   "cell_type": "code",
   "execution_count": null,
   "metadata": {},
   "outputs": [],
   "source": []
  },
  {
   "cell_type": "code",
   "execution_count": null,
   "metadata": {},
   "outputs": [],
   "source": []
  },
  {
   "cell_type": "code",
   "execution_count": null,
   "metadata": {},
   "outputs": [],
   "source": []
  },
  {
   "cell_type": "markdown",
   "metadata": {},
   "source": [
    "# Appendix: \n",
    "\n",
    "#### Is critical reception correlated to ROI? Worldwide Gross? Domestic Gross?"
   ]
  },
  {
   "cell_type": "code",
   "execution_count": 61,
   "metadata": {},
   "outputs": [],
   "source": [
    "mb_to_ratings = \"\"\"\n",
    "SELECT mb.primary_title AS title,\n",
    "    mb.start_year,\n",
    "    rt.averagerating,\n",
    "    rt.numvotes\n",
    "    \n",
    "FROM movie_basics AS mb \n",
    "JOIN movie_ratings AS rt\n",
    "    ON mb.movie_id = rt.movie_id \n",
    "\n",
    "ORDER BY rt.numvotes DESC;\"\"\"\n",
    "\n",
    "movie_ratings = pd.read_sql(mb_to_ratings, conn)"
   ]
  },
  {
   "cell_type": "code",
   "execution_count": 62,
   "metadata": {},
   "outputs": [
    {
     "data": {
      "text/html": [
       "<div>\n",
       "<style scoped>\n",
       "    .dataframe tbody tr th:only-of-type {\n",
       "        vertical-align: middle;\n",
       "    }\n",
       "\n",
       "    .dataframe tbody tr th {\n",
       "        vertical-align: top;\n",
       "    }\n",
       "\n",
       "    .dataframe thead th {\n",
       "        text-align: right;\n",
       "    }\n",
       "</style>\n",
       "<table border=\"1\" class=\"dataframe\">\n",
       "  <thead>\n",
       "    <tr style=\"text-align: right;\">\n",
       "      <th></th>\n",
       "      <th>title</th>\n",
       "      <th>production_budget</th>\n",
       "      <th>domestic_gross</th>\n",
       "      <th>worldwide_gross</th>\n",
       "      <th>ROI</th>\n",
       "      <th>averagerating</th>\n",
       "      <th>numvotes</th>\n",
       "    </tr>\n",
       "  </thead>\n",
       "  <tbody>\n",
       "    <tr>\n",
       "      <th>253</th>\n",
       "      <td>Inception</td>\n",
       "      <td>160000000</td>\n",
       "      <td>292576195</td>\n",
       "      <td>835524642</td>\n",
       "      <td>4.222029</td>\n",
       "      <td>8.8</td>\n",
       "      <td>1841066</td>\n",
       "    </tr>\n",
       "    <tr>\n",
       "      <th>55</th>\n",
       "      <td>Interstellar</td>\n",
       "      <td>165000000</td>\n",
       "      <td>188017894</td>\n",
       "      <td>666379375</td>\n",
       "      <td>3.038663</td>\n",
       "      <td>8.6</td>\n",
       "      <td>1299334</td>\n",
       "    </tr>\n",
       "    <tr>\n",
       "      <th>759</th>\n",
       "      <td>Avengers: Infinity War</td>\n",
       "      <td>300000000</td>\n",
       "      <td>678815482</td>\n",
       "      <td>2048134200</td>\n",
       "      <td>5.827114</td>\n",
       "      <td>8.5</td>\n",
       "      <td>670926</td>\n",
       "    </tr>\n",
       "    <tr>\n",
       "      <th>471</th>\n",
       "      <td>Django Unchained</td>\n",
       "      <td>100000000</td>\n",
       "      <td>162805434</td>\n",
       "      <td>449948323</td>\n",
       "      <td>3.499483</td>\n",
       "      <td>8.4</td>\n",
       "      <td>1211405</td>\n",
       "    </tr>\n",
       "    <tr>\n",
       "      <th>613</th>\n",
       "      <td>Coco</td>\n",
       "      <td>175000000</td>\n",
       "      <td>209726015</td>\n",
       "      <td>798008101</td>\n",
       "      <td>3.560046</td>\n",
       "      <td>8.4</td>\n",
       "      <td>277194</td>\n",
       "    </tr>\n",
       "    <tr>\n",
       "      <th>...</th>\n",
       "      <td>...</td>\n",
       "      <td>...</td>\n",
       "      <td>...</td>\n",
       "      <td>...</td>\n",
       "      <td>...</td>\n",
       "      <td>...</td>\n",
       "      <td>...</td>\n",
       "    </tr>\n",
       "    <tr>\n",
       "      <th>114</th>\n",
       "      <td>The Legend of Hercules</td>\n",
       "      <td>70000000</td>\n",
       "      <td>18848538</td>\n",
       "      <td>58953319</td>\n",
       "      <td>-0.157810</td>\n",
       "      <td>4.2</td>\n",
       "      <td>50352</td>\n",
       "    </tr>\n",
       "    <tr>\n",
       "      <th>599</th>\n",
       "      <td>Fifty Shades of Grey</td>\n",
       "      <td>40000000</td>\n",
       "      <td>166167230</td>\n",
       "      <td>570998101</td>\n",
       "      <td>13.274953</td>\n",
       "      <td>4.1</td>\n",
       "      <td>279126</td>\n",
       "    </tr>\n",
       "    <tr>\n",
       "      <th>80</th>\n",
       "      <td>The Last Airbender</td>\n",
       "      <td>150000000</td>\n",
       "      <td>131772187</td>\n",
       "      <td>319713881</td>\n",
       "      <td>1.131426</td>\n",
       "      <td>4.1</td>\n",
       "      <td>137734</td>\n",
       "    </tr>\n",
       "    <tr>\n",
       "      <th>50</th>\n",
       "      <td>Jack and Jill</td>\n",
       "      <td>79000000</td>\n",
       "      <td>74158157</td>\n",
       "      <td>150519217</td>\n",
       "      <td>0.905307</td>\n",
       "      <td>3.3</td>\n",
       "      <td>71361</td>\n",
       "    </tr>\n",
       "    <tr>\n",
       "      <th>427</th>\n",
       "      <td>Justin Bieber: Never Say Never</td>\n",
       "      <td>13000000</td>\n",
       "      <td>73013910</td>\n",
       "      <td>99034125</td>\n",
       "      <td>6.618010</td>\n",
       "      <td>1.6</td>\n",
       "      <td>74978</td>\n",
       "    </tr>\n",
       "  </tbody>\n",
       "</table>\n",
       "<p>737 rows × 7 columns</p>\n",
       "</div>"
      ],
      "text/plain": [
       "                              title  production_budget  domestic_gross  \\\n",
       "253                       Inception          160000000       292576195   \n",
       "55                     Interstellar          165000000       188017894   \n",
       "759          Avengers: Infinity War          300000000       678815482   \n",
       "471                Django Unchained          100000000       162805434   \n",
       "613                            Coco          175000000       209726015   \n",
       "..                              ...                ...             ...   \n",
       "114          The Legend of Hercules           70000000        18848538   \n",
       "599            Fifty Shades of Grey           40000000       166167230   \n",
       "80               The Last Airbender          150000000       131772187   \n",
       "50                    Jack and Jill           79000000        74158157   \n",
       "427  Justin Bieber: Never Say Never           13000000        73013910   \n",
       "\n",
       "     worldwide_gross        ROI  averagerating  numvotes  \n",
       "253        835524642   4.222029            8.8   1841066  \n",
       "55         666379375   3.038663            8.6   1299334  \n",
       "759       2048134200   5.827114            8.5    670926  \n",
       "471        449948323   3.499483            8.4   1211405  \n",
       "613        798008101   3.560046            8.4    277194  \n",
       "..               ...        ...            ...       ...  \n",
       "114         58953319  -0.157810            4.2     50352  \n",
       "599        570998101  13.274953            4.1    279126  \n",
       "80         319713881   1.131426            4.1    137734  \n",
       "50         150519217   0.905307            3.3     71361  \n",
       "427         99034125   6.618010            1.6     74978  \n",
       "\n",
       "[737 rows x 7 columns]"
      ]
     },
     "execution_count": 62,
     "metadata": {},
     "output_type": "execute_result"
    }
   ],
   "source": [
    "crit_rate = movie_ratings[(movie_ratings[\"numvotes\"]>= 50000)]\n",
    "#Preventing low rating numbers from affecting results\n",
    "    \n",
    "    \n",
    "crit_all = pd.merge(left= imdb_basics, right = crit_rate, how = \"inner\", left_on=[\"movie\", \"start_year\"],\\\n",
    "                  right_on=[\"title\", \"start_year\"])\n",
    "\n",
    "crit_use_unsort = crit_all[[\"title\",\"production_budget\",\"domestic_gross\", \"worldwide_gross\", \"ROI\", \\\n",
    "                            \"averagerating\", \"numvotes\" ]]\n",
    "\n",
    "crit_use_unsort2=crit_use_unsort[(crit_use_unsort[\"production_budget\"] >= 10000000)] \n",
    "#Filtering data further by only looking at movies with production budgets of $10 million or more\n",
    "\n",
    "crit_use = crit_use_unsort2.sort_values(by = [\"averagerating\"], ascending = False)\n",
    "crit_use"
   ]
  },
  {
   "cell_type": "code",
   "execution_count": 64,
   "metadata": {},
   "outputs": [
    {
     "data": {
      "text/plain": [
       "''"
      ]
     },
     "execution_count": 64,
     "metadata": {},
     "output_type": "execute_result"
    },
    {
     "data": {
      "image/png": "[encoded data removed]",
      "text/plain": [
       "<Figure size 864x576 with 1 Axes>"
      ]
     },
     "metadata": {
      "needs_background": "light"
     },
     "output_type": "display_data"
    }
   ],
   "source": [
    "from matplotlib import pyplot as plt\n",
    "\n",
    "fig, ax = plt.subplots(figsize=(12,8))\n",
    "\n",
    "rate = crit_use[\"averagerating\"]\n",
    "wwgross = crit_use[\"worldwide_gross\"]\n",
    "dgross = crit_use[\"domestic_gross\"]\n",
    "roi = crit_use[\"ROI\"]\n",
    "\n",
    "\n",
    "ax.scatter(x = rate, y =wwgross,  s = 75, color = \"blue\", alpha = .5)\n",
    "\n",
    "\n",
    "\n",
    "plt.xticks(fontsize = 15)\n",
    "plt.yticks(fontsize = 15)\n",
    "ax.set_title(\"Scatter Plot of Average Rating to Worldwide Gross\", fontsize = 25)\n",
    "ax.set_xlabel(\"Average Rating of Film\", fontsize =17)\n",
    "ax.set_ylabel(\"Worldwide Gross (in Billions of Dollars)\", fontsize =17)\n",
    "# plt.savefig('rate_avg_to_gross')\n",
    ";\n",
    "\n"
   ]
  },
  {
   "cell_type": "code",
   "execution_count": 450,
   "metadata": {},
   "outputs": [
    {
     "name": "stdout",
     "output_type": "stream",
     "text": [
      "Person Correslation between average critical rating and ROI is:  0.1569574217794212\n",
      "Person Correslation between average critical rating and worldwide gross is:  0.24975286953759598\n",
      "Person Correslation between average critical rating and domestic gross is:  0.2829230120968297\n"
     ]
    }
   ],
   "source": [
    "correlation_roi = rate.corr(roi)\n",
    "correlation_ww = rate.corr(wwgross)\n",
    "correlation_d = rate.corr(dgross)\n",
    "\n",
    "print(\"Person Correslation between average critical rating and ROI is: \", correlation_roi)\n",
    "print(\"Person Correslation between average critical rating and worldwide gross is: \", correlation_ww)\n",
    "print(\"Person Correslation between average critical rating and domestic gross is: \", correlation_d)\n"
   ]
  },
  {
   "cell_type": "markdown",
   "metadata": {},
   "source": [
    "#### So there is a positve correlation between critcal rating and ROI/Worldwide gross/domestic gross but its not a high/significant result."
   ]
  },
  {
   "cell_type": "code",
   "execution_count": null,
   "metadata": {},
   "outputs": [],
   "source": []
  },
  {
   "cell_type": "markdown",
   "metadata": {},
   "source": [
    "# BUT WHO IS THE LOW BUDGET KING/QUEEN?"
   ]
  },
  {
   "cell_type": "code",
   "execution_count": null,
   "metadata": {},
   "outputs": [],
   "source": []
  },
  {
   "cell_type": "code",
   "execution_count": null,
   "metadata": {},
   "outputs": [],
   "source": []
  },
  {
   "cell_type": "code",
   "execution_count": null,
   "metadata": {},
   "outputs": [],
   "source": []
  },
  {
   "cell_type": "markdown",
   "metadata": {},
   "source": [
    "# Future\n",
    "### Look into the ROI for actors/actresses to help narrow down casting\n",
    "### Narrow down writers by region/language to get even more relevant results\n",
    "### Figure out if runtime affects profitability \n",
    "### Track if a directors ROI can be predicted through modeling (ex. If certain director is given budget X, the ROI will most likely be in Y range\n",
    "### Create a program that you can enter one or more of several variables, and will output ideal director/writer/time of release/etc. based on your input"
   ]
  },
  {
   "cell_type": "markdown",
   "metadata": {},
   "source": [
    "### Look into the ROI for actors/actresses to help narrow down casting\n"
   ]
  },
  {
   "cell_type": "markdown",
   "metadata": {},
   "source": [
    "# ACTOR/ACTRESS ROI"
   ]
  },
  {
   "cell_type": "code",
   "execution_count": 251,
   "metadata": {},
   "outputs": [],
   "source": [
    "# movie_to_principals = \"\"\"\n",
    "# SELECT mb.primary_title AS title,\n",
    "#     mb.start_year,\n",
    "#     prin.person_id, \n",
    "#     p.primary_name as name,\n",
    "#     p.primary_profession,\n",
    "#     p.death_year as dead,\n",
    "#     a.region\n",
    "\n",
    "    \n",
    "# FROM movie_basics AS mb \n",
    "# JOIN principals AS prin\n",
    "#     ON prin.movie_id = mb.movie_id \n",
    "# JOIN persons as p\n",
    "#     ON p.person_id= prin.person_id\n",
    "# JOIN movie_akas AS a\n",
    "#     ON mb.movie_id = a.movie_id \n",
    "    \n",
    "\n",
    "\n",
    "# ORDER BY primary_title ASC;\"\"\"\n",
    "\n",
    "# mov2prin = pd.read_sql(movie_to_principals, conn)\n",
    "\n"
   ]
  },
  {
   "cell_type": "code",
   "execution_count": 252,
   "metadata": {},
   "outputs": [],
   "source": [
    "# mov2prin[\"primary_profession\"] = mov2prin[\"primary_profession\"].map(lambda x : str(x).split(\",\"))\n",
    "# "
   ]
  },
  {
   "cell_type": "code",
   "execution_count": null,
   "metadata": {},
   "outputs": [],
   "source": [
    "# mov2prin[y in [\"actor\", \"actress\"], for y in (mov2prin[\"primary_profession\"] )]"
   ]
  },
  {
   "cell_type": "code",
   "execution_count": 312,
   "metadata": {},
   "outputs": [],
   "source": [
    "# mov2prin[mov2prin[\"primary_profession\"].map(lambda x : mov2prin[\"primary_profession\"][x] == \"actor\" )]"
   ]
  },
  {
   "cell_type": "code",
   "execution_count": null,
   "metadata": {},
   "outputs": [],
   "source": []
  },
  {
   "cell_type": "code",
   "execution_count": null,
   "metadata": {},
   "outputs": [],
   "source": []
  },
  {
   "cell_type": "code",
   "execution_count": null,
   "metadata": {},
   "outputs": [],
   "source": []
  }
 ],
 "metadata": {
  "kernelspec": {
   "display_name": "Python (learn-env)",
   "language": "python",
   "name": "learn-env"
  },
  "language_info": {
   "codemirror_mode": {
    "name": "ipython",
    "version": 3
   },
   "file_extension": ".py",
   "mimetype": "text/x-python",
   "name": "python",
   "nbconvert_exporter": "python",
   "pygments_lexer": "ipython3",
   "version": "3.8.5"
  }
 },
 "nbformat": 4,
 "nbformat_minor": 4
}
