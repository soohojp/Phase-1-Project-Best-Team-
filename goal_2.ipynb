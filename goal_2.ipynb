{
 "cells": [
  {
   "cell_type": "code",
   "execution_count": 313,
   "metadata": {},
   "outputs": [],
   "source": [
    "import pandas as pd\n",
    "import sqlite3\n",
    "import zipfile\n",
    "from  pandasql import sqldf\n",
    "from matplotlib import pyplot as plt\n"
   ]
  },
  {
   "cell_type": "code",
   "execution_count": 11,
   "metadata": {},
   "outputs": [
    {
     "data": {
      "text/html": [
       "<div>\n",
       "<style scoped>\n",
       "    .dataframe tbody tr th:only-of-type {\n",
       "        vertical-align: middle;\n",
       "    }\n",
       "\n",
       "    .dataframe tbody tr th {\n",
       "        vertical-align: top;\n",
       "    }\n",
       "\n",
       "    .dataframe thead th {\n",
       "        text-align: right;\n",
       "    }\n",
       "</style>\n",
       "<table border=\"1\" class=\"dataframe\">\n",
       "  <thead>\n",
       "    <tr style=\"text-align: right;\">\n",
       "      <th></th>\n",
       "      <th>id</th>\n",
       "      <th>release_date</th>\n",
       "      <th>movie</th>\n",
       "      <th>production_budget</th>\n",
       "      <th>domestic_gross</th>\n",
       "      <th>worldwide_gross</th>\n",
       "      <th>ROI</th>\n",
       "      <th>start_year</th>\n",
       "    </tr>\n",
       "  </thead>\n",
       "  <tbody>\n",
       "    <tr>\n",
       "      <th>0</th>\n",
       "      <td>1</td>\n",
       "      <td>Dec 18, 2009</td>\n",
       "      <td>Avatar</td>\n",
       "      <td>425000000</td>\n",
       "      <td>760507625</td>\n",
       "      <td>2776345279</td>\n",
       "      <td>5.532577</td>\n",
       "      <td>2009</td>\n",
       "    </tr>\n",
       "    <tr>\n",
       "      <th>1</th>\n",
       "      <td>2</td>\n",
       "      <td>May 20, 2011</td>\n",
       "      <td>Pirates of the Caribbean: On Stranger Tides</td>\n",
       "      <td>410600000</td>\n",
       "      <td>241063875</td>\n",
       "      <td>1045663875</td>\n",
       "      <td>1.546673</td>\n",
       "      <td>2011</td>\n",
       "    </tr>\n",
       "    <tr>\n",
       "      <th>2</th>\n",
       "      <td>3</td>\n",
       "      <td>Jun 7, 2019</td>\n",
       "      <td>Dark Phoenix</td>\n",
       "      <td>350000000</td>\n",
       "      <td>42762350</td>\n",
       "      <td>149762350</td>\n",
       "      <td>-0.572108</td>\n",
       "      <td>2019</td>\n",
       "    </tr>\n",
       "    <tr>\n",
       "      <th>3</th>\n",
       "      <td>4</td>\n",
       "      <td>May 1, 2015</td>\n",
       "      <td>Avengers: Age of Ultron</td>\n",
       "      <td>330600000</td>\n",
       "      <td>459005868</td>\n",
       "      <td>1403013963</td>\n",
       "      <td>3.243841</td>\n",
       "      <td>2015</td>\n",
       "    </tr>\n",
       "    <tr>\n",
       "      <th>4</th>\n",
       "      <td>5</td>\n",
       "      <td>Dec 15, 2017</td>\n",
       "      <td>Star Wars Ep. VIII: The Last Jedi</td>\n",
       "      <td>317000000</td>\n",
       "      <td>620181382</td>\n",
       "      <td>1316721747</td>\n",
       "      <td>3.153696</td>\n",
       "      <td>2017</td>\n",
       "    </tr>\n",
       "    <tr>\n",
       "      <th>...</th>\n",
       "      <td>...</td>\n",
       "      <td>...</td>\n",
       "      <td>...</td>\n",
       "      <td>...</td>\n",
       "      <td>...</td>\n",
       "      <td>...</td>\n",
       "      <td>...</td>\n",
       "      <td>...</td>\n",
       "    </tr>\n",
       "    <tr>\n",
       "      <th>5775</th>\n",
       "      <td>76</td>\n",
       "      <td>May 26, 2006</td>\n",
       "      <td>Cavite</td>\n",
       "      <td>7000</td>\n",
       "      <td>70071</td>\n",
       "      <td>71644</td>\n",
       "      <td>9.234857</td>\n",
       "      <td>2006</td>\n",
       "    </tr>\n",
       "    <tr>\n",
       "      <th>5776</th>\n",
       "      <td>77</td>\n",
       "      <td>Dec 31, 2004</td>\n",
       "      <td>The Mongol King</td>\n",
       "      <td>7000</td>\n",
       "      <td>900</td>\n",
       "      <td>900</td>\n",
       "      <td>-0.871429</td>\n",
       "      <td>2004</td>\n",
       "    </tr>\n",
       "    <tr>\n",
       "      <th>5778</th>\n",
       "      <td>79</td>\n",
       "      <td>Apr 2, 1999</td>\n",
       "      <td>Following</td>\n",
       "      <td>6000</td>\n",
       "      <td>48482</td>\n",
       "      <td>240495</td>\n",
       "      <td>39.082500</td>\n",
       "      <td>1999</td>\n",
       "    </tr>\n",
       "    <tr>\n",
       "      <th>5779</th>\n",
       "      <td>80</td>\n",
       "      <td>Jul 13, 2005</td>\n",
       "      <td>Return to the Land of Wonders</td>\n",
       "      <td>5000</td>\n",
       "      <td>1338</td>\n",
       "      <td>1338</td>\n",
       "      <td>-0.732400</td>\n",
       "      <td>2005</td>\n",
       "    </tr>\n",
       "    <tr>\n",
       "      <th>5781</th>\n",
       "      <td>82</td>\n",
       "      <td>Aug 5, 2005</td>\n",
       "      <td>My Date With Drew</td>\n",
       "      <td>1100</td>\n",
       "      <td>181041</td>\n",
       "      <td>181041</td>\n",
       "      <td>163.582727</td>\n",
       "      <td>2005</td>\n",
       "    </tr>\n",
       "  </tbody>\n",
       "</table>\n",
       "<p>5415 rows × 8 columns</p>\n",
       "</div>"
      ],
      "text/plain": [
       "      id  release_date                                        movie  \\\n",
       "0      1  Dec 18, 2009                                       Avatar   \n",
       "1      2  May 20, 2011  Pirates of the Caribbean: On Stranger Tides   \n",
       "2      3   Jun 7, 2019                                 Dark Phoenix   \n",
       "3      4   May 1, 2015                      Avengers: Age of Ultron   \n",
       "4      5  Dec 15, 2017            Star Wars Ep. VIII: The Last Jedi   \n",
       "...   ..           ...                                          ...   \n",
       "5775  76  May 26, 2006                                       Cavite   \n",
       "5776  77  Dec 31, 2004                              The Mongol King   \n",
       "5778  79   Apr 2, 1999                                    Following   \n",
       "5779  80  Jul 13, 2005                Return to the Land of Wonders   \n",
       "5781  82   Aug 5, 2005                            My Date With Drew   \n",
       "\n",
       "      production_budget  domestic_gross  worldwide_gross         ROI  \\\n",
       "0             425000000       760507625       2776345279    5.532577   \n",
       "1             410600000       241063875       1045663875    1.546673   \n",
       "2             350000000        42762350        149762350   -0.572108   \n",
       "3             330600000       459005868       1403013963    3.243841   \n",
       "4             317000000       620181382       1316721747    3.153696   \n",
       "...                 ...             ...              ...         ...   \n",
       "5775               7000           70071            71644    9.234857   \n",
       "5776               7000             900              900   -0.871429   \n",
       "5778               6000           48482           240495   39.082500   \n",
       "5779               5000            1338             1338   -0.732400   \n",
       "5781               1100          181041           181041  163.582727   \n",
       "\n",
       "      start_year  \n",
       "0           2009  \n",
       "1           2011  \n",
       "2           2019  \n",
       "3           2015  \n",
       "4           2017  \n",
       "...          ...  \n",
       "5775        2006  \n",
       "5776        2004  \n",
       "5778        1999  \n",
       "5779        2005  \n",
       "5781        2005  \n",
       "\n",
       "[5415 rows x 8 columns]"
      ]
     },
     "execution_count": 11,
     "metadata": {},
     "output_type": "execute_result"
    }
   ],
   "source": [
    "tn_movie = pd.read_csv('zippedData/tn.movie_budgets.csv.gz')\n",
    "\n",
    "\n",
    "\n",
    "tn_movie = pd.read_csv('zippedData/tn.movie_budgets.csv.gz')\n",
    "tn_movie\n",
    "\n",
    "# remove all $ and commas for domestic gross, worldwide gross, and production budget\n",
    "\n",
    "tn_movie[\"production_budget\"]=tn_movie[\"production_budget\"].map(lambda x: int(x.replace(',', '').replace('$', '')))\n",
    "tn_movie[\"domestic_gross\"]=tn_movie[\"domestic_gross\"].map(lambda x: int(x.replace(',', '').replace('$', '')))\n",
    "tn_movie[\"worldwide_gross\"]=tn_movie[\"worldwide_gross\"].map(lambda x: int(x.replace(',', '').replace('$', '')))\n",
    "\n",
    "\n",
    "#Add ROI column\n",
    "tn_movie[\"ROI\"]= (tn_movie[\"worldwide_gross\"]- tn_movie[\"production_budget\"])/    \\\n",
    "         tn_movie[\"production_budget\"]\n",
    "\n",
    "#Add start year as int column\n",
    "\n",
    "tn_movie[\"start_year\"] = tn_movie[\"release_date\"].map(lambda x: int(x[-4:]))\n",
    "\n",
    "#eliminate any worldwide gross columns that = 0\n",
    "\n",
    "tn_movie = tn_movie [tn_movie .worldwide_gross != 0]\n",
    "\n",
    "# tn_movie"
   ]
  },
  {
   "cell_type": "code",
   "execution_count": null,
   "metadata": {},
   "outputs": [],
   "source": []
  },
  {
   "cell_type": "code",
   "execution_count": 12,
   "metadata": {},
   "outputs": [],
   "source": [
    "\n",
    "conn = sqlite3.connect('zippedData/im.db')\n",
    "cur= conn.cursor()\n",
    "# cur.execute(\"\"\"SELECT name FROM sqlite_master WHERE type = 'table';\"\"\").fetchall()"
   ]
  },
  {
   "cell_type": "code",
   "execution_count": 19,
   "metadata": {},
   "outputs": [],
   "source": [
    "q1 = \"\"\"SELECT * FROM movie_basics ;\"\"\"\n",
    "dfzip=pd.read_sql(q1, conn)\n",
    "imdb_basics = pd.merge(left= dfzip ,right = tn_movie, left_on=[\"start_year\",\"primary_title\"], \\\n",
    "                       right_on=[\"start_year\",\"movie\"], \\\n",
    "                          how = 'inner')\n",
    "# imdb_basics"
   ]
  },
  {
   "cell_type": "code",
   "execution_count": null,
   "metadata": {},
   "outputs": [],
   "source": []
  },
  {
   "cell_type": "code",
   "execution_count": null,
   "metadata": {},
   "outputs": [],
   "source": []
  },
  {
   "cell_type": "code",
   "execution_count": null,
   "metadata": {},
   "outputs": [],
   "source": []
  },
  {
   "cell_type": "code",
   "execution_count": null,
   "metadata": {},
   "outputs": [],
   "source": []
  },
  {
   "cell_type": "code",
   "execution_count": null,
   "metadata": {},
   "outputs": [],
   "source": []
  },
  {
   "cell_type": "code",
   "execution_count": null,
   "metadata": {},
   "outputs": [],
   "source": []
  },
  {
   "cell_type": "code",
   "execution_count": null,
   "metadata": {},
   "outputs": [],
   "source": []
  },
  {
   "cell_type": "code",
   "execution_count": null,
   "metadata": {},
   "outputs": [],
   "source": []
  },
  {
   "cell_type": "code",
   "execution_count": null,
   "metadata": {},
   "outputs": [],
   "source": []
  },
  {
   "cell_type": "code",
   "execution_count": null,
   "metadata": {},
   "outputs": [],
   "source": []
  },
  {
   "cell_type": "code",
   "execution_count": null,
   "metadata": {},
   "outputs": [],
   "source": []
  },
  {
   "cell_type": "code",
   "execution_count": null,
   "metadata": {},
   "outputs": [],
   "source": []
  },
  {
   "cell_type": "code",
   "execution_count": null,
   "metadata": {},
   "outputs": [],
   "source": []
  },
  {
   "cell_type": "code",
   "execution_count": null,
   "metadata": {},
   "outputs": [],
   "source": []
  },
  {
   "cell_type": "code",
   "execution_count": null,
   "metadata": {},
   "outputs": [],
   "source": []
  },
  {
   "cell_type": "code",
   "execution_count": null,
   "metadata": {},
   "outputs": [],
   "source": []
  },
  {
   "cell_type": "markdown",
   "metadata": {},
   "source": [
    "# Goal 2 - Writer and Driector Profitablity\n"
   ]
  },
  {
   "cell_type": "markdown",
   "metadata": {},
   "source": [
    "# Director Profitablity/ROI"
   ]
  },
  {
   "cell_type": "code",
   "execution_count": 295,
   "metadata": {},
   "outputs": [],
   "source": [
    "movie_to_director = \"\"\"\n",
    "SELECT mb.primary_title AS title, \n",
    "    mb.start_year,\n",
    "    p.primary_name as director_name,\n",
    "    p.death_year as dead\n",
    "\n",
    "    \n",
    "FROM movie_basics AS mb \n",
    "JOIN directors AS d \n",
    "    ON d.movie_id = mb.movie_id \n",
    "JOIN persons as p\n",
    "    ON p.person_id= d.person_id\n",
    "JOIN movie_akas AS a\n",
    "    ON mb.movie_id = a.movie_id \n",
    "    \n",
    "\n",
    "ORDER BY primary_title ASC;\"\"\""
   ]
  },
  {
   "cell_type": "code",
   "execution_count": 296,
   "metadata": {},
   "outputs": [],
   "source": [
    "directors = pd.read_sql(movie_to_director, conn)\n",
    "directors = directors.drop_duplicates() "
   ]
  },
  {
   "cell_type": "code",
   "execution_count": 303,
   "metadata": {},
   "outputs": [
    {
     "data": {
      "text/html": [
       "<div>\n",
       "<style scoped>\n",
       "    .dataframe tbody tr th:only-of-type {\n",
       "        vertical-align: middle;\n",
       "    }\n",
       "\n",
       "    .dataframe tbody tr th {\n",
       "        vertical-align: top;\n",
       "    }\n",
       "\n",
       "    .dataframe thead th {\n",
       "        text-align: right;\n",
       "    }\n",
       "</style>\n",
       "<table border=\"1\" class=\"dataframe\">\n",
       "  <thead>\n",
       "    <tr style=\"text-align: right;\">\n",
       "      <th></th>\n",
       "      <th>movie</th>\n",
       "      <th>ROI</th>\n",
       "      <th>director_name</th>\n",
       "    </tr>\n",
       "  </thead>\n",
       "  <tbody>\n",
       "    <tr>\n",
       "      <th>1297</th>\n",
       "      <td>Get Out</td>\n",
       "      <td>50.073590</td>\n",
       "      <td>Jordan Peele</td>\n",
       "    </tr>\n",
       "    <tr>\n",
       "      <th>1298</th>\n",
       "      <td>Paranormal Activity 3</td>\n",
       "      <td>40.407969</td>\n",
       "      <td>Henry Joost</td>\n",
       "    </tr>\n",
       "    <tr>\n",
       "      <th>1299</th>\n",
       "      <td>Paranormal Activity 3</td>\n",
       "      <td>40.407969</td>\n",
       "      <td>Ariel Schulman</td>\n",
       "    </tr>\n",
       "    <tr>\n",
       "      <th>1271</th>\n",
       "      <td>Annabelle</td>\n",
       "      <td>38.517372</td>\n",
       "      <td>John R. Leonetti</td>\n",
       "    </tr>\n",
       "    <tr>\n",
       "      <th>1199</th>\n",
       "      <td>Dangal</td>\n",
       "      <td>30.016276</td>\n",
       "      <td>Nitesh Tiwari</td>\n",
       "    </tr>\n",
       "    <tr>\n",
       "      <th>...</th>\n",
       "      <td>...</td>\n",
       "      <td>...</td>\n",
       "      <td>...</td>\n",
       "    </tr>\n",
       "    <tr>\n",
       "      <th>670</th>\n",
       "      <td>Freaks of Nature</td>\n",
       "      <td>-0.997850</td>\n",
       "      <td>Robbie Pickering</td>\n",
       "    </tr>\n",
       "    <tr>\n",
       "      <th>524</th>\n",
       "      <td>Foodfight!</td>\n",
       "      <td>-0.998362</td>\n",
       "      <td>Lawrence Kasanoff</td>\n",
       "    </tr>\n",
       "    <tr>\n",
       "      <th>1343</th>\n",
       "      <td>Area 51</td>\n",
       "      <td>-0.998489</td>\n",
       "      <td>Oren Peli</td>\n",
       "    </tr>\n",
       "    <tr>\n",
       "      <th>1108</th>\n",
       "      <td>10 Days in a Madhouse</td>\n",
       "      <td>-0.998782</td>\n",
       "      <td>Timothy Hines</td>\n",
       "    </tr>\n",
       "    <tr>\n",
       "      <th>1036</th>\n",
       "      <td>Broken Horses</td>\n",
       "      <td>-0.999769</td>\n",
       "      <td>Vidhu Vinod Chopra</td>\n",
       "    </tr>\n",
       "  </tbody>\n",
       "</table>\n",
       "<p>1334 rows × 3 columns</p>\n",
       "</div>"
      ],
      "text/plain": [
       "                      movie        ROI       director_name\n",
       "1297                Get Out  50.073590        Jordan Peele\n",
       "1298  Paranormal Activity 3  40.407969         Henry Joost\n",
       "1299  Paranormal Activity 3  40.407969      Ariel Schulman\n",
       "1271              Annabelle  38.517372    John R. Leonetti\n",
       "1199                 Dangal  30.016276       Nitesh Tiwari\n",
       "...                     ...        ...                 ...\n",
       "670        Freaks of Nature  -0.997850    Robbie Pickering\n",
       "524              Foodfight!  -0.998362   Lawrence Kasanoff\n",
       "1343                Area 51  -0.998489           Oren Peli\n",
       "1108  10 Days in a Madhouse  -0.998782       Timothy Hines\n",
       "1036          Broken Horses  -0.999769  Vidhu Vinod Chopra\n",
       "\n",
       "[1334 rows x 3 columns]"
      ]
     },
     "execution_count": 303,
     "metadata": {},
     "output_type": "execute_result"
    }
   ],
   "source": [
    "d_info_all = pd.merge(left= tn_movie, right = directors, how = \"inner\", left_on=[\"start_year\",\"movie\"],\\\n",
    "                  right_on=[\"start_year\",\"title\"])\n",
    "\n",
    "#Filter out the dead and low budget (less than $5 mil)\n",
    "dia = d_info_all[(d_info_all[\"dead\"].isna()) & (d_info_all[\"production_budget\"]>= 5000000)]\n",
    "\n",
    "#Give us the column we want\n",
    "dia2 = dia[[\"movie\", \"ROI\", \"director_name\"]]\n",
    "dia2.sort_values(by = [\"ROI\"], ascending = False)"
   ]
  },
  {
   "cell_type": "markdown",
   "metadata": {},
   "source": [
    "## Getting the mean ROI to determine the directors' average ROI as many have done high and low budget films."
   ]
  },
  {
   "cell_type": "code",
   "execution_count": 361,
   "metadata": {},
   "outputs": [
    {
     "data": {
      "text/html": [
       "<div>\n",
       "<style scoped>\n",
       "    .dataframe tbody tr th:only-of-type {\n",
       "        vertical-align: middle;\n",
       "    }\n",
       "\n",
       "    .dataframe tbody tr th {\n",
       "        vertical-align: top;\n",
       "    }\n",
       "\n",
       "    .dataframe thead th {\n",
       "        text-align: right;\n",
       "    }\n",
       "</style>\n",
       "<table border=\"1\" class=\"dataframe\">\n",
       "  <thead>\n",
       "    <tr style=\"text-align: right;\">\n",
       "      <th></th>\n",
       "      <th>ROI</th>\n",
       "    </tr>\n",
       "    <tr>\n",
       "      <th>director_name</th>\n",
       "      <th></th>\n",
       "    </tr>\n",
       "  </thead>\n",
       "  <tbody>\n",
       "    <tr>\n",
       "      <th>Jordan Peele</th>\n",
       "      <td>30.892053</td>\n",
       "    </tr>\n",
       "    <tr>\n",
       "      <th>Nitesh Tiwari</th>\n",
       "      <td>30.016276</td>\n",
       "    </tr>\n",
       "    <tr>\n",
       "      <th>Jose G. Ramos</th>\n",
       "      <td>28.761302</td>\n",
       "    </tr>\n",
       "    <tr>\n",
       "      <th>Josh Boone</th>\n",
       "      <td>24.597236</td>\n",
       "    </tr>\n",
       "    <tr>\n",
       "      <th>Ariel Schulman</th>\n",
       "      <td>23.501394</td>\n",
       "    </tr>\n",
       "    <tr>\n",
       "      <th>...</th>\n",
       "      <td>...</td>\n",
       "    </tr>\n",
       "    <tr>\n",
       "      <th>Robbie Pickering</th>\n",
       "      <td>-0.997850</td>\n",
       "    </tr>\n",
       "    <tr>\n",
       "      <th>Lawrence Kasanoff</th>\n",
       "      <td>-0.998362</td>\n",
       "    </tr>\n",
       "    <tr>\n",
       "      <th>Oren Peli</th>\n",
       "      <td>-0.998489</td>\n",
       "    </tr>\n",
       "    <tr>\n",
       "      <th>Timothy Hines</th>\n",
       "      <td>-0.998782</td>\n",
       "    </tr>\n",
       "    <tr>\n",
       "      <th>Vidhu Vinod Chopra</th>\n",
       "      <td>-0.999769</td>\n",
       "    </tr>\n",
       "  </tbody>\n",
       "</table>\n",
       "<p>867 rows × 1 columns</p>\n",
       "</div>"
      ],
      "text/plain": [
       "                          ROI\n",
       "director_name                \n",
       "Jordan Peele        30.892053\n",
       "Nitesh Tiwari       30.016276\n",
       "Jose G. Ramos       28.761302\n",
       "Josh Boone          24.597236\n",
       "Ariel Schulman      23.501394\n",
       "...                       ...\n",
       "Robbie Pickering    -0.997850\n",
       "Lawrence Kasanoff   -0.998362\n",
       "Oren Peli           -0.998489\n",
       "Timothy Hines       -0.998782\n",
       "Vidhu Vinod Chopra  -0.999769\n",
       "\n",
       "[867 rows x 1 columns]"
      ]
     },
     "execution_count": 361,
     "metadata": {},
     "output_type": "execute_result"
    }
   ],
   "source": [
    "d_roi = dia2.groupby(['director_name']).mean().sort_values(by=[\"ROI\"], ascending = False)\n",
    "d_roi\n"
   ]
  },
  {
   "cell_type": "code",
   "execution_count": 419,
   "metadata": {},
   "outputs": [
    {
     "data": {
      "text/plain": [
       "''"
      ]
     },
     "execution_count": 419,
     "metadata": {},
     "output_type": "execute_result"
    },
    {
     "data": {
      "image/png": "[encoded data removed]",
      "text/plain": [
       "<Figure size 1440x576 with 1 Axes>"
      ]
     },
     "metadata": {
      "needs_background": "light"
     },
     "output_type": "display_data"
    }
   ],
   "source": [
    "fig, ax = plt.subplots(figsize = (20,8))\n",
    "\n",
    "d_roi2 = d_roi.head(20)\n",
    "\n",
    "ax.bar(\n",
    "    x=d_roi2.index,\n",
    "    height=d_roi2[\"ROI\"]\n",
    ")\n",
    "plt.xticks(fontsize = 15, rotation = 65)\n",
    "ax.set_title(\"Directors with Top 20 Average ROI\", fontsize = 25)\n",
    "ax.set_xlabel(\"Directors\", fontsize =20)\n",
    "ax.set_ylabel(\"ROI Returned\", fontsize =20)\n",
    "# plt.savefig('director_roi.png')\n",
    ";"
   ]
  },
  {
   "cell_type": "code",
   "execution_count": null,
   "metadata": {},
   "outputs": [],
   "source": []
  },
  {
   "cell_type": "code",
   "execution_count": null,
   "metadata": {},
   "outputs": [],
   "source": []
  },
  {
   "cell_type": "code",
   "execution_count": null,
   "metadata": {},
   "outputs": [],
   "source": []
  },
  {
   "cell_type": "code",
   "execution_count": null,
   "metadata": {},
   "outputs": [],
   "source": []
  },
  {
   "cell_type": "code",
   "execution_count": null,
   "metadata": {},
   "outputs": [],
   "source": []
  },
  {
   "cell_type": "code",
   "execution_count": null,
   "metadata": {},
   "outputs": [],
   "source": []
  },
  {
   "cell_type": "code",
   "execution_count": null,
   "metadata": {},
   "outputs": [],
   "source": []
  },
  {
   "cell_type": "code",
   "execution_count": null,
   "metadata": {},
   "outputs": [],
   "source": []
  },
  {
   "cell_type": "code",
   "execution_count": null,
   "metadata": {},
   "outputs": [],
   "source": []
  },
  {
   "cell_type": "markdown",
   "metadata": {},
   "source": [
    "# Writer Profitablity/ROI"
   ]
  },
  {
   "cell_type": "code",
   "execution_count": 300,
   "metadata": {},
   "outputs": [],
   "source": [
    "movie_to_writer = \"\"\"\n",
    "SELECT mb.primary_title AS title,\n",
    "    mb.start_year,\n",
    "    w.person_id, \n",
    "    p.primary_name as writer_name,\n",
    "    p.death_year as dead\n",
    "    \n",
    "FROM movie_basics AS mb \n",
    "JOIN writers AS w \n",
    "    ON mb.movie_id = w.movie_id \n",
    "JOIN persons as p\n",
    "    ON p.person_id= w.person_id\n",
    "\n",
    "\n",
    "ORDER BY primary_title ASC;\"\"\"\n"
   ]
  },
  {
   "cell_type": "code",
   "execution_count": 301,
   "metadata": {},
   "outputs": [],
   "source": [
    "writers = pd.read_sql(movie_to_writer, conn)\n",
    "writers = writers.drop_duplicates() "
   ]
  },
  {
   "cell_type": "code",
   "execution_count": 327,
   "metadata": {},
   "outputs": [
    {
     "data": {
      "text/html": [
       "<div>\n",
       "<style scoped>\n",
       "    .dataframe tbody tr th:only-of-type {\n",
       "        vertical-align: middle;\n",
       "    }\n",
       "\n",
       "    .dataframe tbody tr th {\n",
       "        vertical-align: top;\n",
       "    }\n",
       "\n",
       "    .dataframe thead th {\n",
       "        text-align: right;\n",
       "    }\n",
       "</style>\n",
       "<table border=\"1\" class=\"dataframe\">\n",
       "  <thead>\n",
       "    <tr style=\"text-align: right;\">\n",
       "      <th></th>\n",
       "      <th>movie</th>\n",
       "      <th>ROI</th>\n",
       "      <th>writer_name</th>\n",
       "    </tr>\n",
       "  </thead>\n",
       "  <tbody>\n",
       "    <tr>\n",
       "      <th>3607</th>\n",
       "      <td>Get Out</td>\n",
       "      <td>50.073590</td>\n",
       "      <td>Jordan Peele</td>\n",
       "    </tr>\n",
       "    <tr>\n",
       "      <th>1868</th>\n",
       "      <td>Paranormal Activity 3</td>\n",
       "      <td>40.407969</td>\n",
       "      <td>Oren Peli</td>\n",
       "    </tr>\n",
       "    <tr>\n",
       "      <th>1867</th>\n",
       "      <td>Paranormal Activity 3</td>\n",
       "      <td>40.407969</td>\n",
       "      <td>Christopher Landon</td>\n",
       "    </tr>\n",
       "    <tr>\n",
       "      <th>3069</th>\n",
       "      <td>Annabelle</td>\n",
       "      <td>38.517372</td>\n",
       "      <td>Gary Dauberman</td>\n",
       "    </tr>\n",
       "    <tr>\n",
       "      <th>3613</th>\n",
       "      <td>Dangal</td>\n",
       "      <td>30.016276</td>\n",
       "      <td>Rajshri Sudhakar</td>\n",
       "    </tr>\n",
       "    <tr>\n",
       "      <th>...</th>\n",
       "      <td>...</td>\n",
       "      <td>...</td>\n",
       "      <td>...</td>\n",
       "    </tr>\n",
       "    <tr>\n",
       "      <th>1337</th>\n",
       "      <td>Area 51</td>\n",
       "      <td>-0.998489</td>\n",
       "      <td>Oren Peli</td>\n",
       "    </tr>\n",
       "    <tr>\n",
       "      <th>1336</th>\n",
       "      <td>Area 51</td>\n",
       "      <td>-0.998489</td>\n",
       "      <td>Christopher Denham</td>\n",
       "    </tr>\n",
       "    <tr>\n",
       "      <th>3129</th>\n",
       "      <td>10 Days in a Madhouse</td>\n",
       "      <td>-0.998782</td>\n",
       "      <td>Timothy Hines</td>\n",
       "    </tr>\n",
       "    <tr>\n",
       "      <th>2730</th>\n",
       "      <td>Broken Horses</td>\n",
       "      <td>-0.999769</td>\n",
       "      <td>Abhijat Joshi</td>\n",
       "    </tr>\n",
       "    <tr>\n",
       "      <th>2729</th>\n",
       "      <td>Broken Horses</td>\n",
       "      <td>-0.999769</td>\n",
       "      <td>Vidhu Vinod Chopra</td>\n",
       "    </tr>\n",
       "  </tbody>\n",
       "</table>\n",
       "<p>3169 rows × 3 columns</p>\n",
       "</div>"
      ],
      "text/plain": [
       "                      movie        ROI         writer_name\n",
       "3607                Get Out  50.073590        Jordan Peele\n",
       "1868  Paranormal Activity 3  40.407969           Oren Peli\n",
       "1867  Paranormal Activity 3  40.407969  Christopher Landon\n",
       "3069              Annabelle  38.517372      Gary Dauberman\n",
       "3613                 Dangal  30.016276    Rajshri Sudhakar\n",
       "...                     ...        ...                 ...\n",
       "1337                Area 51  -0.998489           Oren Peli\n",
       "1336                Area 51  -0.998489  Christopher Denham\n",
       "3129  10 Days in a Madhouse  -0.998782       Timothy Hines\n",
       "2730          Broken Horses  -0.999769       Abhijat Joshi\n",
       "2729          Broken Horses  -0.999769  Vidhu Vinod Chopra\n",
       "\n",
       "[3169 rows x 3 columns]"
      ]
     },
     "execution_count": 327,
     "metadata": {},
     "output_type": "execute_result"
    }
   ],
   "source": [
    "w_info_all = pd.merge(left= imdb_basics, right = writers, how = \"inner\", left_on=[\"movie\", \"start_year\"],\\\n",
    "                  right_on=[\"title\", \"start_year\"])\n",
    "\n",
    "#Filter out the dead and low budget (less than $5 mil)\n",
    "wia = w_info_all[(w_info_all[\"dead\"].isna()) & (w_info_all[\"production_budget\"]>= 5000000)]\n",
    "\n",
    "#Give us the column we want\n",
    "wia2 = wia[[\"movie\", \"ROI\", \"writer_name\"]]\n",
    "wia2.sort_values(by = [\"ROI\"], ascending = False)"
   ]
  },
  {
   "cell_type": "markdown",
   "metadata": {},
   "source": [
    "## Getting the mean ROI to determine the writers' average ROI. Many have written highly profitable as many have done high and low budget films."
   ]
  },
  {
   "cell_type": "code",
   "execution_count": 384,
   "metadata": {},
   "outputs": [
    {
     "data": {
      "text/html": [
       "<div>\n",
       "<style scoped>\n",
       "    .dataframe tbody tr th:only-of-type {\n",
       "        vertical-align: middle;\n",
       "    }\n",
       "\n",
       "    .dataframe tbody tr th {\n",
       "        vertical-align: top;\n",
       "    }\n",
       "\n",
       "    .dataframe thead th {\n",
       "        text-align: right;\n",
       "    }\n",
       "</style>\n",
       "<table border=\"1\" class=\"dataframe\">\n",
       "  <thead>\n",
       "    <tr style=\"text-align: right;\">\n",
       "      <th></th>\n",
       "      <th>ROI</th>\n",
       "    </tr>\n",
       "    <tr>\n",
       "      <th>writer_name</th>\n",
       "      <th></th>\n",
       "    </tr>\n",
       "  </thead>\n",
       "  <tbody>\n",
       "    <tr>\n",
       "      <th>Piyush Gupta</th>\n",
       "      <td>30.016276</td>\n",
       "    </tr>\n",
       "    <tr>\n",
       "      <th>Nitesh Tiwari</th>\n",
       "      <td>30.016276</td>\n",
       "    </tr>\n",
       "    <tr>\n",
       "      <th>Nikhil Mehrotra</th>\n",
       "      <td>30.016276</td>\n",
       "    </tr>\n",
       "    <tr>\n",
       "      <th>Shreyas Jain</th>\n",
       "      <td>30.016276</td>\n",
       "    </tr>\n",
       "    <tr>\n",
       "      <th>Rajshri Sudhakar</th>\n",
       "      <td>30.016276</td>\n",
       "    </tr>\n",
       "    <tr>\n",
       "      <th>...</th>\n",
       "      <td>...</td>\n",
       "    </tr>\n",
       "    <tr>\n",
       "      <th>Joshua Wexler</th>\n",
       "      <td>-0.998362</td>\n",
       "    </tr>\n",
       "    <tr>\n",
       "      <th>Christopher Denham</th>\n",
       "      <td>-0.998489</td>\n",
       "    </tr>\n",
       "    <tr>\n",
       "      <th>Timothy Hines</th>\n",
       "      <td>-0.998782</td>\n",
       "    </tr>\n",
       "    <tr>\n",
       "      <th>Abhijat Joshi</th>\n",
       "      <td>-0.999769</td>\n",
       "    </tr>\n",
       "    <tr>\n",
       "      <th>Vidhu Vinod Chopra</th>\n",
       "      <td>-0.999769</td>\n",
       "    </tr>\n",
       "  </tbody>\n",
       "</table>\n",
       "<p>2027 rows × 1 columns</p>\n",
       "</div>"
      ],
      "text/plain": [
       "                          ROI\n",
       "writer_name                  \n",
       "Piyush Gupta        30.016276\n",
       "Nitesh Tiwari       30.016276\n",
       "Nikhil Mehrotra     30.016276\n",
       "Shreyas Jain        30.016276\n",
       "Rajshri Sudhakar    30.016276\n",
       "...                       ...\n",
       "Joshua Wexler       -0.998362\n",
       "Christopher Denham  -0.998489\n",
       "Timothy Hines       -0.998782\n",
       "Abhijat Joshi       -0.999769\n",
       "Vidhu Vinod Chopra  -0.999769\n",
       "\n",
       "[2027 rows x 1 columns]"
      ]
     },
     "execution_count": 384,
     "metadata": {},
     "output_type": "execute_result"
    }
   ],
   "source": [
    "w_roi = wia2.groupby(['writer_name']).mean().sort_values(by=[\"ROI\"], ascending = False)\n",
    "w_roi"
   ]
  },
  {
   "cell_type": "code",
   "execution_count": 417,
   "metadata": {},
   "outputs": [
    {
     "data": {
      "text/plain": [
       "''"
      ]
     },
     "execution_count": 417,
     "metadata": {},
     "output_type": "execute_result"
    },
    {
     "data": {
      "image/png": "[encoded data removed]",
      "text/plain": [
       "<Figure size 1440x576 with 1 Axes>"
      ]
     },
     "metadata": {
      "needs_background": "light"
     },
     "output_type": "display_data"
    }
   ],
   "source": [
    "fig, ax = plt.subplots(figsize = (20,8))\n",
    "\n",
    "w_roi2 = w_roi.head(20)\n",
    "\n",
    "ax.bar(\n",
    "    x=w_roi2.index,\n",
    "    height=w_roi2[\"ROI\"]\n",
    ")\n",
    "ax.set(title = \"Writers with Top 20 ROI\", xlabel = \"Writers\", ylabel = \"ROI Returned\")\n",
    "plt.xticks(fontsize = 15, rotation = 65)\n",
    "ax.set_title(\"Writers with Top 20 Average ROI\", fontsize = 25)\n",
    "ax.set_xlabel(\"Writers\", fontsize =20)\n",
    "ax.set_ylabel(\"ROI Returned\", fontsize =20)\n",
    "# plt.savefig('writer_roi.png')\n",
    ";"
   ]
  },
  {
   "cell_type": "code",
   "execution_count": null,
   "metadata": {},
   "outputs": [],
   "source": []
  },
  {
   "cell_type": "code",
   "execution_count": null,
   "metadata": {},
   "outputs": [],
   "source": []
  },
  {
   "cell_type": "code",
   "execution_count": null,
   "metadata": {},
   "outputs": [],
   "source": []
  },
  {
   "cell_type": "code",
   "execution_count": null,
   "metadata": {},
   "outputs": [],
   "source": []
  },
  {
   "cell_type": "code",
   "execution_count": null,
   "metadata": {},
   "outputs": [],
   "source": []
  },
  {
   "cell_type": "code",
   "execution_count": null,
   "metadata": {},
   "outputs": [],
   "source": []
  },
  {
   "cell_type": "markdown",
   "metadata": {},
   "source": [
    "# Appendix: \n",
    "\n",
    "#### Is critical reception correlated to ROI? Worldwide Gross? Domestic Gross?"
   ]
  },
  {
   "cell_type": "code",
   "execution_count": 58,
   "metadata": {},
   "outputs": [],
   "source": [
    "mb_to_ratings = \"\"\"\n",
    "SELECT mb.primary_title AS title,\n",
    "    mb.start_year,\n",
    "    rt.averagerating,\n",
    "    rt.numvotes\n",
    "    \n",
    "FROM movie_basics AS mb \n",
    "JOIN movie_ratings AS rt\n",
    "    ON mb.movie_id = rt.movie_id \n",
    "\n",
    "ORDER BY rt.numvotes DESC;\"\"\"\n",
    "\n",
    "movie_ratings = pd.read_sql(mb_to_ratings, conn)"
   ]
  },
  {
   "cell_type": "code",
   "execution_count": 178,
   "metadata": {},
   "outputs": [
    {
     "data": {
      "text/html": [
       "<div>\n",
       "<style scoped>\n",
       "    .dataframe tbody tr th:only-of-type {\n",
       "        vertical-align: middle;\n",
       "    }\n",
       "\n",
       "    .dataframe tbody tr th {\n",
       "        vertical-align: top;\n",
       "    }\n",
       "\n",
       "    .dataframe thead th {\n",
       "        text-align: right;\n",
       "    }\n",
       "</style>\n",
       "<table border=\"1\" class=\"dataframe\">\n",
       "  <thead>\n",
       "    <tr style=\"text-align: right;\">\n",
       "      <th></th>\n",
       "      <th>title</th>\n",
       "      <th>production_budget</th>\n",
       "      <th>domestic_gross</th>\n",
       "      <th>worldwide_gross</th>\n",
       "      <th>ROI</th>\n",
       "      <th>averagerating</th>\n",
       "      <th>numvotes</th>\n",
       "    </tr>\n",
       "  </thead>\n",
       "  <tbody>\n",
       "    <tr>\n",
       "      <th>253</th>\n",
       "      <td>Inception</td>\n",
       "      <td>160000000</td>\n",
       "      <td>292576195</td>\n",
       "      <td>835524642</td>\n",
       "      <td>4.222029</td>\n",
       "      <td>8.8</td>\n",
       "      <td>1841066</td>\n",
       "    </tr>\n",
       "    <tr>\n",
       "      <th>55</th>\n",
       "      <td>Interstellar</td>\n",
       "      <td>165000000</td>\n",
       "      <td>188017894</td>\n",
       "      <td>666379375</td>\n",
       "      <td>3.038663</td>\n",
       "      <td>8.6</td>\n",
       "      <td>1299334</td>\n",
       "    </tr>\n",
       "    <tr>\n",
       "      <th>794</th>\n",
       "      <td>Dangal</td>\n",
       "      <td>9500000</td>\n",
       "      <td>12391761</td>\n",
       "      <td>294654618</td>\n",
       "      <td>30.016276</td>\n",
       "      <td>8.5</td>\n",
       "      <td>123638</td>\n",
       "    </tr>\n",
       "    <tr>\n",
       "      <th>759</th>\n",
       "      <td>Avengers: Infinity War</td>\n",
       "      <td>300000000</td>\n",
       "      <td>678815482</td>\n",
       "      <td>2048134200</td>\n",
       "      <td>5.827114</td>\n",
       "      <td>8.5</td>\n",
       "      <td>670926</td>\n",
       "    </tr>\n",
       "    <tr>\n",
       "      <th>612</th>\n",
       "      <td>Coco</td>\n",
       "      <td>175000000</td>\n",
       "      <td>209726015</td>\n",
       "      <td>798008101</td>\n",
       "      <td>3.560046</td>\n",
       "      <td>8.4</td>\n",
       "      <td>277194</td>\n",
       "    </tr>\n",
       "    <tr>\n",
       "      <th>...</th>\n",
       "      <td>...</td>\n",
       "      <td>...</td>\n",
       "      <td>...</td>\n",
       "      <td>...</td>\n",
       "      <td>...</td>\n",
       "      <td>...</td>\n",
       "      <td>...</td>\n",
       "    </tr>\n",
       "    <tr>\n",
       "      <th>114</th>\n",
       "      <td>The Legend of Hercules</td>\n",
       "      <td>70000000</td>\n",
       "      <td>18848538</td>\n",
       "      <td>58953319</td>\n",
       "      <td>-0.157810</td>\n",
       "      <td>4.2</td>\n",
       "      <td>50352</td>\n",
       "    </tr>\n",
       "    <tr>\n",
       "      <th>80</th>\n",
       "      <td>The Last Airbender</td>\n",
       "      <td>150000000</td>\n",
       "      <td>131772187</td>\n",
       "      <td>319713881</td>\n",
       "      <td>1.131426</td>\n",
       "      <td>4.1</td>\n",
       "      <td>137734</td>\n",
       "    </tr>\n",
       "    <tr>\n",
       "      <th>599</th>\n",
       "      <td>Fifty Shades of Grey</td>\n",
       "      <td>40000000</td>\n",
       "      <td>166167230</td>\n",
       "      <td>570998101</td>\n",
       "      <td>13.274953</td>\n",
       "      <td>4.1</td>\n",
       "      <td>279126</td>\n",
       "    </tr>\n",
       "    <tr>\n",
       "      <th>50</th>\n",
       "      <td>Jack and Jill</td>\n",
       "      <td>79000000</td>\n",
       "      <td>74158157</td>\n",
       "      <td>150519217</td>\n",
       "      <td>0.905307</td>\n",
       "      <td>3.3</td>\n",
       "      <td>71361</td>\n",
       "    </tr>\n",
       "    <tr>\n",
       "      <th>427</th>\n",
       "      <td>Justin Bieber: Never Say Never</td>\n",
       "      <td>13000000</td>\n",
       "      <td>73013910</td>\n",
       "      <td>99034125</td>\n",
       "      <td>6.618010</td>\n",
       "      <td>1.6</td>\n",
       "      <td>74978</td>\n",
       "    </tr>\n",
       "  </tbody>\n",
       "</table>\n",
       "<p>781 rows × 7 columns</p>\n",
       "</div>"
      ],
      "text/plain": [
       "                              title  production_budget  domestic_gross  \\\n",
       "253                       Inception          160000000       292576195   \n",
       "55                     Interstellar          165000000       188017894   \n",
       "794                          Dangal            9500000        12391761   \n",
       "759          Avengers: Infinity War          300000000       678815482   \n",
       "612                            Coco          175000000       209726015   \n",
       "..                              ...                ...             ...   \n",
       "114          The Legend of Hercules           70000000        18848538   \n",
       "80               The Last Airbender          150000000       131772187   \n",
       "599            Fifty Shades of Grey           40000000       166167230   \n",
       "50                    Jack and Jill           79000000        74158157   \n",
       "427  Justin Bieber: Never Say Never           13000000        73013910   \n",
       "\n",
       "     worldwide_gross        ROI  averagerating  numvotes  \n",
       "253        835524642   4.222029            8.8   1841066  \n",
       "55         666379375   3.038663            8.6   1299334  \n",
       "794        294654618  30.016276            8.5    123638  \n",
       "759       2048134200   5.827114            8.5    670926  \n",
       "612        798008101   3.560046            8.4    277194  \n",
       "..               ...        ...            ...       ...  \n",
       "114         58953319  -0.157810            4.2     50352  \n",
       "80         319713881   1.131426            4.1    137734  \n",
       "599        570998101  13.274953            4.1    279126  \n",
       "50         150519217   0.905307            3.3     71361  \n",
       "427         99034125   6.618010            1.6     74978  \n",
       "\n",
       "[781 rows x 7 columns]"
      ]
     },
     "execution_count": 178,
     "metadata": {},
     "output_type": "execute_result"
    }
   ],
   "source": [
    "crit_rate = movie_ratings[(movie_ratings[\"numvotes\"]>= 50000)]\n",
    "#Preventing low rating numbers from affecting results\n",
    "    \n",
    "    \n",
    "crit_all = pd.merge(left= imdb_basics, right = crit_rate, how = \"inner\", left_on=[\"movie\", \"start_year\"],\\\n",
    "                  right_on=[\"title\", \"start_year\"])\n",
    "\n",
    "crit_use_unsort = crit_all[[\"title\",\"production_budget\",\"domestic_gross\", \"worldwide_gross\", \"ROI\", \\\n",
    "                            \"averagerating\", \"numvotes\" ]]\n",
    "\n",
    "crit_use_unsort2=crit_use_unsort[(crit_use_unsort[\"production_budget\"] >= 5000000)] \n",
    "#Filtering data further by only looking at movies with production budgets of $5 million or more\n",
    "\n",
    "crit_use = crit_use_unsort2.sort_values(by = [\"averagerating\"], ascending = False)\n",
    "crit_use"
   ]
  },
  {
   "cell_type": "code",
   "execution_count": 452,
   "metadata": {},
   "outputs": [
    {
     "data": {
      "text/plain": [
       "''"
      ]
     },
     "execution_count": 452,
     "metadata": {},
     "output_type": "execute_result"
    },
    {
     "data": {
      "image/png": "[encoded data removed]",
      "text/plain": [
       "<Figure size 864x576 with 1 Axes>"
      ]
     },
     "metadata": {
      "needs_background": "light"
     },
     "output_type": "display_data"
    }
   ],
   "source": [
    "from matplotlib import pyplot as plt\n",
    "\n",
    "fig, ax = plt.subplots(figsize=(12,8))\n",
    "\n",
    "rate = crit_use[\"averagerating\"]\n",
    "wwgross = crit_use[\"worldwide_gross\"]\n",
    "dgross = crit_use[\"domestic_gross\"]\n",
    "roi = crit_use[\"ROI\"]\n",
    "\n",
    "\n",
    "ax.scatter(x = rate, y =wwgross,  s = 75, color = \"blue\", alpha = .5)\n",
    "\n",
    "\n",
    "\n",
    "plt.xticks(fontsize = 15)\n",
    "plt.yticks(fontsize = 15)\n",
    "ax.set_title(\"Scatter Plot of Average Rating to Worldwide Gross\", fontsize = 25)\n",
    "ax.set_xlabel(\"Average Rating of Film\", fontsize =17)\n",
    "ax.set_ylabel(\"Worldwide Gross (in Billions of Dollars)\", fontsize =17)\n",
    "# plt.savefig('rate_avg_to_gross')\n",
    ";\n",
    "\n"
   ]
  },
  {
   "cell_type": "code",
   "execution_count": 450,
   "metadata": {},
   "outputs": [
    {
     "name": "stdout",
     "output_type": "stream",
     "text": [
      "Person Correslation between average critical rating and ROI is:  0.1569574217794212\n",
      "Person Correslation between average critical rating and worldwide gross is:  0.24975286953759598\n",
      "Person Correslation between average critical rating and domestic gross is:  0.2829230120968297\n"
     ]
    }
   ],
   "source": [
    "correlation_roi = rate.corr(roi)\n",
    "correlation_ww = rate.corr(wwgross)\n",
    "correlation_d = rate.corr(dgross)\n",
    "\n",
    "print(\"Person Correslation between average critical rating and ROI is: \", correlation_roi)\n",
    "print(\"Person Correslation between average critical rating and worldwide gross is: \", correlation_ww)\n",
    "print(\"Person Correslation between average critical rating and domestic gross is: \", correlation_d)\n"
   ]
  },
  {
   "cell_type": "markdown",
   "metadata": {},
   "source": [
    "#### So there is a positve correlation between critcal rating and ROI/Worldwide gross/domestic gross but its not a high/significant result."
   ]
  },
  {
   "cell_type": "code",
   "execution_count": null,
   "metadata": {},
   "outputs": [],
   "source": []
  },
  {
   "cell_type": "markdown",
   "metadata": {},
   "source": [
    "# BUT WHO IS THE LOW BUDGET KING/QUEEN?"
   ]
  },
  {
   "cell_type": "code",
   "execution_count": null,
   "metadata": {},
   "outputs": [],
   "source": []
  },
  {
   "cell_type": "code",
   "execution_count": null,
   "metadata": {},
   "outputs": [],
   "source": []
  },
  {
   "cell_type": "code",
   "execution_count": null,
   "metadata": {},
   "outputs": [],
   "source": []
  },
  {
   "cell_type": "markdown",
   "metadata": {},
   "source": [
    "# Future\n",
    "### Look into the ROI for actors/actresses to help narrow down casting\n",
    "### Narrow down writers by region/language to get even more relevant results\n",
    "### Figure out if runtime affects profitability \n",
    "### Track if a directors ROI can be predicted through modeling (ex. If certain director is given budget X, the ROI will most likely be in Y range\n",
    "### Create a program that you can enter one or more of several variables, and will output ideal director/writer/time of release/etc. based on your input"
   ]
  },
  {
   "cell_type": "markdown",
   "metadata": {},
   "source": [
    "### Look into the ROI for actors/actresses to help narrow down casting\n"
   ]
  },
  {
   "cell_type": "markdown",
   "metadata": {},
   "source": [
    "# ACTOR/ACTRESS ROI"
   ]
  },
  {
   "cell_type": "code",
   "execution_count": 251,
   "metadata": {},
   "outputs": [],
   "source": [
    "# movie_to_principals = \"\"\"\n",
    "# SELECT mb.primary_title AS title,\n",
    "#     mb.start_year,\n",
    "#     prin.person_id, \n",
    "#     p.primary_name as name,\n",
    "#     p.primary_profession,\n",
    "#     p.death_year as dead,\n",
    "#     a.region\n",
    "\n",
    "    \n",
    "# FROM movie_basics AS mb \n",
    "# JOIN principals AS prin\n",
    "#     ON prin.movie_id = mb.movie_id \n",
    "# JOIN persons as p\n",
    "#     ON p.person_id= prin.person_id\n",
    "# JOIN movie_akas AS a\n",
    "#     ON mb.movie_id = a.movie_id \n",
    "    \n",
    "\n",
    "\n",
    "# ORDER BY primary_title ASC;\"\"\"\n",
    "\n",
    "# mov2prin = pd.read_sql(movie_to_principals, conn)\n",
    "\n"
   ]
  },
  {
   "cell_type": "code",
   "execution_count": 252,
   "metadata": {},
   "outputs": [],
   "source": [
    "# mov2prin[\"primary_profession\"] = mov2prin[\"primary_profession\"].map(lambda x : str(x).split(\",\"))\n",
    "# "
   ]
  },
  {
   "cell_type": "code",
   "execution_count": null,
   "metadata": {},
   "outputs": [],
   "source": [
    "# mov2prin[y in [\"actor\", \"actress\"], for y in (mov2prin[\"primary_profession\"] )]"
   ]
  },
  {
   "cell_type": "code",
   "execution_count": 312,
   "metadata": {},
   "outputs": [],
   "source": [
    "# mov2prin[mov2prin[\"primary_profession\"].map(lambda x : mov2prin[\"primary_profession\"][x] == \"actor\" )]"
   ]
  },
  {
   "cell_type": "code",
   "execution_count": null,
   "metadata": {},
   "outputs": [],
   "source": []
  },
  {
   "cell_type": "code",
   "execution_count": null,
   "metadata": {},
   "outputs": [],
   "source": []
  },
  {
   "cell_type": "code",
   "execution_count": null,
   "metadata": {},
   "outputs": [],
   "source": []
  }
 ],
 "metadata": {
  "kernelspec": {
   "display_name": "Python (learn-env)",
   "language": "python",
   "name": "learn-env"
  },
  "language_info": {
   "codemirror_mode": {
    "name": "ipython",
    "version": 3
   },
   "file_extension": ".py",
   "mimetype": "text/x-python",
   "name": "python",
   "nbconvert_exporter": "python",
   "pygments_lexer": "ipython3",
   "version": "3.8.5"
  }
 },
 "nbformat": 4,
 "nbformat_minor": 4
}
