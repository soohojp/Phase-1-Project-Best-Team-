{
 "cells": [
  {
   "cell_type": "code",
   "execution_count": 43,
   "metadata": {},
   "outputs": [],
   "source": [
    "import pandas as pd\n",
    "import sqlite3\n",
    "import zipfile\n",
    "import numpy as np\n",
    "from  pandasql import sqldf\n",
    "from matplotlib import pyplot as plt\n"
   ]
  },
  {
   "cell_type": "markdown",
   "metadata": {},
   "source": [
    "# Master Data Filtering and Cleaning"
   ]
  },
  {
   "cell_type": "markdown",
   "metadata": {},
   "source": [
    "After identifying the data sets needed by all members of our team, we first cleaned the `tn.movie_budgets.csv.gz` by converting it to a Pandas DataFrame and stripping all punctuation from the columns related to finance. All items in these columns were then converted to . A new column was created in the DataFrame called \"ROI\" in which the return on investment was calculated using the following equation:"
   ]
  },
  {
   "cell_type": "markdown",
   "metadata": {},
   "source": [
    "##### 100 * worldwide_gross - budget)/(worldwide_gross)"
   ]
  },
  {
   "cell_type": "markdown",
   "metadata": {},
   "source": [
    "Yet another column was then added named \"start_year\" in order to help with joining the DataFrame in later steps. Finally, all rows where worldwide gross was zero were eliminated from the data."
   ]
  },
  {
   "cell_type": "code",
   "execution_count": 44,
   "metadata": {},
   "outputs": [],
   "source": [
    "tn_movie = pd.read_csv('zippedData/tn.movie_budgets.csv.gz')\n",
    "tn_movie\n",
    "\n",
    "#Remove all $ and commas for domestic gross, worldwide gross, and production budget\n",
    "\n",
    "tn_movie[\"production_budget\"]=tn_movie[\"production_budget\"].map(lambda x: int(x.replace(',', '').replace('$', '')))\n",
    "tn_movie[\"domestic_gross\"]=tn_movie[\"domestic_gross\"].map(lambda x: int(x.replace(',', '').replace('$', '')))\n",
    "tn_movie[\"worldwide_gross\"]=tn_movie[\"worldwide_gross\"].map(lambda x: int(x.replace(',', '').replace('$', '')))\n",
    "\n",
    "\n",
    "#Add ROI column - defined as (worldwide_gross - budget)/(worldwide_gross)\n",
    "tn_movie[\"ROI\"]= 100*(tn_movie[\"worldwide_gross\"]- tn_movie[\"production_budget\"])/    \\\n",
    "         tn_movie[\"production_budget\"]\n",
    "\n",
    "#Add Profit column\n",
    "tn_movie[\"profit\"]= (tn_movie[\"worldwide_gross\"]- tn_movie[\"production_budget\"])\n",
    "\n",
    "#Add start year as int column\n",
    "\n",
    "tn_movie[\"start_year\"] = tn_movie[\"release_date\"].map(lambda x: int(x[-4:]))\n",
    "\n",
    "#Eliminate any worldwide gross columns that = 0\n",
    "\n",
    "tn_movie = tn_movie [tn_movie .worldwide_gross != 0]\n",
    "\n",
    "# tn_movie"
   ]
  },
  {
   "cell_type": "markdown",
   "metadata": {},
   "source": [
    "Next a connection was established to the unzipped `im.db` file and a curser was created. The master data set required us to select all columns from the `movie_basics` table which were put into a new DataFrame. This DataFrame was then joined with the `tn_movie` DataFrame above and joined into a new DataFrame named `imdb_basics`."
   ]
  },
  {
   "cell_type": "code",
   "execution_count": 45,
   "metadata": {},
   "outputs": [],
   "source": [
    "\n",
    "conn = sqlite3.connect('zippedData/im.db')\n",
    "cur= conn.cursor()\n",
    "# cur.execute(\"\"\"SELECT name FROM sqlite_master WHERE type = 'table';\"\"\").fetchall()"
   ]
  },
  {
   "cell_type": "code",
   "execution_count": 46,
   "metadata": {},
   "outputs": [],
   "source": [
    "q1 = \"\"\"SELECT * FROM movie_basics ;\"\"\"\n",
    "dfzip=pd.read_sql(q1, conn)\n",
    "imdb_basics = pd.merge(left= dfzip ,right = tn_movie, left_on=[\"start_year\",\"primary_title\"], \\\n",
    "                       right_on=[\"start_year\",\"movie\"], \\\n",
    "                          how = 'inner')\n",
    "# imdb_basics"
   ]
  },
  {
   "cell_type": "markdown",
   "metadata": {},
   "source": [
    "To ensure there are multiple rows referring to the same film, duplicates with matching name and start year were dropped."
   ]
  },
  {
   "cell_type": "code",
   "execution_count": 47,
   "metadata": {
    "scrolled": true
   },
   "outputs": [
    {
     "name": "stderr",
     "output_type": "stream",
     "text": [
      "<ipython-input-47-60f4e1a2431a>:1: UserWarning: Boolean Series key will be reindexed to match DataFrame index.\n",
      "  imdb_basics_duplicate = imdb_basics[imdb_basics['primary_title'].duplicated()][imdb_basics['start_year'].duplicated()]\n"
     ]
    }
   ],
   "source": [
    "imdb_basics_duplicate = imdb_basics[imdb_basics['primary_title'].duplicated()][imdb_basics['start_year'].duplicated()]\n",
    "imdb_basics = imdb_basics.drop(imdb_basics_duplicate.index)"
   ]
  },
  {
   "cell_type": "markdown",
   "metadata": {},
   "source": [
    "# Goal 1 - Genre and Profitability"
   ]
  },
  {
   "cell_type": "markdown",
   "metadata": {},
   "source": [
    "## Finding the Unique List of Genres"
   ]
  },
  {
   "cell_type": "markdown",
   "metadata": {},
   "source": [
    "The first step was to drop rows with undefined genres from the dataframe 'imdb_basics' before we categorized each film by genre."
   ]
  },
  {
   "cell_type": "code",
   "execution_count": 48,
   "metadata": {
    "scrolled": false
   },
   "outputs": [],
   "source": [
    "imdb_basics=imdb_basics.dropna(subset=['genres'])\n",
    "#dropped the rows with undefined genres"
   ]
  },
  {
   "cell_type": "code",
   "execution_count": 49,
   "metadata": {
    "scrolled": false
   },
   "outputs": [
    {
     "data": {
      "text/html": [
       "<div>\n",
       "<style scoped>\n",
       "    .dataframe tbody tr th:only-of-type {\n",
       "        vertical-align: middle;\n",
       "    }\n",
       "\n",
       "    .dataframe tbody tr th {\n",
       "        vertical-align: top;\n",
       "    }\n",
       "\n",
       "    .dataframe thead th {\n",
       "        text-align: right;\n",
       "    }\n",
       "</style>\n",
       "<table border=\"1\" class=\"dataframe\">\n",
       "  <thead>\n",
       "    <tr style=\"text-align: right;\">\n",
       "      <th></th>\n",
       "      <th>primary_title</th>\n",
       "      <th>genres</th>\n",
       "      <th>ROI</th>\n",
       "    </tr>\n",
       "  </thead>\n",
       "  <tbody>\n",
       "    <tr>\n",
       "      <th>0</th>\n",
       "      <td>Foodfight!</td>\n",
       "      <td>Action,Animation,Comedy</td>\n",
       "      <td>-99.836209</td>\n",
       "    </tr>\n",
       "    <tr>\n",
       "      <th>1</th>\n",
       "      <td>The Secret Life of Walter Mitty</td>\n",
       "      <td>Adventure,Comedy,Drama</td>\n",
       "      <td>106.440860</td>\n",
       "    </tr>\n",
       "    <tr>\n",
       "      <th>2</th>\n",
       "      <td>A Walk Among the Tombstones</td>\n",
       "      <td>Action,Crime,Drama</td>\n",
       "      <td>121.816382</td>\n",
       "    </tr>\n",
       "    <tr>\n",
       "      <th>3</th>\n",
       "      <td>Jurassic World</td>\n",
       "      <td>Action,Adventure,Sci-Fi</td>\n",
       "      <td>666.909239</td>\n",
       "    </tr>\n",
       "    <tr>\n",
       "      <th>4</th>\n",
       "      <td>The Rum Diary</td>\n",
       "      <td>Comedy,Drama</td>\n",
       "      <td>-52.122818</td>\n",
       "    </tr>\n",
       "    <tr>\n",
       "      <th>...</th>\n",
       "      <td>...</td>\n",
       "      <td>...</td>\n",
       "      <td>...</td>\n",
       "    </tr>\n",
       "    <tr>\n",
       "      <th>1417</th>\n",
       "      <td>The Mule</td>\n",
       "      <td>Crime,Drama,Thriller</td>\n",
       "      <td>241.715352</td>\n",
       "    </tr>\n",
       "    <tr>\n",
       "      <th>1418</th>\n",
       "      <td>Teefa in Trouble</td>\n",
       "      <td>Action,Comedy,Crime</td>\n",
       "      <td>-93.412933</td>\n",
       "    </tr>\n",
       "    <tr>\n",
       "      <th>1419</th>\n",
       "      <td>Happy Death Day 2U</td>\n",
       "      <td>Drama,Horror,Mystery</td>\n",
       "      <td>613.105500</td>\n",
       "    </tr>\n",
       "    <tr>\n",
       "      <th>1420</th>\n",
       "      <td>Fahrenheit 11/9</td>\n",
       "      <td>Documentary</td>\n",
       "      <td>33.074300</td>\n",
       "    </tr>\n",
       "    <tr>\n",
       "      <th>1421</th>\n",
       "      <td>Unplanned</td>\n",
       "      <td>Biography,Drama</td>\n",
       "      <td>201.793683</td>\n",
       "    </tr>\n",
       "  </tbody>\n",
       "</table>\n",
       "<p>1365 rows × 3 columns</p>\n",
       "</div>"
      ],
      "text/plain": [
       "                        primary_title                   genres         ROI\n",
       "0                          Foodfight!  Action,Animation,Comedy  -99.836209\n",
       "1     The Secret Life of Walter Mitty   Adventure,Comedy,Drama  106.440860\n",
       "2         A Walk Among the Tombstones       Action,Crime,Drama  121.816382\n",
       "3                      Jurassic World  Action,Adventure,Sci-Fi  666.909239\n",
       "4                       The Rum Diary             Comedy,Drama  -52.122818\n",
       "...                               ...                      ...         ...\n",
       "1417                         The Mule     Crime,Drama,Thriller  241.715352\n",
       "1418                 Teefa in Trouble      Action,Comedy,Crime  -93.412933\n",
       "1419               Happy Death Day 2U     Drama,Horror,Mystery  613.105500\n",
       "1420                  Fahrenheit 11/9              Documentary   33.074300\n",
       "1421                        Unplanned          Biography,Drama  201.793683\n",
       "\n",
       "[1365 rows x 3 columns]"
      ]
     },
     "execution_count": 49,
     "metadata": {},
     "output_type": "execute_result"
    }
   ],
   "source": [
    "imdb_basics[[\"primary_title\",\"genres\",\"ROI\"]]"
   ]
  },
  {
   "cell_type": "code",
   "execution_count": 50,
   "metadata": {},
   "outputs": [
    {
     "data": {
      "text/plain": [
       "'Action,Animation,Comedy'"
      ]
     },
     "execution_count": 50,
     "metadata": {},
     "output_type": "execute_result"
    }
   ],
   "source": [
    "imdb_basics['genres'][0]"
   ]
  },
  {
   "cell_type": "markdown",
   "metadata": {},
   "source": [
    "As shown above, many films are categorized under more than one genres. For example, `'Foodfight!'` is in three genres, which are `'Action, Animation, Comedy'`.\n",
    "\n",
    "One major consideration we had to make was whether we should retain the combination of genres as a distinct category or include it into each of the genres. In other words, should we make a new genre called `'Action, Animation, Comedy'` or place `'Foodfight!'` into the `'Action'` genre, `'Animation'` genre, and `'Comedy'` genre?\n",
    "\n",
    "The former would offer more nuanced data as to which specific combination of genres would be the most profitable, yet the data frame would then account for too many genres, making it confusing and inaccessible to the audience.\n",
    "\n",
    "Thus, we've decided to place films into each of genres separately."
   ]
  },
  {
   "cell_type": "markdown",
   "metadata": {},
   "source": [
    "The second step was to make a list of unique genres to see how many distinct genres there are."
   ]
  },
  {
   "cell_type": "code",
   "execution_count": 51,
   "metadata": {
    "scrolled": true
   },
   "outputs": [
    {
     "data": {
      "text/plain": [
       "['Action',\n",
       " 'Adventure',\n",
       " 'Animation',\n",
       " 'Biography',\n",
       " 'Comedy',\n",
       " 'Crime',\n",
       " 'Documentary',\n",
       " 'Drama',\n",
       " 'Family',\n",
       " 'Fantasy',\n",
       " 'History',\n",
       " 'Horror',\n",
       " 'Music',\n",
       " 'Musical',\n",
       " 'Mystery',\n",
       " 'Romance',\n",
       " 'Sci-Fi',\n",
       " 'Sport',\n",
       " 'Thriller',\n",
       " 'War',\n",
       " 'Western']"
      ]
     },
     "execution_count": 51,
     "metadata": {},
     "output_type": "execute_result"
    }
   ],
   "source": [
    "list_of_unique_values =' '.join(imdb_basics.genres.unique())\n",
    "list_of_unique_values = list_of_unique_values.replace(' ',',')\n",
    "list_of_unique_genres = list_of_unique_values.split(\",\")\n",
    "list_of_unique_genres = sorted(list(set(list_of_unique_genres)))\n",
    "list_of_unique_genres"
   ]
  },
  {
   "cell_type": "markdown",
   "metadata": {},
   "source": [
    "Next, `imdb_basics` dataframe was translated into variables, which categorizes films by unique genres. Since values under the `'genres'` column in imdb_basics are strings, inputting the genre name into the `.str.contains()` method will filter data by genre."
   ]
  },
  {
   "cell_type": "code",
   "execution_count": 52,
   "metadata": {},
   "outputs": [],
   "source": [
    "imdb_action = imdb_basics[imdb_basics['genres'].str.contains('Action')]\n",
    "imdb_adventure = imdb_basics[imdb_basics['genres'].str.contains('Adventure')]\n",
    "imdb_animation = imdb_basics[imdb_basics['genres'].str.contains('Animation')]\n",
    "imdb_biography = imdb_basics[imdb_basics['genres'].str.contains('Biography')]\n",
    "imdb_comedy = imdb_basics[imdb_basics['genres'].str.contains('Comedy')]\n",
    "imdb_crime = imdb_basics[imdb_basics['genres'].str.contains('Crime')]\n",
    "imdb_documentary = imdb_basics[imdb_basics['genres'].str.contains('Documentary')]\n",
    "imdb_drama = imdb_basics[imdb_basics['genres'].str.contains('Drama')]\n",
    "imdb_family = imdb_basics[imdb_basics['genres'].str.contains('Family')]\n",
    "imdb_fantasy = imdb_basics[imdb_basics['genres'].str.contains('Fantasy')]\n",
    "imdb_history = imdb_basics[imdb_basics['genres'].str.contains('History')]\n",
    "imdb_horror = imdb_basics[imdb_basics['genres'].str.contains('Horror')]\n",
    "imdb_music = imdb_basics[imdb_basics['genres'].str.contains('Music')]\n",
    "imdb_musical = imdb_basics[imdb_basics['genres'].str.contains('Musical')]\n",
    "imdb_mystery = imdb_basics[imdb_basics['genres'].str.contains('Mystery')]\n",
    "imdb_romance = imdb_basics[imdb_basics['genres'].str.contains('Romance')]\n",
    "imdb_sciFi = imdb_basics[imdb_basics['genres'].str.contains('Sci-Fi')]\n",
    "imdb_sport = imdb_basics[imdb_basics['genres'].str.contains('Sport')]\n",
    "imdb_thriller = imdb_basics[imdb_basics['genres'].str.contains('Thriller')]\n",
    "imdb_war = imdb_basics[imdb_basics['genres'].str.contains('War')]\n",
    "imdb_western = imdb_basics[imdb_basics['genres'].str.contains('Western')]"
   ]
  },
  {
   "cell_type": "markdown",
   "metadata": {},
   "source": [
    "By using `.ROI.mean()` on each of the variables, we created a list called `genre_roi_mean` that contains the mean of the ROI by genre."
   ]
  },
  {
   "cell_type": "code",
   "execution_count": 53,
   "metadata": {},
   "outputs": [],
   "source": [
    "genre_roi_mean=[imdb_action.ROI.mean(),\n",
    "imdb_adventure.ROI.mean(),\n",
    "imdb_animation.ROI.mean(),\n",
    "imdb_biography.ROI.mean(),\n",
    "imdb_comedy.ROI.mean(),\n",
    "imdb_crime.ROI.mean(),\n",
    "imdb_documentary.ROI.mean(),\n",
    "imdb_drama.ROI.mean(),\n",
    "imdb_family.ROI.mean(),\n",
    "imdb_fantasy.ROI.mean(),\n",
    "imdb_history.ROI.mean(),\n",
    "imdb_horror.ROI.mean(),\n",
    "imdb_music.ROI.mean(),\n",
    "imdb_musical.ROI.mean(),\n",
    "imdb_mystery.ROI.mean(),\n",
    "imdb_romance.ROI.mean(),\n",
    "imdb_sciFi.ROI.mean(),\n",
    "imdb_sport.ROI.mean(),\n",
    "imdb_thriller.ROI.mean(),\n",
    "imdb_war.ROI.mean(),\n",
    "imdb_western.ROI.mean()]"
   ]
  },
  {
   "cell_type": "markdown",
   "metadata": {},
   "source": [
    "After data wranggling, we now have the list of unique genres and the average ROI for those genres respectively. Instead of placing the data onto a bar graph directly, we created a new dataframe `genreroidf` to order it based on highest to lowest ROI mean values."
   ]
  },
  {
   "cell_type": "code",
   "execution_count": 54,
   "metadata": {},
   "outputs": [
    {
     "data": {
      "text/html": [
       "<div>\n",
       "<style scoped>\n",
       "    .dataframe tbody tr th:only-of-type {\n",
       "        vertical-align: middle;\n",
       "    }\n",
       "\n",
       "    .dataframe tbody tr th {\n",
       "        vertical-align: top;\n",
       "    }\n",
       "\n",
       "    .dataframe thead th {\n",
       "        text-align: right;\n",
       "    }\n",
       "</style>\n",
       "<table border=\"1\" class=\"dataframe\">\n",
       "  <thead>\n",
       "    <tr style=\"text-align: right;\">\n",
       "      <th></th>\n",
       "      <th>Genre</th>\n",
       "      <th>ROI mean</th>\n",
       "    </tr>\n",
       "  </thead>\n",
       "  <tbody>\n",
       "    <tr>\n",
       "      <th>11</th>\n",
       "      <td>Horror</td>\n",
       "      <td>966.561948</td>\n",
       "    </tr>\n",
       "    <tr>\n",
       "      <th>14</th>\n",
       "      <td>Mystery</td>\n",
       "      <td>944.029296</td>\n",
       "    </tr>\n",
       "    <tr>\n",
       "      <th>18</th>\n",
       "      <td>Thriller</td>\n",
       "      <td>597.978561</td>\n",
       "    </tr>\n",
       "    <tr>\n",
       "      <th>16</th>\n",
       "      <td>Sci-Fi</td>\n",
       "      <td>284.919637</td>\n",
       "    </tr>\n",
       "    <tr>\n",
       "      <th>2</th>\n",
       "      <td>Animation</td>\n",
       "      <td>278.690125</td>\n",
       "    </tr>\n",
       "    <tr>\n",
       "      <th>15</th>\n",
       "      <td>Romance</td>\n",
       "      <td>270.809656</td>\n",
       "    </tr>\n",
       "    <tr>\n",
       "      <th>12</th>\n",
       "      <td>Music</td>\n",
       "      <td>264.000252</td>\n",
       "    </tr>\n",
       "    <tr>\n",
       "      <th>3</th>\n",
       "      <td>Biography</td>\n",
       "      <td>249.716421</td>\n",
       "    </tr>\n",
       "    <tr>\n",
       "      <th>7</th>\n",
       "      <td>Drama</td>\n",
       "      <td>239.537392</td>\n",
       "    </tr>\n",
       "    <tr>\n",
       "      <th>4</th>\n",
       "      <td>Comedy</td>\n",
       "      <td>226.540415</td>\n",
       "    </tr>\n",
       "    <tr>\n",
       "      <th>9</th>\n",
       "      <td>Fantasy</td>\n",
       "      <td>223.183648</td>\n",
       "    </tr>\n",
       "    <tr>\n",
       "      <th>1</th>\n",
       "      <td>Adventure</td>\n",
       "      <td>215.805480</td>\n",
       "    </tr>\n",
       "    <tr>\n",
       "      <th>13</th>\n",
       "      <td>Musical</td>\n",
       "      <td>203.020442</td>\n",
       "    </tr>\n",
       "    <tr>\n",
       "      <th>0</th>\n",
       "      <td>Action</td>\n",
       "      <td>176.054704</td>\n",
       "    </tr>\n",
       "    <tr>\n",
       "      <th>8</th>\n",
       "      <td>Family</td>\n",
       "      <td>173.970606</td>\n",
       "    </tr>\n",
       "    <tr>\n",
       "      <th>6</th>\n",
       "      <td>Documentary</td>\n",
       "      <td>167.476424</td>\n",
       "    </tr>\n",
       "    <tr>\n",
       "      <th>10</th>\n",
       "      <td>History</td>\n",
       "      <td>154.924390</td>\n",
       "    </tr>\n",
       "    <tr>\n",
       "      <th>5</th>\n",
       "      <td>Crime</td>\n",
       "      <td>124.129351</td>\n",
       "    </tr>\n",
       "    <tr>\n",
       "      <th>17</th>\n",
       "      <td>Sport</td>\n",
       "      <td>124.080967</td>\n",
       "    </tr>\n",
       "    <tr>\n",
       "      <th>20</th>\n",
       "      <td>Western</td>\n",
       "      <td>87.547842</td>\n",
       "    </tr>\n",
       "    <tr>\n",
       "      <th>19</th>\n",
       "      <td>War</td>\n",
       "      <td>41.110865</td>\n",
       "    </tr>\n",
       "  </tbody>\n",
       "</table>\n",
       "</div>"
      ],
      "text/plain": [
       "          Genre    ROI mean\n",
       "11       Horror  966.561948\n",
       "14      Mystery  944.029296\n",
       "18     Thriller  597.978561\n",
       "16       Sci-Fi  284.919637\n",
       "2     Animation  278.690125\n",
       "15      Romance  270.809656\n",
       "12        Music  264.000252\n",
       "3     Biography  249.716421\n",
       "7         Drama  239.537392\n",
       "4        Comedy  226.540415\n",
       "9       Fantasy  223.183648\n",
       "1     Adventure  215.805480\n",
       "13      Musical  203.020442\n",
       "0        Action  176.054704\n",
       "8        Family  173.970606\n",
       "6   Documentary  167.476424\n",
       "10      History  154.924390\n",
       "5         Crime  124.129351\n",
       "17        Sport  124.080967\n",
       "20      Western   87.547842\n",
       "19          War   41.110865"
      ]
     },
     "execution_count": 54,
     "metadata": {},
     "output_type": "execute_result"
    }
   ],
   "source": [
    "genreroidf = pd.DataFrame({\"Genre\":list_of_unique_genres,\n",
    "                  \"ROI mean\":genre_roi_mean})\n",
    "genreroidf = genreroidf.sort_values('ROI mean',ascending = False)\n",
    "genreroidf"
   ]
  },
  {
   "cell_type": "markdown",
   "metadata": {},
   "source": []
  },
  {
   "cell_type": "code",
   "execution_count": 55,
   "metadata": {
    "scrolled": false
   },
   "outputs": [
    {
     "data": {
      "text/plain": [
       "Text(0.5, 1.0, 'Average Return on Investment by Genre')"
      ]
     },
     "execution_count": 55,
     "metadata": {},
     "output_type": "execute_result"
    },
    {
     "data": {
      "image/png": "[encoded data removed]",
      "text/plain": [
       "<Figure size 1440x720 with 1 Axes>"
      ]
     },
     "metadata": {
      "needs_background": "light"
     },
     "output_type": "display_data"
    }
   ],
   "source": [
    "fig, ax = plt.subplots(figsize = (20,10))\n",
    "x = genreroidf['Genre']\n",
    "y = genreroidf[\"ROI mean\"]\n",
    "ax.bar(x,y)\n",
    "plt.xticks(fontsize = 15, rotation = 65)\n",
    "ax.set_xlabel(\"Genres\", fontsize = 20)\n",
    "ax.set_ylabel(\"Mean of Return on Investment\", fontsize = 20)\n",
    "ax.set_title(\"Average Return on Investment by Genre\", fontsize = 20)"
   ]
  },
  {
   "cell_type": "markdown",
   "metadata": {},
   "source": [
    "As shown above, this bar graph shows the mean of return on investment for each of the genres. `'Horror'`, `'Mystery'`, and `'Thriller'` appear to yield the highest average return on investment, while `'War'`, `'Western'`, and `'Sports'` yield the lowest. This data visualization can help identify which genres can have a lower risk from the point of view as an investor."
   ]
  },
  {
   "cell_type": "markdown",
   "metadata": {},
   "source": [
    "## Size of Market by Genre"
   ]
  },
  {
   "cell_type": "markdown",
   "metadata": {},
   "source": [
    "Finding the mean return on investment is important in selecting what genres to film, especially as an up-and-coming studio. However, another significant factor to consider is the size of the market - how much total profit was made in each genre. This can help determine where the money lies."
   ]
  },
  {
   "cell_type": "markdown",
   "metadata": {
    "scrolled": true
   },
   "source": [
    "To find the sum of profits of all films in each genre, we used the method `.sum()` on the variables that categorized the data by genre."
   ]
  },
  {
   "cell_type": "code",
   "execution_count": 56,
   "metadata": {},
   "outputs": [
    {
     "data": {
      "text/plain": [
       "71832227993"
      ]
     },
     "execution_count": 56,
     "metadata": {},
     "output_type": "execute_result"
    }
   ],
   "source": [
    "imdb_action.profit.sum()"
   ]
  },
  {
   "cell_type": "markdown",
   "metadata": {},
   "source": [
    "Then, we formulated a list containing all of those values."
   ]
  },
  {
   "cell_type": "code",
   "execution_count": 57,
   "metadata": {},
   "outputs": [],
   "source": [
    "genre_profit_sum=[imdb_action.profit.sum(),\n",
    "imdb_adventure.profit.sum(),\n",
    "imdb_animation.profit.sum(),\n",
    "imdb_biography.profit.sum(),\n",
    "imdb_comedy.profit.sum(),\n",
    "imdb_crime.profit.sum(),\n",
    "imdb_documentary.profit.sum(),\n",
    "imdb_drama.profit.sum(),\n",
    "imdb_family.profit.sum(),\n",
    "imdb_fantasy.profit.sum(),\n",
    "imdb_history.profit.sum(),\n",
    "imdb_horror.profit.sum(),\n",
    "imdb_music.profit.sum(),\n",
    "imdb_musical.profit.sum(),\n",
    "imdb_mystery.profit.sum(),\n",
    "imdb_romance.profit.sum(),\n",
    "imdb_sciFi.profit.sum(),\n",
    "imdb_sport.profit.sum(),\n",
    "imdb_thriller.profit.sum(),\n",
    "imdb_war.profit.sum(),\n",
    "imdb_western.profit.sum()]"
   ]
  },
  {
   "cell_type": "markdown",
   "metadata": {},
   "source": [
    "The list of unique genres from above and the sum of profits of all films were placed into a new dataframe called `'genretotalprofitdf'`, which organized genres from highest to lowest total profit. Using this dataframe, we formulated a bar graph."
   ]
  },
  {
   "cell_type": "code",
   "execution_count": 58,
   "metadata": {},
   "outputs": [
    {
     "data": {
      "text/html": [
       "<div>\n",
       "<style scoped>\n",
       "    .dataframe tbody tr th:only-of-type {\n",
       "        vertical-align: middle;\n",
       "    }\n",
       "\n",
       "    .dataframe tbody tr th {\n",
       "        vertical-align: top;\n",
       "    }\n",
       "\n",
       "    .dataframe thead th {\n",
       "        text-align: right;\n",
       "    }\n",
       "</style>\n",
       "<table border=\"1\" class=\"dataframe\">\n",
       "  <thead>\n",
       "    <tr style=\"text-align: right;\">\n",
       "      <th></th>\n",
       "      <th>Genre</th>\n",
       "      <th>Total Profit</th>\n",
       "    </tr>\n",
       "  </thead>\n",
       "  <tbody>\n",
       "    <tr>\n",
       "      <th>1</th>\n",
       "      <td>Adventure</td>\n",
       "      <td>85669810994</td>\n",
       "    </tr>\n",
       "    <tr>\n",
       "      <th>0</th>\n",
       "      <td>Action</td>\n",
       "      <td>71832227993</td>\n",
       "    </tr>\n",
       "    <tr>\n",
       "      <th>4</th>\n",
       "      <td>Comedy</td>\n",
       "      <td>47874247808</td>\n",
       "    </tr>\n",
       "    <tr>\n",
       "      <th>7</th>\n",
       "      <td>Drama</td>\n",
       "      <td>33529711876</td>\n",
       "    </tr>\n",
       "    <tr>\n",
       "      <th>16</th>\n",
       "      <td>Sci-Fi</td>\n",
       "      <td>33385429670</td>\n",
       "    </tr>\n",
       "    <tr>\n",
       "      <th>2</th>\n",
       "      <td>Animation</td>\n",
       "      <td>28279037149</td>\n",
       "    </tr>\n",
       "    <tr>\n",
       "      <th>18</th>\n",
       "      <td>Thriller</td>\n",
       "      <td>21461151555</td>\n",
       "    </tr>\n",
       "    <tr>\n",
       "      <th>9</th>\n",
       "      <td>Fantasy</td>\n",
       "      <td>18567395033</td>\n",
       "    </tr>\n",
       "    <tr>\n",
       "      <th>8</th>\n",
       "      <td>Family</td>\n",
       "      <td>11945644039</td>\n",
       "    </tr>\n",
       "    <tr>\n",
       "      <th>5</th>\n",
       "      <td>Crime</td>\n",
       "      <td>11378317782</td>\n",
       "    </tr>\n",
       "    <tr>\n",
       "      <th>11</th>\n",
       "      <td>Horror</td>\n",
       "      <td>8958370214</td>\n",
       "    </tr>\n",
       "    <tr>\n",
       "      <th>15</th>\n",
       "      <td>Romance</td>\n",
       "      <td>8476128577</td>\n",
       "    </tr>\n",
       "    <tr>\n",
       "      <th>14</th>\n",
       "      <td>Mystery</td>\n",
       "      <td>8271303655</td>\n",
       "    </tr>\n",
       "    <tr>\n",
       "      <th>3</th>\n",
       "      <td>Biography</td>\n",
       "      <td>7328115321</td>\n",
       "    </tr>\n",
       "    <tr>\n",
       "      <th>12</th>\n",
       "      <td>Music</td>\n",
       "      <td>4231858911</td>\n",
       "    </tr>\n",
       "    <tr>\n",
       "      <th>10</th>\n",
       "      <td>History</td>\n",
       "      <td>2037082437</td>\n",
       "    </tr>\n",
       "    <tr>\n",
       "      <th>13</th>\n",
       "      <td>Musical</td>\n",
       "      <td>1463911571</td>\n",
       "    </tr>\n",
       "    <tr>\n",
       "      <th>17</th>\n",
       "      <td>Sport</td>\n",
       "      <td>929243341</td>\n",
       "    </tr>\n",
       "    <tr>\n",
       "      <th>20</th>\n",
       "      <td>Western</td>\n",
       "      <td>580408373</td>\n",
       "    </tr>\n",
       "    <tr>\n",
       "      <th>19</th>\n",
       "      <td>War</td>\n",
       "      <td>501791246</td>\n",
       "    </tr>\n",
       "    <tr>\n",
       "      <th>6</th>\n",
       "      <td>Documentary</td>\n",
       "      <td>461020930</td>\n",
       "    </tr>\n",
       "  </tbody>\n",
       "</table>\n",
       "</div>"
      ],
      "text/plain": [
       "          Genre  Total Profit\n",
       "1     Adventure   85669810994\n",
       "0        Action   71832227993\n",
       "4        Comedy   47874247808\n",
       "7         Drama   33529711876\n",
       "16       Sci-Fi   33385429670\n",
       "2     Animation   28279037149\n",
       "18     Thriller   21461151555\n",
       "9       Fantasy   18567395033\n",
       "8        Family   11945644039\n",
       "5         Crime   11378317782\n",
       "11       Horror    8958370214\n",
       "15      Romance    8476128577\n",
       "14      Mystery    8271303655\n",
       "3     Biography    7328115321\n",
       "12        Music    4231858911\n",
       "10      History    2037082437\n",
       "13      Musical    1463911571\n",
       "17        Sport     929243341\n",
       "20      Western     580408373\n",
       "19          War     501791246\n",
       "6   Documentary     461020930"
      ]
     },
     "execution_count": 58,
     "metadata": {},
     "output_type": "execute_result"
    }
   ],
   "source": [
    "genretotalprofitdf = pd.DataFrame({\"Genre\":list_of_unique_genres,\n",
    "                  \"Total Profit\":genre_profit_sum})\n",
    "genretotalprofitdf = genretotalprofitdf.sort_values(\"Total Profit\",ascending = False)\n",
    "genretotalprofitdf"
   ]
  },
  {
   "cell_type": "code",
   "execution_count": 59,
   "metadata": {},
   "outputs": [
    {
     "data": {
      "text/plain": [
       "Text(0.5, 1.0, 'Size of Market: Total Profit in Each Genre')"
      ]
     },
     "execution_count": 59,
     "metadata": {},
     "output_type": "execute_result"
    },
    {
     "data": {
      "image/png": "[encoded data removed]",
      "text/plain": [
       "<Figure size 1440x720 with 1 Axes>"
      ]
     },
     "metadata": {
      "needs_background": "light"
     },
     "output_type": "display_data"
    }
   ],
   "source": [
    "fig, ax = plt.subplots(figsize = (20,10))\n",
    "x = genretotalprofitdf['Genre']\n",
    "y = genretotalprofitdf['Total Profit']\n",
    "ax.bar(x,y)\n",
    "plt.xticks(fontsize = 15, rotation = 65)\n",
    "ax.set_xlabel(\"Genres\", fontsize = 20)\n",
    "ax.set_ylabel(\"Total Profit\", fontsize = 20)\n",
    "ax.set_title(\"Size of Market: Total Profit in Each Genre\", fontsize = 20)"
   ]
  },
  {
   "cell_type": "markdown",
   "metadata": {},
   "source": [
    "As this bar graph indicates, `'Action'`, `'Adventure'`, and `'Comedy'` are the biggest markets in terms of profit, while `'War'`, `'Western'`, `'Sport'`, and `'Documentary'` yield the lowest profits. This visualization can provide a general sense of which genres attract the most profit, therefore the size of the market."
   ]
  },
  {
   "cell_type": "markdown",
   "metadata": {},
   "source": [
    "## Saturation of the Market"
   ]
  },
  {
   "cell_type": "markdown",
   "metadata": {},
   "source": [
    "Yes, the total profit of all films in each genre helps us understand the size of the market, but to gain a deeper understanding about the market, we must also consider its saturation. So, how many films are exactly in each of the genres? "
   ]
  },
  {
   "cell_type": "markdown",
   "metadata": {},
   "source": [
    "Using the `len()` method, we created a list containing the number of films in each genre."
   ]
  },
  {
   "cell_type": "code",
   "execution_count": 60,
   "metadata": {},
   "outputs": [
    {
     "data": {
      "text/plain": [
       "418"
      ]
     },
     "execution_count": 60,
     "metadata": {},
     "output_type": "execute_result"
    }
   ],
   "source": [
    "len(imdb_action)"
   ]
  },
  {
   "cell_type": "code",
   "execution_count": 61,
   "metadata": {},
   "outputs": [],
   "source": [
    "num_per_genres=[len(imdb_action),\n",
    "len(imdb_adventure),\n",
    "len(imdb_animation),\n",
    "len(imdb_biography),\n",
    "len(imdb_comedy),\n",
    "len(imdb_crime),\n",
    "len(imdb_documentary),\n",
    "len(imdb_drama),\n",
    "len(imdb_family),\n",
    "len(imdb_fantasy),\n",
    "len(imdb_history),\n",
    "len(imdb_horror),\n",
    "len(imdb_music),\n",
    "len(imdb_musical),\n",
    "len(imdb_mystery),\n",
    "len(imdb_romance),\n",
    "len(imdb_sciFi),\n",
    "len(imdb_sport),\n",
    "len(imdb_thriller),\n",
    "len(imdb_war),\n",
    "len(imdb_western)]"
   ]
  },
  {
   "cell_type": "markdown",
   "metadata": {},
   "source": [
    "The list of unique genres from above and number of films in each genre were placed into a new dataframe called `genrenumdf`, which organizes genres by their number of films in descending order. This new dataframe was used to formulate a bar graph."
   ]
  },
  {
   "cell_type": "code",
   "execution_count": 62,
   "metadata": {},
   "outputs": [
    {
     "data": {
      "text/html": [
       "<div>\n",
       "<style scoped>\n",
       "    .dataframe tbody tr th:only-of-type {\n",
       "        vertical-align: middle;\n",
       "    }\n",
       "\n",
       "    .dataframe tbody tr th {\n",
       "        vertical-align: top;\n",
       "    }\n",
       "\n",
       "    .dataframe thead th {\n",
       "        text-align: right;\n",
       "    }\n",
       "</style>\n",
       "<table border=\"1\" class=\"dataframe\">\n",
       "  <thead>\n",
       "    <tr style=\"text-align: right;\">\n",
       "      <th></th>\n",
       "      <th>Genre</th>\n",
       "      <th>Number of Films</th>\n",
       "    </tr>\n",
       "  </thead>\n",
       "  <tbody>\n",
       "    <tr>\n",
       "      <th>7</th>\n",
       "      <td>Drama</td>\n",
       "      <td>664</td>\n",
       "    </tr>\n",
       "    <tr>\n",
       "      <th>4</th>\n",
       "      <td>Comedy</td>\n",
       "      <td>482</td>\n",
       "    </tr>\n",
       "    <tr>\n",
       "      <th>0</th>\n",
       "      <td>Action</td>\n",
       "      <td>418</td>\n",
       "    </tr>\n",
       "    <tr>\n",
       "      <th>1</th>\n",
       "      <td>Adventure</td>\n",
       "      <td>341</td>\n",
       "    </tr>\n",
       "    <tr>\n",
       "      <th>18</th>\n",
       "      <td>Thriller</td>\n",
       "      <td>232</td>\n",
       "    </tr>\n",
       "    <tr>\n",
       "      <th>5</th>\n",
       "      <td>Crime</td>\n",
       "      <td>220</td>\n",
       "    </tr>\n",
       "    <tr>\n",
       "      <th>15</th>\n",
       "      <td>Romance</td>\n",
       "      <td>177</td>\n",
       "    </tr>\n",
       "    <tr>\n",
       "      <th>11</th>\n",
       "      <td>Horror</td>\n",
       "      <td>151</td>\n",
       "    </tr>\n",
       "    <tr>\n",
       "      <th>3</th>\n",
       "      <td>Biography</td>\n",
       "      <td>129</td>\n",
       "    </tr>\n",
       "    <tr>\n",
       "      <th>16</th>\n",
       "      <td>Sci-Fi</td>\n",
       "      <td>125</td>\n",
       "    </tr>\n",
       "    <tr>\n",
       "      <th>14</th>\n",
       "      <td>Mystery</td>\n",
       "      <td>117</td>\n",
       "    </tr>\n",
       "    <tr>\n",
       "      <th>9</th>\n",
       "      <td>Fantasy</td>\n",
       "      <td>116</td>\n",
       "    </tr>\n",
       "    <tr>\n",
       "      <th>2</th>\n",
       "      <td>Animation</td>\n",
       "      <td>98</td>\n",
       "    </tr>\n",
       "    <tr>\n",
       "      <th>8</th>\n",
       "      <td>Family</td>\n",
       "      <td>86</td>\n",
       "    </tr>\n",
       "    <tr>\n",
       "      <th>12</th>\n",
       "      <td>Music</td>\n",
       "      <td>52</td>\n",
       "    </tr>\n",
       "    <tr>\n",
       "      <th>10</th>\n",
       "      <td>History</td>\n",
       "      <td>39</td>\n",
       "    </tr>\n",
       "    <tr>\n",
       "      <th>6</th>\n",
       "      <td>Documentary</td>\n",
       "      <td>32</td>\n",
       "    </tr>\n",
       "    <tr>\n",
       "      <th>17</th>\n",
       "      <td>Sport</td>\n",
       "      <td>31</td>\n",
       "    </tr>\n",
       "    <tr>\n",
       "      <th>19</th>\n",
       "      <td>War</td>\n",
       "      <td>17</td>\n",
       "    </tr>\n",
       "    <tr>\n",
       "      <th>20</th>\n",
       "      <td>Western</td>\n",
       "      <td>9</td>\n",
       "    </tr>\n",
       "    <tr>\n",
       "      <th>13</th>\n",
       "      <td>Musical</td>\n",
       "      <td>7</td>\n",
       "    </tr>\n",
       "  </tbody>\n",
       "</table>\n",
       "</div>"
      ],
      "text/plain": [
       "          Genre  Number of Films\n",
       "7         Drama              664\n",
       "4        Comedy              482\n",
       "0        Action              418\n",
       "1     Adventure              341\n",
       "18     Thriller              232\n",
       "5         Crime              220\n",
       "15      Romance              177\n",
       "11       Horror              151\n",
       "3     Biography              129\n",
       "16       Sci-Fi              125\n",
       "14      Mystery              117\n",
       "9       Fantasy              116\n",
       "2     Animation               98\n",
       "8        Family               86\n",
       "12        Music               52\n",
       "10      History               39\n",
       "6   Documentary               32\n",
       "17        Sport               31\n",
       "19          War               17\n",
       "20      Western                9\n",
       "13      Musical                7"
      ]
     },
     "execution_count": 62,
     "metadata": {},
     "output_type": "execute_result"
    }
   ],
   "source": [
    "genrenumdf = pd.DataFrame({\"Genre\":list_of_unique_genres,\n",
    "                  \"Number of Films\":num_per_genres})\n",
    "genrenumdf = genrenumdf.sort_values(\"Number of Films\",ascending = False)\n",
    "genrenumdf"
   ]
  },
  {
   "cell_type": "code",
   "execution_count": 63,
   "metadata": {
    "scrolled": false
   },
   "outputs": [
    {
     "data": {
      "text/plain": [
       "Text(0.5, 1.0, 'Saturation of the Film Market by Genre')"
      ]
     },
     "execution_count": 63,
     "metadata": {},
     "output_type": "execute_result"
    },
    {
     "data": {
      "image/png": "[encoded data removed]",
      "text/plain": [
       "<Figure size 1440x720 with 1 Axes>"
      ]
     },
     "metadata": {
      "needs_background": "light"
     },
     "output_type": "display_data"
    }
   ],
   "source": [
    "fig, ax = plt.subplots(figsize=(20,10))\n",
    "x = genrenumdf['Genre']\n",
    "y = genrenumdf['Number of Films']\n",
    "ax.bar(x,y)\n",
    "plt.xticks(fontsize = 15, rotation = 65)\n",
    "ax.set_xlabel(\"Genres\", fontsize = 20)\n",
    "ax.set_ylabel('Number of Films', fontsize = 20)\n",
    "ax.set_title(\"Saturation of the Film Market by Genre\", fontsize = 20)"
   ]
  },
  {
   "cell_type": "markdown",
   "metadata": {},
   "source": [
    "As this bar graph indicates, `'Drama'`, `'Comedy'`, and `'Action'` have a higher number of films, while `'War'`, `'Western'`, and `'Musical'` have a lower number of films. This visualization not only shows the size of the market based on genre, but also suggests how much competition is in each market."
   ]
  },
  {
   "cell_type": "markdown",
   "metadata": {},
   "source": [
    "## Average Profit of a Film in Each Genre"
   ]
  },
  {
   "cell_type": "markdown",
   "metadata": {},
   "source": [
    "Combining the information on total profit and the number of films in each genre, we can find the average profit of a film in each genre. This allows us to consider which genres could yield the highest profit."
   ]
  },
  {
   "cell_type": "markdown",
   "metadata": {},
   "source": [
    "Using the `.mean()` method, we created a list containing the mean profit of films in each genre."
   ]
  },
  {
   "cell_type": "code",
   "execution_count": 64,
   "metadata": {},
   "outputs": [],
   "source": [
    "genre_profit_mean=[imdb_action.profit.mean(),\n",
    "imdb_adventure.profit.mean(),\n",
    "imdb_animation.profit.mean(),\n",
    "imdb_biography.profit.mean(),\n",
    "imdb_comedy.profit.mean(),\n",
    "imdb_crime.profit.mean(),\n",
    "imdb_documentary.profit.mean(),\n",
    "imdb_drama.profit.mean(),\n",
    "imdb_family.profit.mean(),\n",
    "imdb_fantasy.profit.mean(),\n",
    "imdb_history.profit.mean(),\n",
    "imdb_horror.profit.mean(),\n",
    "imdb_music.profit.mean(),\n",
    "imdb_musical.profit.mean(),\n",
    "imdb_mystery.profit.mean(),\n",
    "imdb_romance.profit.mean(),\n",
    "imdb_sciFi.profit.mean(),\n",
    "imdb_sport.profit.mean(),\n",
    "imdb_thriller.profit.mean(),\n",
    "imdb_war.profit.mean(),\n",
    "imdb_western.profit.mean()]"
   ]
  },
  {
   "cell_type": "markdown",
   "metadata": {},
   "source": [
    "The list of unique genres from above and the mean profit of films in each genre were placed into a new dataframe called `genreaveprofitdf`, which organizes genres from the highest average profit to the lowest. This new dataframe was then used to formulate a bar graph."
   ]
  },
  {
   "cell_type": "code",
   "execution_count": 65,
   "metadata": {},
   "outputs": [],
   "source": [
    "genreaveprofitdf = pd.DataFrame({\"Genre\":list_of_unique_genres,\n",
    "                  \"Average Profit\":genre_profit_mean})\n",
    "genreaveprofitdf = genreaveprofitdf.sort_values(\"Average Profit\",ascending = False)"
   ]
  },
  {
   "cell_type": "code",
   "execution_count": 66,
   "metadata": {
    "scrolled": false
   },
   "outputs": [
    {
     "data": {
      "text/plain": [
       "Text(0.5, 1.0, 'Average Profit of Film in a Certain Genre')"
      ]
     },
     "execution_count": 66,
     "metadata": {},
     "output_type": "execute_result"
    },
    {
     "data": {
      "image/png": "[encoded data removed]",
      "text/plain": [
       "<Figure size 1440x720 with 1 Axes>"
      ]
     },
     "metadata": {
      "needs_background": "light"
     },
     "output_type": "display_data"
    }
   ],
   "source": [
    "fig, ax = plt.subplots(figsize=(20,10))\n",
    "x = genreaveprofitdf['Genre']\n",
    "y = genreaveprofitdf['Average Profit']\n",
    "ax.bar(x,y)\n",
    "plt.xticks(fontsize = 15, rotation = 65)\n",
    "ax.set_xlabel(\"Genres\", fontsize = 20)\n",
    "ax.set_ylabel('Average Profit ', fontsize = 20)\n",
    "ax.set_title(\"Average Profit of Film in a Certain Genre\", fontsize = 20)"
   ]
  },
  {
   "cell_type": "markdown",
   "metadata": {},
   "source": [
    "As this bar graph indicates, films that are `'Animation'`, `'Musical'`, `'Sci-Fi'`, and `'Adventure'` have a high average profit, while films that are `'War'`, `'Sport'`, and `'Documentary'` have a low average profit."
   ]
  },
  {
   "cell_type": "markdown",
   "metadata": {},
   "source": [
    "One can gain a deeper understanding about the relationship between genre and profitability by synthesizing the graphs on average ROIs by genre, total profit by genre, number of films in genre, and average profit of film by genre.\n",
    "\n",
    "The graph on average ROIs by genre indicate that Horror, Mystery, and Thriller have a higher average ROI, suggesting a lower risk in investment, than other genres. However, the markets for the aforementioned genres are actually small compared to more saturated genres with higher attraction of money like Action and Adventure. This means that the pure profit from genres like Horror, Mystery, and Thriller may not be that high, but with lower competition in the genre and a higher average ROI, there may be lower risk and an opportunity to enter a niche market.\n",
    "\n",
    "On all three metrics, War, Western, Sport, and Documentary genres are likely to not only yield low average profits, but also have low returns on investment. Microsoft Studios should be cautious to involve themselves in these types of genres."
   ]
  },
  {
   "cell_type": "markdown",
   "metadata": {},
   "source": [
    "# Goal 2 - Writer and Director Profitablity\n"
   ]
  },
  {
   "cell_type": "markdown",
   "metadata": {},
   "source": [
    "## Return on Investment for Directors"
   ]
  },
  {
   "cell_type": "markdown",
   "metadata": {},
   "source": [
    "The first step was joining our `movie_basics` table to our directors and persons tables and then convert the new SQL table to a Pandas DataFrame."
   ]
  },
  {
   "cell_type": "code",
   "execution_count": 67,
   "metadata": {},
   "outputs": [],
   "source": [
    "movie_to_director = \"\"\"\n",
    "SELECT mb.primary_title AS title, \n",
    "    mb.start_year,\n",
    "    p.primary_name as director_name,\n",
    "    p.death_year as dead\n",
    "\n",
    "    \n",
    "FROM movie_basics AS mb \n",
    "JOIN directors AS d \n",
    "    ON d.movie_id = mb.movie_id \n",
    "JOIN persons as p\n",
    "    ON p.person_id= d.person_id\n",
    "\n",
    "\n",
    "ORDER BY primary_title ASC;\"\"\""
   ]
  },
  {
   "cell_type": "code",
   "execution_count": 68,
   "metadata": {},
   "outputs": [],
   "source": [
    "directors = pd.read_sql(movie_to_director, conn)\n",
    "directors = directors.drop_duplicates() "
   ]
  },
  {
   "cell_type": "markdown",
   "metadata": {},
   "source": [
    "Next, we merged our DataFrame that connected movies to directors to the `imdb_basics` DataFrame we created as part of our master data set. We perfomed an inner join to keep only the films with the same title that also shared  start years. We joined on two columns in order to avoid false joins where different films have the same title."
   ]
  },
  {
   "cell_type": "code",
   "execution_count": 69,
   "metadata": {},
   "outputs": [],
   "source": [
    "d_info_all = pd.merge(left= imdb_basics, right = directors, how = \"inner\", left_on=[\"start_year\",\"movie\"],\\\n",
    "                  right_on=[\"start_year\",\"title\"])\n"
   ]
  },
  {
   "cell_type": "code",
   "execution_count": 70,
   "metadata": {},
   "outputs": [
    {
     "name": "stdout",
     "output_type": "stream",
     "text": [
      "Budget 25th Percentile:  10000000.0\n",
      "Budget 75th Percentile:  65000000.0\n"
     ]
    }
   ],
   "source": [
    "print(\"Budget 25th Percentile: \",np.percentile(d_info_all[\"production_budget\"],25))\n",
    "print(\"Budget 75th Percentile: \",np.percentile(d_info_all[\"production_budget\"],75))\n"
   ]
  },
  {
   "cell_type": "markdown",
   "metadata": {},
   "source": [
    "This data left a lot to be desired, as we had deceased directors, incredibly small budgeted films, and extemely high budgeted films in our data. This was cleaned, eliminating directors that had passed at the time of this data's collection. The data was also constrained to a minimum budget of 10 million dollars and a maximum of 65 million dollars, based on the budget data's 25th and 75th percentiles, respectively. Given the client, this range is ideal as 10 million dollars is an extremely conservative film budget and not much for them to spend. 65 million dollars seems to be a good maximum, as they are establishing a new studio and do should not spend all potential capital on one or two films. These constraints will find a director who is comfortable working in this budget range and returning a profit."
   ]
  },
  {
   "cell_type": "code",
   "execution_count": 71,
   "metadata": {},
   "outputs": [
    {
     "data": {
      "text/html": [
       "<div>\n",
       "<style scoped>\n",
       "    .dataframe tbody tr th:only-of-type {\n",
       "        vertical-align: middle;\n",
       "    }\n",
       "\n",
       "    .dataframe tbody tr th {\n",
       "        vertical-align: top;\n",
       "    }\n",
       "\n",
       "    .dataframe thead th {\n",
       "        text-align: right;\n",
       "    }\n",
       "</style>\n",
       "<table border=\"1\" class=\"dataframe\">\n",
       "  <thead>\n",
       "    <tr style=\"text-align: right;\">\n",
       "      <th></th>\n",
       "      <th>movie</th>\n",
       "      <th>ROI</th>\n",
       "      <th>director_name</th>\n",
       "    </tr>\n",
       "  </thead>\n",
       "  <tbody>\n",
       "    <tr>\n",
       "      <th>1102</th>\n",
       "      <td>The Fault in Our Stars</td>\n",
       "      <td>2459.723617</td>\n",
       "      <td>Josh Boone</td>\n",
       "    </tr>\n",
       "    <tr>\n",
       "      <th>503</th>\n",
       "      <td>Halloween</td>\n",
       "      <td>2449.006670</td>\n",
       "      <td>David Gordon Green</td>\n",
       "    </tr>\n",
       "    <tr>\n",
       "      <th>111</th>\n",
       "      <td>Black Swan</td>\n",
       "      <td>2448.205462</td>\n",
       "      <td>Darren Aronofsky</td>\n",
       "    </tr>\n",
       "    <tr>\n",
       "      <th>1316</th>\n",
       "      <td>La La Land</td>\n",
       "      <td>2031.755815</td>\n",
       "      <td>Damien Chazelle</td>\n",
       "    </tr>\n",
       "    <tr>\n",
       "      <th>1459</th>\n",
       "      <td>Annabelle: Creation</td>\n",
       "      <td>1935.899100</td>\n",
       "      <td>David F. Sandberg</td>\n",
       "    </tr>\n",
       "    <tr>\n",
       "      <th>...</th>\n",
       "      <td>...</td>\n",
       "      <td>...</td>\n",
       "      <td>...</td>\n",
       "    </tr>\n",
       "    <tr>\n",
       "      <th>194</th>\n",
       "      <td>Accidental Love</td>\n",
       "      <td>-99.479092</td>\n",
       "      <td>David O. Russell</td>\n",
       "    </tr>\n",
       "    <tr>\n",
       "      <th>770</th>\n",
       "      <td>Freaks of Nature</td>\n",
       "      <td>-99.784976</td>\n",
       "      <td>Robbie Pickering</td>\n",
       "    </tr>\n",
       "    <tr>\n",
       "      <th>0</th>\n",
       "      <td>Foodfight!</td>\n",
       "      <td>-99.836209</td>\n",
       "      <td>Lawrence Kasanoff</td>\n",
       "    </tr>\n",
       "    <tr>\n",
       "      <th>1250</th>\n",
       "      <td>10 Days in a Madhouse</td>\n",
       "      <td>-99.878200</td>\n",
       "      <td>Timothy Hines</td>\n",
       "    </tr>\n",
       "    <tr>\n",
       "      <th>1081</th>\n",
       "      <td>Broken Horses</td>\n",
       "      <td>-99.976860</td>\n",
       "      <td>Vidhu Vinod Chopra</td>\n",
       "    </tr>\n",
       "  </tbody>\n",
       "</table>\n",
       "<p>813 rows × 3 columns</p>\n",
       "</div>"
      ],
      "text/plain": [
       "                       movie          ROI       director_name\n",
       "1102  The Fault in Our Stars  2459.723617          Josh Boone\n",
       "503                Halloween  2449.006670  David Gordon Green\n",
       "111               Black Swan  2448.205462    Darren Aronofsky\n",
       "1316              La La Land  2031.755815     Damien Chazelle\n",
       "1459     Annabelle: Creation  1935.899100   David F. Sandberg\n",
       "...                      ...          ...                 ...\n",
       "194          Accidental Love   -99.479092    David O. Russell\n",
       "770         Freaks of Nature   -99.784976    Robbie Pickering\n",
       "0                 Foodfight!   -99.836209   Lawrence Kasanoff\n",
       "1250   10 Days in a Madhouse   -99.878200       Timothy Hines\n",
       "1081           Broken Horses   -99.976860  Vidhu Vinod Chopra\n",
       "\n",
       "[813 rows x 3 columns]"
      ]
     },
     "execution_count": 71,
     "metadata": {},
     "output_type": "execute_result"
    }
   ],
   "source": [
    "\n",
    "#Filter out the deceased and lower mid budget (btw $10 mil and 65 $mil)\n",
    "dia = d_info_all[(d_info_all[\"dead\"].isna()) & (d_info_all[\"production_budget\"]>= 10000000) \\\n",
    "                 & (d_info_all[\"production_budget\"]<= 65000000)]\n",
    "\n",
    "#Give us the column we want\n",
    "dia2 = dia[[\"movie\", \"ROI\", \"director_name\"]]\n",
    "dia2.sort_values(by = [\"ROI\"], ascending = False)"
   ]
  },
  {
   "cell_type": "markdown",
   "metadata": {},
   "source": [
    "After additional filtering, we now have a DataFrame of all films, their ROI, and their director. As every director has directed films of various budgets, the mean of all ROI was calculated for each director. The results were then listed in decending order and finally graphed on a bar graph."
   ]
  },
  {
   "cell_type": "code",
   "execution_count": 72,
   "metadata": {},
   "outputs": [
    {
     "data": {
      "text/html": [
       "<div>\n",
       "<style scoped>\n",
       "    .dataframe tbody tr th:only-of-type {\n",
       "        vertical-align: middle;\n",
       "    }\n",
       "\n",
       "    .dataframe tbody tr th {\n",
       "        vertical-align: top;\n",
       "    }\n",
       "\n",
       "    .dataframe thead th {\n",
       "        text-align: right;\n",
       "    }\n",
       "</style>\n",
       "<table border=\"1\" class=\"dataframe\">\n",
       "  <thead>\n",
       "    <tr style=\"text-align: right;\">\n",
       "      <th></th>\n",
       "      <th>ROI</th>\n",
       "    </tr>\n",
       "    <tr>\n",
       "      <th>director_name</th>\n",
       "      <th></th>\n",
       "    </tr>\n",
       "  </thead>\n",
       "  <tbody>\n",
       "    <tr>\n",
       "      <th>Josh Boone</th>\n",
       "      <td>2459.723617</td>\n",
       "    </tr>\n",
       "    <tr>\n",
       "      <th>Darren Aronofsky</th>\n",
       "      <td>2448.205462</td>\n",
       "    </tr>\n",
       "    <tr>\n",
       "      <th>David F. Sandberg</th>\n",
       "      <td>1935.899100</td>\n",
       "    </tr>\n",
       "    <tr>\n",
       "      <th>John Krasinski</th>\n",
       "      <td>1867.778200</td>\n",
       "    </tr>\n",
       "    <tr>\n",
       "      <th>Adam Robitel</th>\n",
       "      <td>1578.855880</td>\n",
       "    </tr>\n",
       "    <tr>\n",
       "      <th>...</th>\n",
       "      <td>...</td>\n",
       "    </tr>\n",
       "    <tr>\n",
       "      <th>David Hayter</th>\n",
       "      <td>-99.472483</td>\n",
       "    </tr>\n",
       "    <tr>\n",
       "      <th>Robbie Pickering</th>\n",
       "      <td>-99.784976</td>\n",
       "    </tr>\n",
       "    <tr>\n",
       "      <th>Lawrence Kasanoff</th>\n",
       "      <td>-99.836209</td>\n",
       "    </tr>\n",
       "    <tr>\n",
       "      <th>Timothy Hines</th>\n",
       "      <td>-99.878200</td>\n",
       "    </tr>\n",
       "    <tr>\n",
       "      <th>Vidhu Vinod Chopra</th>\n",
       "      <td>-99.976860</td>\n",
       "    </tr>\n",
       "  </tbody>\n",
       "</table>\n",
       "<p>606 rows × 1 columns</p>\n",
       "</div>"
      ],
      "text/plain": [
       "                            ROI\n",
       "director_name                  \n",
       "Josh Boone          2459.723617\n",
       "Darren Aronofsky    2448.205462\n",
       "David F. Sandberg   1935.899100\n",
       "John Krasinski      1867.778200\n",
       "Adam Robitel        1578.855880\n",
       "...                         ...\n",
       "David Hayter         -99.472483\n",
       "Robbie Pickering     -99.784976\n",
       "Lawrence Kasanoff    -99.836209\n",
       "Timothy Hines        -99.878200\n",
       "Vidhu Vinod Chopra   -99.976860\n",
       "\n",
       "[606 rows x 1 columns]"
      ]
     },
     "execution_count": 72,
     "metadata": {},
     "output_type": "execute_result"
    }
   ],
   "source": [
    "d_roi = dia2.groupby(['director_name']).mean().sort_values(by=[\"ROI\"], ascending = False)\n",
    "d_roi\n"
   ]
  },
  {
   "cell_type": "code",
   "execution_count": 73,
   "metadata": {},
   "outputs": [
    {
     "data": {
      "text/plain": [
       "''"
      ]
     },
     "execution_count": 73,
     "metadata": {},
     "output_type": "execute_result"
    },
    {
     "data": {
      "image/png": "[encoded data removed]",
      "text/plain": [
       "<Figure size 1440x576 with 1 Axes>"
      ]
     },
     "metadata": {
      "needs_background": "light"
     },
     "output_type": "display_data"
    }
   ],
   "source": [
    "fig, ax = plt.subplots(figsize = (20,8))\n",
    "\n",
    "d_roi2 = d_roi.head(20)\n",
    "\n",
    "ax.bar(\n",
    "    x=d_roi2.index,\n",
    "    height=d_roi2[\"ROI\"]\n",
    ")\n",
    "plt.xticks(fontsize = 15, rotation = 65)\n",
    "ax.set_title(\"Directors with Top 20 Average ROI\", fontsize = 25)\n",
    "ax.set_xlabel(\"Directors\", fontsize =20)\n",
    "ax.set_ylabel(\"ROI (%)\", fontsize =20)\n",
    "# plt.savefig('director_roi.png')\n",
    ";"
   ]
  },
  {
   "cell_type": "markdown",
   "metadata": {},
   "source": [
    "As can be seen, our data filtering has yeilded the client with a list of  directors with the top 20 ROI. It includes notable directors such as Darren Aronofsky, James Wan, Jordan Peele and M. Night Shyamalan. This graph of the top 20 will be presented to the client as well as the full list upon request. However, this is still 20 choices, which may be overwhelming to the client. This will be further filtered after we create a list of writers with the top ROI."
   ]
  },
  {
   "cell_type": "markdown",
   "metadata": {},
   "source": [
    "## Return on Investment for Writers"
   ]
  },
  {
   "cell_type": "markdown",
   "metadata": {},
   "source": [
    "The first step was joining our imdb_basics table to our writers and persons tables and then convert the newly SQL table to a Pandas DataFrame."
   ]
  },
  {
   "cell_type": "code",
   "execution_count": 74,
   "metadata": {},
   "outputs": [],
   "source": [
    "movie_to_writer = \"\"\"\n",
    "SELECT mb.primary_title AS title,\n",
    "    mb.start_year,\n",
    "    w.person_id, \n",
    "    p.primary_name as writer_name,\n",
    "    p.death_year as dead\n",
    "    \n",
    "FROM movie_basics AS mb \n",
    "JOIN writers AS w \n",
    "    ON mb.movie_id = w.movie_id \n",
    "JOIN persons as p\n",
    "    ON p.person_id= w.person_id\n",
    "\n",
    "\n",
    "ORDER BY primary_title ASC;\"\"\"\n"
   ]
  },
  {
   "cell_type": "code",
   "execution_count": 75,
   "metadata": {},
   "outputs": [],
   "source": [
    "writers = pd.read_sql(movie_to_writer, conn)\n",
    "writers = writers.drop_duplicates() "
   ]
  },
  {
   "cell_type": "markdown",
   "metadata": {},
   "source": [
    "Next, we merged our DataFrame that connected movies to writers to the `imdb_basics` DataFrame we created as part of our master data set. An inner join was performed in order to keep only the films with the same title that also shared  start years. We joined on two columns in order to avoid false joins where different films have the same title."
   ]
  },
  {
   "cell_type": "code",
   "execution_count": 76,
   "metadata": {},
   "outputs": [],
   "source": [
    "w_info_all = pd.merge(left= imdb_basics, right = writers, how = \"inner\", left_on=[\"movie\", \"start_year\"],\\\n",
    "                  right_on=[\"title\", \"start_year\"])\n"
   ]
  },
  {
   "cell_type": "markdown",
   "metadata": {},
   "source": [
    "This was cleaned accoring to the guidelines we followed in directors. All deceased writers were eliminated from the new DataFrame and the budget was yet again constrained to the 25th and 75th percentiles (10 million dollars to 65 million dollars)."
   ]
  },
  {
   "cell_type": "code",
   "execution_count": 77,
   "metadata": {},
   "outputs": [
    {
     "data": {
      "text/html": [
       "<div>\n",
       "<style scoped>\n",
       "    .dataframe tbody tr th:only-of-type {\n",
       "        vertical-align: middle;\n",
       "    }\n",
       "\n",
       "    .dataframe tbody tr th {\n",
       "        vertical-align: top;\n",
       "    }\n",
       "\n",
       "    .dataframe thead th {\n",
       "        text-align: right;\n",
       "    }\n",
       "</style>\n",
       "<table border=\"1\" class=\"dataframe\">\n",
       "  <thead>\n",
       "    <tr style=\"text-align: right;\">\n",
       "      <th></th>\n",
       "      <th>movie</th>\n",
       "      <th>ROI</th>\n",
       "      <th>writer_name</th>\n",
       "    </tr>\n",
       "  </thead>\n",
       "  <tbody>\n",
       "    <tr>\n",
       "      <th>2641</th>\n",
       "      <td>The Fault in Our Stars</td>\n",
       "      <td>2459.723617</td>\n",
       "      <td>John Green</td>\n",
       "    </tr>\n",
       "    <tr>\n",
       "      <th>2642</th>\n",
       "      <td>The Fault in Our Stars</td>\n",
       "      <td>2459.723617</td>\n",
       "      <td>Michael H. Weber</td>\n",
       "    </tr>\n",
       "    <tr>\n",
       "      <th>2643</th>\n",
       "      <td>The Fault in Our Stars</td>\n",
       "      <td>2459.723617</td>\n",
       "      <td>Scott Neustadter</td>\n",
       "    </tr>\n",
       "    <tr>\n",
       "      <th>1276</th>\n",
       "      <td>Halloween</td>\n",
       "      <td>2449.006670</td>\n",
       "      <td>David Gordon Green</td>\n",
       "    </tr>\n",
       "    <tr>\n",
       "      <th>1278</th>\n",
       "      <td>Halloween</td>\n",
       "      <td>2449.006670</td>\n",
       "      <td>Danny McBride</td>\n",
       "    </tr>\n",
       "    <tr>\n",
       "      <th>...</th>\n",
       "      <td>...</td>\n",
       "      <td>...</td>\n",
       "      <td>...</td>\n",
       "    </tr>\n",
       "    <tr>\n",
       "      <th>2</th>\n",
       "      <td>Foodfight!</td>\n",
       "      <td>-99.836209</td>\n",
       "      <td>Lawrence Kasanoff</td>\n",
       "    </tr>\n",
       "    <tr>\n",
       "      <th>0</th>\n",
       "      <td>Foodfight!</td>\n",
       "      <td>-99.836209</td>\n",
       "      <td>Sean Catherine Derek</td>\n",
       "    </tr>\n",
       "    <tr>\n",
       "      <th>2966</th>\n",
       "      <td>10 Days in a Madhouse</td>\n",
       "      <td>-99.878200</td>\n",
       "      <td>Timothy Hines</td>\n",
       "    </tr>\n",
       "    <tr>\n",
       "      <th>2589</th>\n",
       "      <td>Broken Horses</td>\n",
       "      <td>-99.976860</td>\n",
       "      <td>Vidhu Vinod Chopra</td>\n",
       "    </tr>\n",
       "    <tr>\n",
       "      <th>2590</th>\n",
       "      <td>Broken Horses</td>\n",
       "      <td>-99.976860</td>\n",
       "      <td>Abhijat Joshi</td>\n",
       "    </tr>\n",
       "  </tbody>\n",
       "</table>\n",
       "<p>1725 rows × 3 columns</p>\n",
       "</div>"
      ],
      "text/plain": [
       "                       movie          ROI           writer_name\n",
       "2641  The Fault in Our Stars  2459.723617            John Green\n",
       "2642  The Fault in Our Stars  2459.723617      Michael H. Weber\n",
       "2643  The Fault in Our Stars  2459.723617      Scott Neustadter\n",
       "1276               Halloween  2449.006670    David Gordon Green\n",
       "1278               Halloween  2449.006670         Danny McBride\n",
       "...                      ...          ...                   ...\n",
       "2                 Foodfight!   -99.836209     Lawrence Kasanoff\n",
       "0                 Foodfight!   -99.836209  Sean Catherine Derek\n",
       "2966   10 Days in a Madhouse   -99.878200         Timothy Hines\n",
       "2589           Broken Horses   -99.976860    Vidhu Vinod Chopra\n",
       "2590           Broken Horses   -99.976860         Abhijat Joshi\n",
       "\n",
       "[1725 rows x 3 columns]"
      ]
     },
     "execution_count": 77,
     "metadata": {},
     "output_type": "execute_result"
    }
   ],
   "source": [
    "\n",
    "\n",
    "#Filter out the dead and lower - mid budget (between $10 mil and $65 mil)\n",
    "wia = w_info_all[(w_info_all[\"dead\"].isna()) & (w_info_all[\"production_budget\"]>= 10000000) \\\n",
    "                 & (w_info_all[\"production_budget\"]<= 65000000)]\n",
    "#Give us the column we want\n",
    "wia2 = wia[[\"movie\", \"ROI\", \"writer_name\"]]\n",
    "wia2.sort_values(by = [\"ROI\"], ascending = False)"
   ]
  },
  {
   "cell_type": "markdown",
   "metadata": {},
   "source": [
    "After additional filtering, we now have a DataFrame of all films, their ROI, and their writers. The mean of each writers ROIs were calculated. The results were then listed in decending order and graphed on a bar graph."
   ]
  },
  {
   "cell_type": "code",
   "execution_count": 78,
   "metadata": {},
   "outputs": [
    {
     "data": {
      "text/html": [
       "<div>\n",
       "<style scoped>\n",
       "    .dataframe tbody tr th:only-of-type {\n",
       "        vertical-align: middle;\n",
       "    }\n",
       "\n",
       "    .dataframe tbody tr th {\n",
       "        vertical-align: top;\n",
       "    }\n",
       "\n",
       "    .dataframe thead th {\n",
       "        text-align: right;\n",
       "    }\n",
       "</style>\n",
       "<table border=\"1\" class=\"dataframe\">\n",
       "  <thead>\n",
       "    <tr style=\"text-align: right;\">\n",
       "      <th></th>\n",
       "      <th>ROI</th>\n",
       "    </tr>\n",
       "    <tr>\n",
       "      <th>writer_name</th>\n",
       "      <th></th>\n",
       "    </tr>\n",
       "  </thead>\n",
       "  <tbody>\n",
       "    <tr>\n",
       "      <th>David Gordon Green</th>\n",
       "      <td>2449.006670</td>\n",
       "    </tr>\n",
       "    <tr>\n",
       "      <th>Jeff Fradley</th>\n",
       "      <td>2449.006670</td>\n",
       "    </tr>\n",
       "    <tr>\n",
       "      <th>Andres Heinz</th>\n",
       "      <td>2448.205462</td>\n",
       "    </tr>\n",
       "    <tr>\n",
       "      <th>Mark Heyman</th>\n",
       "      <td>2448.205462</td>\n",
       "    </tr>\n",
       "    <tr>\n",
       "      <th>Damien Chazelle</th>\n",
       "      <td>2031.755815</td>\n",
       "    </tr>\n",
       "    <tr>\n",
       "      <th>...</th>\n",
       "      <td>...</td>\n",
       "    </tr>\n",
       "    <tr>\n",
       "      <th>Lawrence Kasanoff</th>\n",
       "      <td>-99.836209</td>\n",
       "    </tr>\n",
       "    <tr>\n",
       "      <th>Sean Catherine Derek</th>\n",
       "      <td>-99.836209</td>\n",
       "    </tr>\n",
       "    <tr>\n",
       "      <th>Timothy Hines</th>\n",
       "      <td>-99.878200</td>\n",
       "    </tr>\n",
       "    <tr>\n",
       "      <th>Vidhu Vinod Chopra</th>\n",
       "      <td>-99.976860</td>\n",
       "    </tr>\n",
       "    <tr>\n",
       "      <th>Abhijat Joshi</th>\n",
       "      <td>-99.976860</td>\n",
       "    </tr>\n",
       "  </tbody>\n",
       "</table>\n",
       "<p>1366 rows × 1 columns</p>\n",
       "</div>"
      ],
      "text/plain": [
       "                              ROI\n",
       "writer_name                      \n",
       "David Gordon Green    2449.006670\n",
       "Jeff Fradley          2449.006670\n",
       "Andres Heinz          2448.205462\n",
       "Mark Heyman           2448.205462\n",
       "Damien Chazelle       2031.755815\n",
       "...                           ...\n",
       "Lawrence Kasanoff      -99.836209\n",
       "Sean Catherine Derek   -99.836209\n",
       "Timothy Hines          -99.878200\n",
       "Vidhu Vinod Chopra     -99.976860\n",
       "Abhijat Joshi          -99.976860\n",
       "\n",
       "[1366 rows x 1 columns]"
      ]
     },
     "execution_count": 78,
     "metadata": {},
     "output_type": "execute_result"
    }
   ],
   "source": [
    "w_roi = wia2.groupby(['writer_name']).mean().sort_values(by=[\"ROI\"], ascending = False)\n",
    "w_roi "
   ]
  },
  {
   "cell_type": "code",
   "execution_count": 79,
   "metadata": {},
   "outputs": [
    {
     "data": {
      "text/plain": [
       "''"
      ]
     },
     "execution_count": 79,
     "metadata": {},
     "output_type": "execute_result"
    },
    {
     "data": {
      "image/png": "[encoded data removed]",
      "text/plain": [
       "<Figure size 1440x576 with 1 Axes>"
      ]
     },
     "metadata": {
      "needs_background": "light"
     },
     "output_type": "display_data"
    }
   ],
   "source": [
    "fig, ax = plt.subplots(figsize = (20,8))\n",
    "\n",
    "w_roi2 = w_roi.head(20)  #\n",
    "\n",
    "ax.bar(\n",
    "    x=w_roi2.index,\n",
    "    height=w_roi2[\"ROI\"]\n",
    ")\n",
    "plt.xticks(fontsize = 15, rotation = 65)\n",
    "ax.set_title(\"Writers with Top 20 Average ROI\", fontsize = 25)\n",
    "ax.set_xlabel(\"Writers\", fontsize =20)\n",
    "ax.set_ylabel(\"ROI (%)\", fontsize =20)\n",
    "# plt.savefig('writer_roi.png')\n",
    ";"
   ]
  },
  {
   "cell_type": "markdown",
   "metadata": {},
   "source": [
    "As can be seen, our data filtering has yeilded the clinet with a list of writers with the top 20 ROIs. Notable individuals on the list include: David Gordon Green, Cary Fukunaga, and John Krasinski. This graph of the top 20 will be presented to the client as well as the full list upon request. We still have many writers to choose from and we need to match them to a director. \n",
    "\n",
    "\n",
    "However, it would be much simpler to get a writer who is also a director, to save the trouble of having to mach the two roles. It also introduces potential cost savings in streamlining production, as you would only need pay the director slightly more to do the work of two people, rather than paying two seperate people full salaries."
   ]
  },
  {
   "cell_type": "markdown",
   "metadata": {},
   "source": [
    "# Who can both direct and write and still deliver the highest return on investment?\n"
   ]
  },
  {
   "cell_type": "markdown",
   "metadata": {},
   "source": [
    "First we will join our director and writer DataFrames."
   ]
  },
  {
   "cell_type": "code",
   "execution_count": 80,
   "metadata": {},
   "outputs": [],
   "source": [
    "d_w_combo = pd.merge(left= dia, right = wia, how = \"inner\", left_on=[\"movie\", \"start_year\"],\\\n",
    "                  right_on=[\"title\", \"start_year\"])"
   ]
  },
  {
   "cell_type": "markdown",
   "metadata": {},
   "source": [
    "Then we will filter our DataFrame to only rows where the writer and director are the same and return a list of mean ROI by director in descending order."
   ]
  },
  {
   "cell_type": "code",
   "execution_count": 81,
   "metadata": {
    "scrolled": true
   },
   "outputs": [
    {
     "data": {
      "text/html": [
       "<div>\n",
       "<style scoped>\n",
       "    .dataframe tbody tr th:only-of-type {\n",
       "        vertical-align: middle;\n",
       "    }\n",
       "\n",
       "    .dataframe tbody tr th {\n",
       "        vertical-align: top;\n",
       "    }\n",
       "\n",
       "    .dataframe thead th {\n",
       "        text-align: right;\n",
       "    }\n",
       "</style>\n",
       "<table border=\"1\" class=\"dataframe\">\n",
       "  <thead>\n",
       "    <tr style=\"text-align: right;\">\n",
       "      <th></th>\n",
       "      <th>ROI_x</th>\n",
       "    </tr>\n",
       "    <tr>\n",
       "      <th>writer_name</th>\n",
       "      <th></th>\n",
       "    </tr>\n",
       "  </thead>\n",
       "  <tbody>\n",
       "    <tr>\n",
       "      <th>David Gordon Green</th>\n",
       "      <td>2449.006670</td>\n",
       "    </tr>\n",
       "    <tr>\n",
       "      <th>Damien Chazelle</th>\n",
       "      <td>2031.755815</td>\n",
       "    </tr>\n",
       "    <tr>\n",
       "      <th>John Krasinski</th>\n",
       "      <td>1867.778200</td>\n",
       "    </tr>\n",
       "    <tr>\n",
       "      <th>Jordan Peele</th>\n",
       "      <td>1171.051550</td>\n",
       "    </tr>\n",
       "    <tr>\n",
       "      <th>M. Night Shyamalan</th>\n",
       "      <td>1126.517525</td>\n",
       "    </tr>\n",
       "  </tbody>\n",
       "</table>\n",
       "</div>"
      ],
      "text/plain": [
       "                          ROI_x\n",
       "writer_name                    \n",
       "David Gordon Green  2449.006670\n",
       "Damien Chazelle     2031.755815\n",
       "John Krasinski      1867.778200\n",
       "Jordan Peele        1171.051550\n",
       "M. Night Shyamalan  1126.517525"
      ]
     },
     "execution_count": 81,
     "metadata": {},
     "output_type": "execute_result"
    }
   ],
   "source": [
    "d_w_combo_fil = d_w_combo[d_w_combo[\"director_name\"]==d_w_combo[\"writer_name\"]]\n",
    "dwc =  d_w_combo_fil[[\"movie_x\", \"ROI_x\", \"writer_name\", \"director_name\"]]\n",
    "dirwr = dwc.groupby(['writer_name']).mean().sort_values(by=[\"ROI_x\"], ascending = False)\n",
    "dirwr.head()"
   ]
  },
  {
   "cell_type": "markdown",
   "metadata": {},
   "source": [
    "This list can then be turned into a bar graph, showing the director/writers that yield the highest return on investment for mid-tier budgeted films. "
   ]
  },
  {
   "cell_type": "code",
   "execution_count": 82,
   "metadata": {},
   "outputs": [
    {
     "data": {
      "text/plain": [
       "''"
      ]
     },
     "execution_count": 82,
     "metadata": {},
     "output_type": "execute_result"
    },
    {
     "data": {
      "image/png": "[encoded data removed]",
      "text/plain": [
       "<Figure size 1440x576 with 1 Axes>"
      ]
     },
     "metadata": {
      "needs_background": "light"
     },
     "output_type": "display_data"
    }
   ],
   "source": [
    "fig, ax = plt.subplots(figsize = (20,8))\n",
    "\n",
    "top_5 = dirwr.head()\n",
    "\n",
    "ax.bar(\n",
    "    x=top_5.index,\n",
    "    height=top_5[\"ROI_x\"]\n",
    ")\n",
    "plt.xticks(fontsize = 15, rotation = 0)\n",
    "ax.set_title(\"Director/Writers with Top 5 Average ROI\", fontsize = 25)\n",
    "ax.set_xlabel(\"Directors/Writers\", fontsize =20)\n",
    "ax.set_ylabel(\"ROI (%)\", fontsize =20)\n",
    "# plt.savefig('director_writer_roi.png')\n",
    ";"
   ]
  },
  {
   "cell_type": "code",
   "execution_count": 83,
   "metadata": {},
   "outputs": [
    {
     "data": {
      "text/plain": [
       "888    [Horror, Thriller]\n",
       "Name: genres_x, dtype: object"
      ]
     },
     "execution_count": 83,
     "metadata": {},
     "output_type": "execute_result"
    }
   ],
   "source": [
    "col_want = d_w_combo_fil [[\"genres_x\",\"movie_x\",\"director_name\",\"writer_name\"]]\n",
    "ddg = col_want[(col_want[\"director_name\"] == \"David Gordon Green\") |(col_want[\"writer_name\"] == \"David Gordon Green\")]\n",
    "ddg_genre = ddg[\"genres_x\"].map(lambda x: x.split(\",\"))\n",
    "ddg_genre"
   ]
  },
  {
   "cell_type": "markdown",
   "metadata": {},
   "source": [
    "### From this data, we would recomend that our client hires the  writer/director with the highest average return on investment, David Gordon Green. The primary genres he works in are horror and thrillers."
   ]
  },
  {
   "cell_type": "markdown",
   "metadata": {},
   "source": [
    "## Goal 3 - Finding the perfect time to release"
   ]
  },
  {
   "cell_type": "markdown",
   "metadata": {},
   "source": [
    "## ROI per month"
   ]
  },
  {
   "cell_type": "markdown",
   "metadata": {},
   "source": [
    "Here I dropped the rows with no genres so there are no errors when I eventually code, while also filtering out the years that I needed which were 2012 to 2019 so any thing before doesn't contradict my graph fidnings. "
   ]
  },
  {
   "cell_type": "code",
   "execution_count": 85,
   "metadata": {},
   "outputs": [],
   "source": [
    "imdb_basics=imdb_basics.dropna(subset=['genres'])"
   ]
  },
  {
   "cell_type": "code",
   "execution_count": 84,
   "metadata": {},
   "outputs": [
    {
     "data": {
      "text/plain": [
       "[0        True\n",
       " 1        True\n",
       " 2        True\n",
       " 3        True\n",
       " 4       False\n",
       "         ...  \n",
       " 1417     True\n",
       " 1418     True\n",
       " 1419     True\n",
       " 1420     True\n",
       " 1421     True\n",
       " Name: start_year, Length: 1365, dtype: bool]"
      ]
     },
     "execution_count": 84,
     "metadata": {},
     "output_type": "execute_result"
    }
   ],
   "source": [
    "[imdb_basics['start_year']>=2012] #Only using dates from to 2012 and up"
   ]
  },
  {
   "cell_type": "code",
   "execution_count": 86,
   "metadata": {},
   "outputs": [
    {
     "name": "stdout",
     "output_type": "stream",
     "text": [
      "<class 'pandas.core.frame.DataFrame'>\n",
      "Int64Index: 1365 entries, 0 to 1421\n",
      "Data columns (total 14 columns):\n",
      " #   Column             Non-Null Count  Dtype  \n",
      "---  ------             --------------  -----  \n",
      " 0   movie_id           1365 non-null   object \n",
      " 1   primary_title      1365 non-null   object \n",
      " 2   original_title     1365 non-null   object \n",
      " 3   start_year         1365 non-null   int64  \n",
      " 4   runtime_minutes    1359 non-null   float64\n",
      " 5   genres             1365 non-null   object \n",
      " 6   id                 1365 non-null   int64  \n",
      " 7   release_date       1365 non-null   object \n",
      " 8   movie              1365 non-null   object \n",
      " 9   production_budget  1365 non-null   int64  \n",
      " 10  domestic_gross     1365 non-null   int64  \n",
      " 11  worldwide_gross    1365 non-null   int64  \n",
      " 12  ROI                1365 non-null   float64\n",
      " 13  profit             1365 non-null   int64  \n",
      "dtypes: float64(2), int64(6), object(6)\n",
      "memory usage: 160.0+ KB\n"
     ]
    }
   ],
   "source": [
    "imdb_basics.info() #info check"
   ]
  },
  {
   "cell_type": "markdown",
   "metadata": {},
   "source": [
    "## Making a new column for month"
   ]
  },
  {
   "cell_type": "markdown",
   "metadata": {},
   "source": [
    "I added a new column to the data set because in order to graph which season would be best I needed the month so I grabbed from the release date column and only took the abbreviated month using lambda function which worked out great for me as you can see from the column"
   ]
  },
  {
   "cell_type": "code",
   "execution_count": 87,
   "metadata": {},
   "outputs": [],
   "source": [
    "imdb_basics[\"month\"] = imdb_basics[\"release_date\"].map(lambda x: str(x[:4])) # Using lambda to only grab abbreviated the month\n",
    "#to make the new month column"
   ]
  },
  {
   "cell_type": "code",
   "execution_count": 88,
   "metadata": {},
   "outputs": [
    {
     "data": {
      "text/html": [
       "<div>\n",
       "<style scoped>\n",
       "    .dataframe tbody tr th:only-of-type {\n",
       "        vertical-align: middle;\n",
       "    }\n",
       "\n",
       "    .dataframe tbody tr th {\n",
       "        vertical-align: top;\n",
       "    }\n",
       "\n",
       "    .dataframe thead th {\n",
       "        text-align: right;\n",
       "    }\n",
       "</style>\n",
       "<table border=\"1\" class=\"dataframe\">\n",
       "  <thead>\n",
       "    <tr style=\"text-align: right;\">\n",
       "      <th></th>\n",
       "      <th>movie_id</th>\n",
       "      <th>primary_title</th>\n",
       "      <th>original_title</th>\n",
       "      <th>start_year</th>\n",
       "      <th>runtime_minutes</th>\n",
       "      <th>genres</th>\n",
       "      <th>id</th>\n",
       "      <th>release_date</th>\n",
       "      <th>movie</th>\n",
       "      <th>production_budget</th>\n",
       "      <th>domestic_gross</th>\n",
       "      <th>worldwide_gross</th>\n",
       "      <th>ROI</th>\n",
       "      <th>profit</th>\n",
       "      <th>month</th>\n",
       "    </tr>\n",
       "  </thead>\n",
       "  <tbody>\n",
       "    <tr>\n",
       "      <th>0</th>\n",
       "      <td>tt0249516</td>\n",
       "      <td>Foodfight!</td>\n",
       "      <td>Foodfight!</td>\n",
       "      <td>2012</td>\n",
       "      <td>91.0</td>\n",
       "      <td>Action,Animation,Comedy</td>\n",
       "      <td>26</td>\n",
       "      <td>Dec 31, 2012</td>\n",
       "      <td>Foodfight!</td>\n",
       "      <td>45000000</td>\n",
       "      <td>0</td>\n",
       "      <td>73706</td>\n",
       "      <td>-99.836209</td>\n",
       "      <td>-44926294</td>\n",
       "      <td>Dec</td>\n",
       "    </tr>\n",
       "    <tr>\n",
       "      <th>1</th>\n",
       "      <td>tt0359950</td>\n",
       "      <td>The Secret Life of Walter Mitty</td>\n",
       "      <td>The Secret Life of Walter Mitty</td>\n",
       "      <td>2013</td>\n",
       "      <td>114.0</td>\n",
       "      <td>Adventure,Comedy,Drama</td>\n",
       "      <td>37</td>\n",
       "      <td>Dec 25, 2013</td>\n",
       "      <td>The Secret Life of Walter Mitty</td>\n",
       "      <td>91000000</td>\n",
       "      <td>58236838</td>\n",
       "      <td>187861183</td>\n",
       "      <td>106.440860</td>\n",
       "      <td>96861183</td>\n",
       "      <td>Dec</td>\n",
       "    </tr>\n",
       "    <tr>\n",
       "      <th>2</th>\n",
       "      <td>tt0365907</td>\n",
       "      <td>A Walk Among the Tombstones</td>\n",
       "      <td>A Walk Among the Tombstones</td>\n",
       "      <td>2014</td>\n",
       "      <td>114.0</td>\n",
       "      <td>Action,Crime,Drama</td>\n",
       "      <td>67</td>\n",
       "      <td>Sep 19, 2014</td>\n",
       "      <td>A Walk Among the Tombstones</td>\n",
       "      <td>28000000</td>\n",
       "      <td>26017685</td>\n",
       "      <td>62108587</td>\n",
       "      <td>121.816382</td>\n",
       "      <td>34108587</td>\n",
       "      <td>Sep</td>\n",
       "    </tr>\n",
       "    <tr>\n",
       "      <th>3</th>\n",
       "      <td>tt0369610</td>\n",
       "      <td>Jurassic World</td>\n",
       "      <td>Jurassic World</td>\n",
       "      <td>2015</td>\n",
       "      <td>124.0</td>\n",
       "      <td>Action,Adventure,Sci-Fi</td>\n",
       "      <td>34</td>\n",
       "      <td>Jun 12, 2015</td>\n",
       "      <td>Jurassic World</td>\n",
       "      <td>215000000</td>\n",
       "      <td>652270625</td>\n",
       "      <td>1648854864</td>\n",
       "      <td>666.909239</td>\n",
       "      <td>1433854864</td>\n",
       "      <td>Jun</td>\n",
       "    </tr>\n",
       "    <tr>\n",
       "      <th>4</th>\n",
       "      <td>tt0376136</td>\n",
       "      <td>The Rum Diary</td>\n",
       "      <td>The Rum Diary</td>\n",
       "      <td>2011</td>\n",
       "      <td>119.0</td>\n",
       "      <td>Comedy,Drama</td>\n",
       "      <td>16</td>\n",
       "      <td>Oct 28, 2011</td>\n",
       "      <td>The Rum Diary</td>\n",
       "      <td>45000000</td>\n",
       "      <td>13109815</td>\n",
       "      <td>21544732</td>\n",
       "      <td>-52.122818</td>\n",
       "      <td>-23455268</td>\n",
       "      <td>Oct</td>\n",
       "    </tr>\n",
       "  </tbody>\n",
       "</table>\n",
       "</div>"
      ],
      "text/plain": [
       "    movie_id                    primary_title  \\\n",
       "0  tt0249516                       Foodfight!   \n",
       "1  tt0359950  The Secret Life of Walter Mitty   \n",
       "2  tt0365907      A Walk Among the Tombstones   \n",
       "3  tt0369610                   Jurassic World   \n",
       "4  tt0376136                    The Rum Diary   \n",
       "\n",
       "                    original_title  start_year  runtime_minutes  \\\n",
       "0                       Foodfight!        2012             91.0   \n",
       "1  The Secret Life of Walter Mitty        2013            114.0   \n",
       "2      A Walk Among the Tombstones        2014            114.0   \n",
       "3                   Jurassic World        2015            124.0   \n",
       "4                    The Rum Diary        2011            119.0   \n",
       "\n",
       "                    genres  id  release_date                            movie  \\\n",
       "0  Action,Animation,Comedy  26  Dec 31, 2012                       Foodfight!   \n",
       "1   Adventure,Comedy,Drama  37  Dec 25, 2013  The Secret Life of Walter Mitty   \n",
       "2       Action,Crime,Drama  67  Sep 19, 2014      A Walk Among the Tombstones   \n",
       "3  Action,Adventure,Sci-Fi  34  Jun 12, 2015                   Jurassic World   \n",
       "4             Comedy,Drama  16  Oct 28, 2011                    The Rum Diary   \n",
       "\n",
       "   production_budget  domestic_gross  worldwide_gross         ROI      profit  \\\n",
       "0           45000000               0            73706  -99.836209   -44926294   \n",
       "1           91000000        58236838        187861183  106.440860    96861183   \n",
       "2           28000000        26017685         62108587  121.816382    34108587   \n",
       "3          215000000       652270625       1648854864  666.909239  1433854864   \n",
       "4           45000000        13109815         21544732  -52.122818   -23455268   \n",
       "\n",
       "  month  \n",
       "0  Dec   \n",
       "1  Dec   \n",
       "2  Sep   \n",
       "3  Jun   \n",
       "4  Oct   "
      ]
     },
     "execution_count": 88,
     "metadata": {},
     "output_type": "execute_result"
    }
   ],
   "source": [
    "imdb_basics.head() #checking to see if column is there"
   ]
  },
  {
   "cell_type": "code",
   "execution_count": 89,
   "metadata": {},
   "outputs": [
    {
     "data": {
      "text/plain": [
       "Oct     152\n",
       "Dec     143\n",
       "Nov     137\n",
       "Sep     134\n",
       "Jul     118\n",
       "Mar     117\n",
       "Aug     115\n",
       "Jun     112\n",
       "May      93\n",
       "Apr      92\n",
       "Feb      86\n",
       "Jan      66\n",
       "Name: month, dtype: int64"
      ]
     },
     "execution_count": 89,
     "metadata": {},
     "output_type": "execute_result"
    }
   ],
   "source": [
    "imdb_basics['month'].value_counts() #checking for unique values"
   ]
  },
  {
   "cell_type": "markdown",
   "metadata": {},
   "source": [
    "## Finding ROI for month of the year"
   ]
  },
  {
   "cell_type": "markdown",
   "metadata": {},
   "source": [
    "Here I had to make a new variable and get every month from the column with the ROI column and find the average using the mean function and it'll give me the ROI for each month"
   ]
  },
  {
   "cell_type": "code",
   "execution_count": 90,
   "metadata": {},
   "outputs": [
    {
     "name": "stdout",
     "output_type": "stream",
     "text": [
      "[426.19375944955345, 304.70692039806465, 197.71268888440835, 220.8353755625571, 246.94284934828954, 288.5300447420565, 709.0608938452683, 229.2139360763168, 191.25609426139943, 345.0304508119032, 246.731342550196, 210.65810606503175]\n"
     ]
    }
   ],
   "source": [
    "roi_by_month = [imdb_basics[imdb_basics['month'] =='Jan ']['ROI'].mean(), imdb_basics[imdb_basics['month'] == 'Feb ']['ROI'].mean(), imdb_basics[imdb_basics['month'] == 'Mar ']['ROI'].mean(),\n",
    "                imdb_basics[imdb_basics['month'] == 'Apr ']['ROI'].mean(), imdb_basics[imdb_basics['month'] == 'May ']['ROI'].mean(), imdb_basics[imdb_basics['month'] == 'Jun ']['ROI'].mean(),\n",
    "                imdb_basics[imdb_basics['month'] == 'Jul ']['ROI'].mean(), imdb_basics[imdb_basics['month'] == 'Aug ']['ROI'].mean(), imdb_basics[imdb_basics['month'] == 'Sep ']['ROI'].mean(),\n",
    "                imdb_basics[imdb_basics['month'] == 'Oct ']['ROI'].mean(), imdb_basics[imdb_basics['month'] == 'Nov ']['ROI'].mean(), imdb_basics[imdb_basics['month'] == 'Dec ']['ROI'].mean()]\n",
    "print(roi_by_month) \n",
    "#Taking the Roi of each month and using mean to get the average"
   ]
  },
  {
   "cell_type": "code",
   "execution_count": 91,
   "metadata": {},
   "outputs": [],
   "source": [
    "months = ['Jan', 'Feb', 'Mar', 'Apr', 'May', 'Jun', 'Jul', 'Aug', 'Sep', 'Oct', 'Nov', 'Dec'] #new list for bar graph"
   ]
  },
  {
   "cell_type": "code",
   "execution_count": 92,
   "metadata": {},
   "outputs": [
    {
     "name": "stdout",
     "output_type": "stream",
     "text": [
      "<class 'pandas.core.frame.DataFrame'>\n",
      "Int64Index: 1365 entries, 0 to 1421\n",
      "Data columns (total 15 columns):\n",
      " #   Column             Non-Null Count  Dtype  \n",
      "---  ------             --------------  -----  \n",
      " 0   movie_id           1365 non-null   object \n",
      " 1   primary_title      1365 non-null   object \n",
      " 2   original_title     1365 non-null   object \n",
      " 3   start_year         1365 non-null   int64  \n",
      " 4   runtime_minutes    1359 non-null   float64\n",
      " 5   genres             1365 non-null   object \n",
      " 6   id                 1365 non-null   int64  \n",
      " 7   release_date       1365 non-null   object \n",
      " 8   movie              1365 non-null   object \n",
      " 9   production_budget  1365 non-null   int64  \n",
      " 10  domestic_gross     1365 non-null   int64  \n",
      " 11  worldwide_gross    1365 non-null   int64  \n",
      " 12  ROI                1365 non-null   float64\n",
      " 13  profit             1365 non-null   int64  \n",
      " 14  month              1365 non-null   object \n",
      "dtypes: float64(2), int64(6), object(7)\n",
      "memory usage: 170.6+ KB\n"
     ]
    }
   ],
   "source": [
    "imdb_basics.info() #another check!"
   ]
  },
  {
   "cell_type": "markdown",
   "metadata": {},
   "source": [
    "## The Graph finally"
   ]
  },
  {
   "cell_type": "markdown",
   "metadata": {},
   "source": [
    "I used a bar chart to calculate the relationship between them and found that july is the best time to release a movie which is in the season of summer!"
   ]
  },
  {
   "cell_type": "code",
   "execution_count": 93,
   "metadata": {},
   "outputs": [
    {
     "data": {
      "image/png": "[encoded data removed]",
      "text/plain": [
       "<Figure size 1440x720 with 1 Axes>"
      ]
     },
     "metadata": {
      "needs_background": "light"
     },
     "output_type": "display_data"
    }
   ],
   "source": [
    "fig, ax = plt.subplots(figsize = (20,10))\n",
    "x = months\n",
    "y = roi_by_month\n",
    "ax.bar(x,y)\n",
    "plt.xticks(fontsize = 20, rotation = 75)\n",
    "ax.set_xlabel(\"Month\", fontsize=30)\n",
    "ax.set_ylabel(\"ROI (%)\", fontsize=30);\n",
    "       #Graphing to see the connection between month ROI to see \n",
    "# which is the best month to release a movie "
   ]
  },
  {
   "cell_type": "markdown",
   "metadata": {},
   "source": [
    "# Appendix: \n",
    "\n",
    "#### Is critical reception correlated to ROI? Worldwide Gross? Domestic Gross?"
   ]
  },
  {
   "cell_type": "code",
   "execution_count": 126,
   "metadata": {},
   "outputs": [],
   "source": [
    "mb_to_ratings = \"\"\"\n",
    "SELECT mb.primary_title AS title,\n",
    "    mb.start_year,\n",
    "    rt.averagerating,\n",
    "    rt.numvotes\n",
    "    \n",
    "FROM movie_basics AS mb \n",
    "JOIN movie_ratings AS rt\n",
    "    ON mb.movie_id = rt.movie_id \n",
    "\n",
    "ORDER BY rt.numvotes DESC;\"\"\"\n",
    "\n",
    "movie_ratings = pd.read_sql(mb_to_ratings, conn)"
   ]
  },
  {
   "cell_type": "code",
   "execution_count": 127,
   "metadata": {},
   "outputs": [
    {
     "data": {
      "text/html": [
       "<div>\n",
       "<style scoped>\n",
       "    .dataframe tbody tr th:only-of-type {\n",
       "        vertical-align: middle;\n",
       "    }\n",
       "\n",
       "    .dataframe tbody tr th {\n",
       "        vertical-align: top;\n",
       "    }\n",
       "\n",
       "    .dataframe thead th {\n",
       "        text-align: right;\n",
       "    }\n",
       "</style>\n",
       "<table border=\"1\" class=\"dataframe\">\n",
       "  <thead>\n",
       "    <tr style=\"text-align: right;\">\n",
       "      <th></th>\n",
       "      <th>title</th>\n",
       "      <th>production_budget</th>\n",
       "      <th>domestic_gross</th>\n",
       "      <th>worldwide_gross</th>\n",
       "      <th>ROI</th>\n",
       "      <th>averagerating</th>\n",
       "      <th>numvotes</th>\n",
       "    </tr>\n",
       "  </thead>\n",
       "  <tbody>\n",
       "    <tr>\n",
       "      <th>759</th>\n",
       "      <td>Baahubali 2: The Conclusion</td>\n",
       "      <td>30000000</td>\n",
       "      <td>18985794</td>\n",
       "      <td>263502914</td>\n",
       "      <td>778.343047</td>\n",
       "      <td>8.3</td>\n",
       "      <td>65656</td>\n",
       "    </tr>\n",
       "    <tr>\n",
       "      <th>792</th>\n",
       "      <td>Green Book</td>\n",
       "      <td>23000000</td>\n",
       "      <td>85080171</td>\n",
       "      <td>322034439</td>\n",
       "      <td>1300.149735</td>\n",
       "      <td>8.3</td>\n",
       "      <td>204972</td>\n",
       "    </tr>\n",
       "    <tr>\n",
       "      <th>669</th>\n",
       "      <td>Room</td>\n",
       "      <td>13000000</td>\n",
       "      <td>14677674</td>\n",
       "      <td>36262783</td>\n",
       "      <td>178.944485</td>\n",
       "      <td>8.2</td>\n",
       "      <td>316791</td>\n",
       "    </tr>\n",
       "    <tr>\n",
       "      <th>764</th>\n",
       "      <td>Three Billboards Outside Ebbing, Missouri</td>\n",
       "      <td>12000000</td>\n",
       "      <td>54513740</td>\n",
       "      <td>160191915</td>\n",
       "      <td>1234.932625</td>\n",
       "      <td>8.2</td>\n",
       "      <td>344047</td>\n",
       "    </tr>\n",
       "    <tr>\n",
       "      <th>209</th>\n",
       "      <td>Warrior</td>\n",
       "      <td>25000000</td>\n",
       "      <td>13657115</td>\n",
       "      <td>24215385</td>\n",
       "      <td>-3.138460</td>\n",
       "      <td>8.2</td>\n",
       "      <td>403755</td>\n",
       "    </tr>\n",
       "    <tr>\n",
       "      <th>...</th>\n",
       "      <td>...</td>\n",
       "      <td>...</td>\n",
       "      <td>...</td>\n",
       "      <td>...</td>\n",
       "      <td>...</td>\n",
       "      <td>...</td>\n",
       "      <td>...</td>\n",
       "    </tr>\n",
       "    <tr>\n",
       "      <th>348</th>\n",
       "      <td>LOL</td>\n",
       "      <td>11000000</td>\n",
       "      <td>0</td>\n",
       "      <td>10431506</td>\n",
       "      <td>-5.168127</td>\n",
       "      <td>4.4</td>\n",
       "      <td>51424</td>\n",
       "    </tr>\n",
       "    <tr>\n",
       "      <th>332</th>\n",
       "      <td>Skyline</td>\n",
       "      <td>10000000</td>\n",
       "      <td>21416355</td>\n",
       "      <td>68264973</td>\n",
       "      <td>582.649730</td>\n",
       "      <td>4.4</td>\n",
       "      <td>83710</td>\n",
       "    </tr>\n",
       "    <tr>\n",
       "      <th>230</th>\n",
       "      <td>Movie 43</td>\n",
       "      <td>10000000</td>\n",
       "      <td>8840453</td>\n",
       "      <td>31164747</td>\n",
       "      <td>211.647470</td>\n",
       "      <td>4.3</td>\n",
       "      <td>92980</td>\n",
       "    </tr>\n",
       "    <tr>\n",
       "      <th>579</th>\n",
       "      <td>Fifty Shades of Grey</td>\n",
       "      <td>40000000</td>\n",
       "      <td>166167230</td>\n",
       "      <td>570998101</td>\n",
       "      <td>1327.495253</td>\n",
       "      <td>4.1</td>\n",
       "      <td>279126</td>\n",
       "    </tr>\n",
       "    <tr>\n",
       "      <th>418</th>\n",
       "      <td>Justin Bieber: Never Say Never</td>\n",
       "      <td>13000000</td>\n",
       "      <td>73013910</td>\n",
       "      <td>99034125</td>\n",
       "      <td>661.800962</td>\n",
       "      <td>1.6</td>\n",
       "      <td>74978</td>\n",
       "    </tr>\n",
       "  </tbody>\n",
       "</table>\n",
       "<p>428 rows × 7 columns</p>\n",
       "</div>"
      ],
      "text/plain": [
       "                                         title  production_budget  \\\n",
       "759                Baahubali 2: The Conclusion           30000000   \n",
       "792                                 Green Book           23000000   \n",
       "669                                       Room           13000000   \n",
       "764  Three Billboards Outside Ebbing, Missouri           12000000   \n",
       "209                                    Warrior           25000000   \n",
       "..                                         ...                ...   \n",
       "348                                        LOL           11000000   \n",
       "332                                    Skyline           10000000   \n",
       "230                                   Movie 43           10000000   \n",
       "579                       Fifty Shades of Grey           40000000   \n",
       "418             Justin Bieber: Never Say Never           13000000   \n",
       "\n",
       "     domestic_gross  worldwide_gross          ROI  averagerating  numvotes  \n",
       "759        18985794        263502914   778.343047            8.3     65656  \n",
       "792        85080171        322034439  1300.149735            8.3    204972  \n",
       "669        14677674         36262783   178.944485            8.2    316791  \n",
       "764        54513740        160191915  1234.932625            8.2    344047  \n",
       "209        13657115         24215385    -3.138460            8.2    403755  \n",
       "..              ...              ...          ...            ...       ...  \n",
       "348               0         10431506    -5.168127            4.4     51424  \n",
       "332        21416355         68264973   582.649730            4.4     83710  \n",
       "230         8840453         31164747   211.647470            4.3     92980  \n",
       "579       166167230        570998101  1327.495253            4.1    279126  \n",
       "418        73013910         99034125   661.800962            1.6     74978  \n",
       "\n",
       "[428 rows x 7 columns]"
      ]
     },
     "execution_count": 127,
     "metadata": {},
     "output_type": "execute_result"
    }
   ],
   "source": [
    "crit_rate = movie_ratings[(movie_ratings[\"numvotes\"]>= 50000)]\n",
    "#Preventing low rating numbers from affecting results\n",
    "    \n",
    "    \n",
    "crit_all = pd.merge(left= imdb_basics, right = crit_rate, how = \"inner\", left_on=[\"movie\", \"start_year\"],\\\n",
    "                  right_on=[\"title\", \"start_year\"])\n",
    "\n",
    "crit_use_unsort = crit_all[[\"title\",\"production_budget\",\"domestic_gross\", \"worldwide_gross\", \"ROI\", \\\n",
    "                            \"averagerating\", \"numvotes\" ]]\n",
    "\n",
    "crit_use_unsort2=crit_use_unsort[(crit_use_unsort[\"production_budget\"] >= 10000000) \\\n",
    "                                 & (crit_use_unsort[\"production_budget\"] <= 65000000)] \n",
    "#Filtering data further by only looking at movies with production budgets of $10 million or more\n",
    "\n",
    "crit_use = crit_use_unsort2.sort_values(by = [\"averagerating\"], ascending = False)\n",
    "crit_use"
   ]
  },
  {
   "cell_type": "code",
   "execution_count": 128,
   "metadata": {},
   "outputs": [
    {
     "data": {
      "text/plain": [
       "''"
      ]
     },
     "execution_count": 128,
     "metadata": {},
     "output_type": "execute_result"
    },
    {
     "data": {
      "image/png": "[encoded data removed]",
      "text/plain": [
       "<Figure size 864x576 with 1 Axes>"
      ]
     },
     "metadata": {
      "needs_background": "light"
     },
     "output_type": "display_data"
    }
   ],
   "source": [
    "from matplotlib import pyplot as plt\n",
    "\n",
    "fig, ax = plt.subplots(figsize=(12,8))\n",
    "\n",
    "rate = crit_use[\"averagerating\"]\n",
    "wwgross = crit_use[\"worldwide_gross\"]\n",
    "dgross = crit_use[\"domestic_gross\"]\n",
    "roi = crit_use[\"ROI\"]\n",
    "\n",
    "\n",
    "ax.scatter(x = rate, y =roi,  s = 75, color = \"blue\", alpha = .5)\n",
    "\n",
    "\n",
    "\n",
    "plt.xticks(fontsize = 15)\n",
    "plt.yticks(fontsize = 15)\n",
    "ax.set_title(\"Scatter Plot of Average Rating to ROI\", fontsize = 25)\n",
    "ax.set_xlabel(\"Average Rating of Film\", fontsize =17)\n",
    "ax.set_ylabel(\"Return on Investment (%)\", fontsize =17)\n",
    "# plt.savefig('rate_avg_to_gross')\n",
    ";\n",
    "\n"
   ]
  },
  {
   "cell_type": "code",
   "execution_count": 129,
   "metadata": {},
   "outputs": [
    {
     "name": "stdout",
     "output_type": "stream",
     "text": [
      "Person Correslation between average critical rating and ROI is:  0.25645427178907193\n",
      "Person Correslation between average critical rating and worldwide gross is:  0.1967788913569292\n",
      "Person Correslation between average critical rating and domestic gross is:  0.21496797446982432\n"
     ]
    }
   ],
   "source": [
    "correlation_roi = rate.corr(roi)\n",
    "correlation_ww = rate.corr(wwgross)\n",
    "correlation_d = rate.corr(dgross)\n",
    "\n",
    "print(\"Person Correslation between average critical rating and ROI is: \", correlation_roi)\n",
    "print(\"Person Correslation between average critical rating and worldwide gross is: \", correlation_ww)\n",
    "print(\"Person Correslation between average critical rating and domestic gross is: \", correlation_d)\n"
   ]
  },
  {
   "cell_type": "markdown",
   "metadata": {},
   "source": [
    "#### So there is a positve correlation between critcal rating and ROI/Worldwide gross/domestic gross but its not a high/significant result."
   ]
  },
  {
   "cell_type": "markdown",
   "metadata": {},
   "source": [
    "# Future\n",
    "### Look into the ROI for actors/actresses to help narrow down casting\n",
    "### Narrow down writers by region/language to get even more relevant results\n",
    "### Figure out if runtime affects profitability \n",
    "### Track if a directors ROI can be predicted through modeling (ex. If certain director is given budget X, the ROI will most likely be in Y range\n",
    "### Create a program that you can enter one or more of several variables, and will output ideal director/writer/time of release/etc. based on input"
   ]
  },
  {
   "cell_type": "markdown",
   "metadata": {},
   "source": [
    "### Gather/find new information reguarding the marketing budget and its relationship to total gross and ROI"
   ]
  },
  {
   "cell_type": "code",
   "execution_count": null,
   "metadata": {},
   "outputs": [],
   "source": []
  },
  {
   "cell_type": "code",
   "execution_count": null,
   "metadata": {},
   "outputs": [],
   "source": []
  },
  {
   "cell_type": "code",
   "execution_count": null,
   "metadata": {},
   "outputs": [],
   "source": []
  }
 ],
 "metadata": {
  "kernelspec": {
   "display_name": "Python 3",
   "language": "python",
   "name": "python3"
  },
  "language_info": {
   "codemirror_mode": {
    "name": "ipython",
    "version": 3
   },
   "file_extension": ".py",
   "mimetype": "text/x-python",
   "name": "python",
   "nbconvert_exporter": "python",
   "pygments_lexer": "ipython3",
   "version": "3.8.5"
  }
 },
 "nbformat": 4,
 "nbformat_minor": 4
}
