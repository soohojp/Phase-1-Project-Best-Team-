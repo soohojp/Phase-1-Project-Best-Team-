{
 "cells": [
  {
   "cell_type": "code",
   "execution_count": 506,
   "metadata": {},
   "outputs": [],
   "source": [
    "import pandas as pd\n",
    "from matplotlib import pyplot as plt\n",
    "import sqlite3\n",
    "import zipfile\n",
    "from  pandasql import sqldf"
   ]
  },
  {
   "cell_type": "code",
   "execution_count": 507,
   "metadata": {},
   "outputs": [
    {
     "data": {
      "text/html": [
       "<div>\n",
       "<style scoped>\n",
       "    .dataframe tbody tr th:only-of-type {\n",
       "        vertical-align: middle;\n",
       "    }\n",
       "\n",
       "    .dataframe tbody tr th {\n",
       "        vertical-align: top;\n",
       "    }\n",
       "\n",
       "    .dataframe thead th {\n",
       "        text-align: right;\n",
       "    }\n",
       "</style>\n",
       "<table border=\"1\" class=\"dataframe\">\n",
       "  <thead>\n",
       "    <tr style=\"text-align: right;\">\n",
       "      <th></th>\n",
       "      <th>id</th>\n",
       "      <th>release_date</th>\n",
       "      <th>movie</th>\n",
       "      <th>production_budget</th>\n",
       "      <th>domestic_gross</th>\n",
       "      <th>worldwide_gross</th>\n",
       "      <th>ROI</th>\n",
       "      <th>profit</th>\n",
       "      <th>start_year</th>\n",
       "    </tr>\n",
       "  </thead>\n",
       "  <tbody>\n",
       "    <tr>\n",
       "      <th>0</th>\n",
       "      <td>1</td>\n",
       "      <td>Dec 18, 2009</td>\n",
       "      <td>Avatar</td>\n",
       "      <td>425000000</td>\n",
       "      <td>760507625</td>\n",
       "      <td>2776345279</td>\n",
       "      <td>5.532577</td>\n",
       "      <td>2351345279</td>\n",
       "      <td>2009</td>\n",
       "    </tr>\n",
       "    <tr>\n",
       "      <th>1</th>\n",
       "      <td>2</td>\n",
       "      <td>May 20, 2011</td>\n",
       "      <td>Pirates of the Caribbean: On Stranger Tides</td>\n",
       "      <td>410600000</td>\n",
       "      <td>241063875</td>\n",
       "      <td>1045663875</td>\n",
       "      <td>1.546673</td>\n",
       "      <td>635063875</td>\n",
       "      <td>2011</td>\n",
       "    </tr>\n",
       "    <tr>\n",
       "      <th>2</th>\n",
       "      <td>3</td>\n",
       "      <td>Jun 7, 2019</td>\n",
       "      <td>Dark Phoenix</td>\n",
       "      <td>350000000</td>\n",
       "      <td>42762350</td>\n",
       "      <td>149762350</td>\n",
       "      <td>-0.572108</td>\n",
       "      <td>-200237650</td>\n",
       "      <td>2019</td>\n",
       "    </tr>\n",
       "    <tr>\n",
       "      <th>3</th>\n",
       "      <td>4</td>\n",
       "      <td>May 1, 2015</td>\n",
       "      <td>Avengers: Age of Ultron</td>\n",
       "      <td>330600000</td>\n",
       "      <td>459005868</td>\n",
       "      <td>1403013963</td>\n",
       "      <td>3.243841</td>\n",
       "      <td>1072413963</td>\n",
       "      <td>2015</td>\n",
       "    </tr>\n",
       "    <tr>\n",
       "      <th>4</th>\n",
       "      <td>5</td>\n",
       "      <td>Dec 15, 2017</td>\n",
       "      <td>Star Wars Ep. VIII: The Last Jedi</td>\n",
       "      <td>317000000</td>\n",
       "      <td>620181382</td>\n",
       "      <td>1316721747</td>\n",
       "      <td>3.153696</td>\n",
       "      <td>999721747</td>\n",
       "      <td>2017</td>\n",
       "    </tr>\n",
       "    <tr>\n",
       "      <th>...</th>\n",
       "      <td>...</td>\n",
       "      <td>...</td>\n",
       "      <td>...</td>\n",
       "      <td>...</td>\n",
       "      <td>...</td>\n",
       "      <td>...</td>\n",
       "      <td>...</td>\n",
       "      <td>...</td>\n",
       "      <td>...</td>\n",
       "    </tr>\n",
       "    <tr>\n",
       "      <th>5775</th>\n",
       "      <td>76</td>\n",
       "      <td>May 26, 2006</td>\n",
       "      <td>Cavite</td>\n",
       "      <td>7000</td>\n",
       "      <td>70071</td>\n",
       "      <td>71644</td>\n",
       "      <td>9.234857</td>\n",
       "      <td>64644</td>\n",
       "      <td>2006</td>\n",
       "    </tr>\n",
       "    <tr>\n",
       "      <th>5776</th>\n",
       "      <td>77</td>\n",
       "      <td>Dec 31, 2004</td>\n",
       "      <td>The Mongol King</td>\n",
       "      <td>7000</td>\n",
       "      <td>900</td>\n",
       "      <td>900</td>\n",
       "      <td>-0.871429</td>\n",
       "      <td>-6100</td>\n",
       "      <td>2004</td>\n",
       "    </tr>\n",
       "    <tr>\n",
       "      <th>5778</th>\n",
       "      <td>79</td>\n",
       "      <td>Apr 2, 1999</td>\n",
       "      <td>Following</td>\n",
       "      <td>6000</td>\n",
       "      <td>48482</td>\n",
       "      <td>240495</td>\n",
       "      <td>39.082500</td>\n",
       "      <td>234495</td>\n",
       "      <td>1999</td>\n",
       "    </tr>\n",
       "    <tr>\n",
       "      <th>5779</th>\n",
       "      <td>80</td>\n",
       "      <td>Jul 13, 2005</td>\n",
       "      <td>Return to the Land of Wonders</td>\n",
       "      <td>5000</td>\n",
       "      <td>1338</td>\n",
       "      <td>1338</td>\n",
       "      <td>-0.732400</td>\n",
       "      <td>-3662</td>\n",
       "      <td>2005</td>\n",
       "    </tr>\n",
       "    <tr>\n",
       "      <th>5781</th>\n",
       "      <td>82</td>\n",
       "      <td>Aug 5, 2005</td>\n",
       "      <td>My Date With Drew</td>\n",
       "      <td>1100</td>\n",
       "      <td>181041</td>\n",
       "      <td>181041</td>\n",
       "      <td>163.582727</td>\n",
       "      <td>179941</td>\n",
       "      <td>2005</td>\n",
       "    </tr>\n",
       "  </tbody>\n",
       "</table>\n",
       "<p>5415 rows × 9 columns</p>\n",
       "</div>"
      ],
      "text/plain": [
       "      id  release_date                                        movie  \\\n",
       "0      1  Dec 18, 2009                                       Avatar   \n",
       "1      2  May 20, 2011  Pirates of the Caribbean: On Stranger Tides   \n",
       "2      3   Jun 7, 2019                                 Dark Phoenix   \n",
       "3      4   May 1, 2015                      Avengers: Age of Ultron   \n",
       "4      5  Dec 15, 2017            Star Wars Ep. VIII: The Last Jedi   \n",
       "...   ..           ...                                          ...   \n",
       "5775  76  May 26, 2006                                       Cavite   \n",
       "5776  77  Dec 31, 2004                              The Mongol King   \n",
       "5778  79   Apr 2, 1999                                    Following   \n",
       "5779  80  Jul 13, 2005                Return to the Land of Wonders   \n",
       "5781  82   Aug 5, 2005                            My Date With Drew   \n",
       "\n",
       "      production_budget  domestic_gross  worldwide_gross         ROI  \\\n",
       "0             425000000       760507625       2776345279    5.532577   \n",
       "1             410600000       241063875       1045663875    1.546673   \n",
       "2             350000000        42762350        149762350   -0.572108   \n",
       "3             330600000       459005868       1403013963    3.243841   \n",
       "4             317000000       620181382       1316721747    3.153696   \n",
       "...                 ...             ...              ...         ...   \n",
       "5775               7000           70071            71644    9.234857   \n",
       "5776               7000             900              900   -0.871429   \n",
       "5778               6000           48482           240495   39.082500   \n",
       "5779               5000            1338             1338   -0.732400   \n",
       "5781               1100          181041           181041  163.582727   \n",
       "\n",
       "          profit  start_year  \n",
       "0     2351345279        2009  \n",
       "1      635063875        2011  \n",
       "2     -200237650        2019  \n",
       "3     1072413963        2015  \n",
       "4      999721747        2017  \n",
       "...          ...         ...  \n",
       "5775       64644        2006  \n",
       "5776       -6100        2004  \n",
       "5778      234495        1999  \n",
       "5779       -3662        2005  \n",
       "5781      179941        2005  \n",
       "\n",
       "[5415 rows x 9 columns]"
      ]
     },
     "execution_count": 507,
     "metadata": {},
     "output_type": "execute_result"
    }
   ],
   "source": [
    "tn_movie = pd.read_csv('zippedData/tn.movie_budgets.csv.gz')\n",
    "\n",
    "\n",
    "\n",
    "tn_movie = pd.read_csv('zippedData/tn.movie_budgets.csv.gz')\n",
    "tn_movie\n",
    "\n",
    "# remove all $ and commas for domestic gross, worldwide gross, and production budget\n",
    "\n",
    "tn_movie[\"production_budget\"]=tn_movie[\"production_budget\"].map(lambda x: int(x.replace(',', '').replace('$', '')))\n",
    "tn_movie[\"domestic_gross\"]=tn_movie[\"domestic_gross\"].map(lambda x: int(x.replace(',', '').replace('$', '')))\n",
    "tn_movie[\"worldwide_gross\"]=tn_movie[\"worldwide_gross\"].map(lambda x: int(x.replace(',', '').replace('$', '')))\n",
    "\n",
    "\n",
    "#Add ROI column\n",
    "tn_movie[\"ROI\"]= (tn_movie[\"worldwide_gross\"]- tn_movie[\"production_budget\"])/    \\\n",
    "         tn_movie[\"production_budget\"]\n",
    "\n",
    "#Add Profit\n",
    "tn_movie[\"profit\"]= (tn_movie[\"worldwide_gross\"]- tn_movie[\"production_budget\"])\n",
    "\n",
    "#Add start year as int column\n",
    "\n",
    "tn_movie[\"start_year\"] = tn_movie[\"release_date\"].map(lambda x: int(x[-4:]))\n",
    "\n",
    "#eliminate any worldwide gross columns that = 0\n",
    "\n",
    "tn_movie = tn_movie [tn_movie .worldwide_gross != 0]\n",
    "\n",
    "tn_movie"
   ]
  },
  {
   "cell_type": "code",
   "execution_count": 508,
   "metadata": {},
   "outputs": [],
   "source": [
    "\n",
    "conn = sqlite3.connect('zippedData/im.db')\n",
    "cur= conn.cursor()\n",
    "# cur.execute(\"\"\"SELECT name FROM sqlite_master WHERE type = 'table';\"\"\").fetchall()"
   ]
  },
  {
   "cell_type": "code",
   "execution_count": 509,
   "metadata": {
    "scrolled": false
   },
   "outputs": [
    {
     "name": "stdout",
     "output_type": "stream",
     "text": [
      "<class 'pandas.core.frame.DataFrame'>\n",
      "Int64Index: 1422 entries, 0 to 1421\n",
      "Data columns (total 14 columns):\n",
      " #   Column             Non-Null Count  Dtype  \n",
      "---  ------             --------------  -----  \n",
      " 0   movie_id           1422 non-null   object \n",
      " 1   primary_title      1422 non-null   object \n",
      " 2   original_title     1422 non-null   object \n",
      " 3   start_year         1422 non-null   int64  \n",
      " 4   runtime_minutes    1408 non-null   float64\n",
      " 5   genres             1418 non-null   object \n",
      " 6   id                 1422 non-null   int64  \n",
      " 7   release_date       1422 non-null   object \n",
      " 8   movie              1422 non-null   object \n",
      " 9   production_budget  1422 non-null   int64  \n",
      " 10  domestic_gross     1422 non-null   int64  \n",
      " 11  worldwide_gross    1422 non-null   int64  \n",
      " 12  ROI                1422 non-null   float64\n",
      " 13  profit             1422 non-null   int64  \n",
      "dtypes: float64(2), int64(6), object(6)\n",
      "memory usage: 166.6+ KB\n"
     ]
    }
   ],
   "source": [
    "q1 = \"\"\"SELECT * FROM movie_basics ;\"\"\"\n",
    "dfzip=pd.read_sql(q1, conn)\n",
    "imdb_basics = pd.merge(left= dfzip ,right = tn_movie, left_on=[\"start_year\",\"primary_title\"], right_on=[\"start_year\",\"movie\"], \\\n",
    "                          how = 'inner')\n",
    "imdb_basics.info()"
   ]
  },
  {
   "cell_type": "code",
   "execution_count": 510,
   "metadata": {
    "scrolled": true
   },
   "outputs": [
    {
     "name": "stdout",
     "output_type": "stream",
     "text": [
      "<class 'pandas.core.frame.DataFrame'>\n",
      "Int64Index: 57 entries, 121 to 1392\n",
      "Data columns (total 14 columns):\n",
      " #   Column             Non-Null Count  Dtype  \n",
      "---  ------             --------------  -----  \n",
      " 0   movie_id           57 non-null     object \n",
      " 1   primary_title      57 non-null     object \n",
      " 2   original_title     57 non-null     object \n",
      " 3   start_year         57 non-null     int64  \n",
      " 4   runtime_minutes    49 non-null     float64\n",
      " 5   genres             53 non-null     object \n",
      " 6   id                 57 non-null     int64  \n",
      " 7   release_date       57 non-null     object \n",
      " 8   movie              57 non-null     object \n",
      " 9   production_budget  57 non-null     int64  \n",
      " 10  domestic_gross     57 non-null     int64  \n",
      " 11  worldwide_gross    57 non-null     int64  \n",
      " 12  ROI                57 non-null     float64\n",
      " 13  profit             57 non-null     int64  \n",
      "dtypes: float64(2), int64(6), object(6)\n",
      "memory usage: 6.7+ KB\n"
     ]
    },
    {
     "name": "stderr",
     "output_type": "stream",
     "text": [
      "<ipython-input-510-49752e3b6e96>:1: UserWarning: Boolean Series key will be reindexed to match DataFrame index.\n",
      "  imdb_basics_duplicate = imdb_basics[imdb_basics['primary_title'].duplicated()][imdb_basics['start_year'].duplicated()]\n"
     ]
    }
   ],
   "source": [
    "imdb_basics_duplicate = imdb_basics[imdb_basics['primary_title'].duplicated()][imdb_basics['start_year'].duplicated()]\n",
    "imdb_basics_duplicate.info()"
   ]
  },
  {
   "cell_type": "code",
   "execution_count": 511,
   "metadata": {},
   "outputs": [],
   "source": [
    "imdb_basics = imdb_basics.drop(imdb_basics_duplicate.index)"
   ]
  },
  {
   "cell_type": "code",
   "execution_count": 512,
   "metadata": {},
   "outputs": [
    {
     "data": {
      "text/html": [
       "<div>\n",
       "<style scoped>\n",
       "    .dataframe tbody tr th:only-of-type {\n",
       "        vertical-align: middle;\n",
       "    }\n",
       "\n",
       "    .dataframe tbody tr th {\n",
       "        vertical-align: top;\n",
       "    }\n",
       "\n",
       "    .dataframe thead th {\n",
       "        text-align: right;\n",
       "    }\n",
       "</style>\n",
       "<table border=\"1\" class=\"dataframe\">\n",
       "  <thead>\n",
       "    <tr style=\"text-align: right;\">\n",
       "      <th></th>\n",
       "      <th>movie_id</th>\n",
       "      <th>primary_title</th>\n",
       "      <th>original_title</th>\n",
       "      <th>start_year</th>\n",
       "      <th>runtime_minutes</th>\n",
       "      <th>genres</th>\n",
       "      <th>id</th>\n",
       "      <th>release_date</th>\n",
       "      <th>movie</th>\n",
       "      <th>production_budget</th>\n",
       "      <th>domestic_gross</th>\n",
       "      <th>worldwide_gross</th>\n",
       "      <th>ROI</th>\n",
       "      <th>profit</th>\n",
       "    </tr>\n",
       "  </thead>\n",
       "  <tbody>\n",
       "    <tr>\n",
       "      <th>0</th>\n",
       "      <td>tt0249516</td>\n",
       "      <td>Foodfight!</td>\n",
       "      <td>Foodfight!</td>\n",
       "      <td>2012</td>\n",
       "      <td>91.0</td>\n",
       "      <td>Action,Animation,Comedy</td>\n",
       "      <td>26</td>\n",
       "      <td>Dec 31, 2012</td>\n",
       "      <td>Foodfight!</td>\n",
       "      <td>45000000</td>\n",
       "      <td>0</td>\n",
       "      <td>73706</td>\n",
       "      <td>-0.998362</td>\n",
       "      <td>-44926294</td>\n",
       "    </tr>\n",
       "    <tr>\n",
       "      <th>1</th>\n",
       "      <td>tt0359950</td>\n",
       "      <td>The Secret Life of Walter Mitty</td>\n",
       "      <td>The Secret Life of Walter Mitty</td>\n",
       "      <td>2013</td>\n",
       "      <td>114.0</td>\n",
       "      <td>Adventure,Comedy,Drama</td>\n",
       "      <td>37</td>\n",
       "      <td>Dec 25, 2013</td>\n",
       "      <td>The Secret Life of Walter Mitty</td>\n",
       "      <td>91000000</td>\n",
       "      <td>58236838</td>\n",
       "      <td>187861183</td>\n",
       "      <td>1.064409</td>\n",
       "      <td>96861183</td>\n",
       "    </tr>\n",
       "    <tr>\n",
       "      <th>2</th>\n",
       "      <td>tt0365907</td>\n",
       "      <td>A Walk Among the Tombstones</td>\n",
       "      <td>A Walk Among the Tombstones</td>\n",
       "      <td>2014</td>\n",
       "      <td>114.0</td>\n",
       "      <td>Action,Crime,Drama</td>\n",
       "      <td>67</td>\n",
       "      <td>Sep 19, 2014</td>\n",
       "      <td>A Walk Among the Tombstones</td>\n",
       "      <td>28000000</td>\n",
       "      <td>26017685</td>\n",
       "      <td>62108587</td>\n",
       "      <td>1.218164</td>\n",
       "      <td>34108587</td>\n",
       "    </tr>\n",
       "    <tr>\n",
       "      <th>3</th>\n",
       "      <td>tt0369610</td>\n",
       "      <td>Jurassic World</td>\n",
       "      <td>Jurassic World</td>\n",
       "      <td>2015</td>\n",
       "      <td>124.0</td>\n",
       "      <td>Action,Adventure,Sci-Fi</td>\n",
       "      <td>34</td>\n",
       "      <td>Jun 12, 2015</td>\n",
       "      <td>Jurassic World</td>\n",
       "      <td>215000000</td>\n",
       "      <td>652270625</td>\n",
       "      <td>1648854864</td>\n",
       "      <td>6.669092</td>\n",
       "      <td>1433854864</td>\n",
       "    </tr>\n",
       "    <tr>\n",
       "      <th>4</th>\n",
       "      <td>tt0376136</td>\n",
       "      <td>The Rum Diary</td>\n",
       "      <td>The Rum Diary</td>\n",
       "      <td>2011</td>\n",
       "      <td>119.0</td>\n",
       "      <td>Comedy,Drama</td>\n",
       "      <td>16</td>\n",
       "      <td>Oct 28, 2011</td>\n",
       "      <td>The Rum Diary</td>\n",
       "      <td>45000000</td>\n",
       "      <td>13109815</td>\n",
       "      <td>21544732</td>\n",
       "      <td>-0.521228</td>\n",
       "      <td>-23455268</td>\n",
       "    </tr>\n",
       "    <tr>\n",
       "      <th>...</th>\n",
       "      <td>...</td>\n",
       "      <td>...</td>\n",
       "      <td>...</td>\n",
       "      <td>...</td>\n",
       "      <td>...</td>\n",
       "      <td>...</td>\n",
       "      <td>...</td>\n",
       "      <td>...</td>\n",
       "      <td>...</td>\n",
       "      <td>...</td>\n",
       "      <td>...</td>\n",
       "      <td>...</td>\n",
       "      <td>...</td>\n",
       "      <td>...</td>\n",
       "    </tr>\n",
       "    <tr>\n",
       "      <th>1417</th>\n",
       "      <td>tt7959026</td>\n",
       "      <td>The Mule</td>\n",
       "      <td>The Mule</td>\n",
       "      <td>2018</td>\n",
       "      <td>116.0</td>\n",
       "      <td>Crime,Drama,Thriller</td>\n",
       "      <td>100</td>\n",
       "      <td>Dec 14, 2018</td>\n",
       "      <td>The Mule</td>\n",
       "      <td>50000000</td>\n",
       "      <td>103804407</td>\n",
       "      <td>170857676</td>\n",
       "      <td>2.417154</td>\n",
       "      <td>120857676</td>\n",
       "    </tr>\n",
       "    <tr>\n",
       "      <th>1418</th>\n",
       "      <td>tt8043306</td>\n",
       "      <td>Teefa in Trouble</td>\n",
       "      <td>Teefa in Trouble</td>\n",
       "      <td>2018</td>\n",
       "      <td>155.0</td>\n",
       "      <td>Action,Comedy,Crime</td>\n",
       "      <td>8</td>\n",
       "      <td>Jul 20, 2018</td>\n",
       "      <td>Teefa in Trouble</td>\n",
       "      <td>1500000</td>\n",
       "      <td>0</td>\n",
       "      <td>98806</td>\n",
       "      <td>-0.934129</td>\n",
       "      <td>-1401194</td>\n",
       "    </tr>\n",
       "    <tr>\n",
       "      <th>1419</th>\n",
       "      <td>tt8155288</td>\n",
       "      <td>Happy Death Day 2U</td>\n",
       "      <td>Happy Death Day 2U</td>\n",
       "      <td>2019</td>\n",
       "      <td>100.0</td>\n",
       "      <td>Drama,Horror,Mystery</td>\n",
       "      <td>78</td>\n",
       "      <td>Feb 13, 2019</td>\n",
       "      <td>Happy Death Day 2U</td>\n",
       "      <td>9000000</td>\n",
       "      <td>28051045</td>\n",
       "      <td>64179495</td>\n",
       "      <td>6.131055</td>\n",
       "      <td>55179495</td>\n",
       "    </tr>\n",
       "    <tr>\n",
       "      <th>1420</th>\n",
       "      <td>tt8632862</td>\n",
       "      <td>Fahrenheit 11/9</td>\n",
       "      <td>Fahrenheit 11/9</td>\n",
       "      <td>2018</td>\n",
       "      <td>128.0</td>\n",
       "      <td>Documentary</td>\n",
       "      <td>29</td>\n",
       "      <td>Sep 21, 2018</td>\n",
       "      <td>Fahrenheit 11/9</td>\n",
       "      <td>5000000</td>\n",
       "      <td>6352306</td>\n",
       "      <td>6653715</td>\n",
       "      <td>0.330743</td>\n",
       "      <td>1653715</td>\n",
       "    </tr>\n",
       "    <tr>\n",
       "      <th>1421</th>\n",
       "      <td>tt9024106</td>\n",
       "      <td>Unplanned</td>\n",
       "      <td>Unplanned</td>\n",
       "      <td>2019</td>\n",
       "      <td>106.0</td>\n",
       "      <td>Biography,Drama</td>\n",
       "      <td>33</td>\n",
       "      <td>Mar 29, 2019</td>\n",
       "      <td>Unplanned</td>\n",
       "      <td>6000000</td>\n",
       "      <td>18107621</td>\n",
       "      <td>18107621</td>\n",
       "      <td>2.017937</td>\n",
       "      <td>12107621</td>\n",
       "    </tr>\n",
       "  </tbody>\n",
       "</table>\n",
       "<p>1365 rows × 14 columns</p>\n",
       "</div>"
      ],
      "text/plain": [
       "       movie_id                    primary_title  \\\n",
       "0     tt0249516                       Foodfight!   \n",
       "1     tt0359950  The Secret Life of Walter Mitty   \n",
       "2     tt0365907      A Walk Among the Tombstones   \n",
       "3     tt0369610                   Jurassic World   \n",
       "4     tt0376136                    The Rum Diary   \n",
       "...         ...                              ...   \n",
       "1417  tt7959026                         The Mule   \n",
       "1418  tt8043306                 Teefa in Trouble   \n",
       "1419  tt8155288               Happy Death Day 2U   \n",
       "1420  tt8632862                  Fahrenheit 11/9   \n",
       "1421  tt9024106                        Unplanned   \n",
       "\n",
       "                       original_title  start_year  runtime_minutes  \\\n",
       "0                          Foodfight!        2012             91.0   \n",
       "1     The Secret Life of Walter Mitty        2013            114.0   \n",
       "2         A Walk Among the Tombstones        2014            114.0   \n",
       "3                      Jurassic World        2015            124.0   \n",
       "4                       The Rum Diary        2011            119.0   \n",
       "...                               ...         ...              ...   \n",
       "1417                         The Mule        2018            116.0   \n",
       "1418                 Teefa in Trouble        2018            155.0   \n",
       "1419               Happy Death Day 2U        2019            100.0   \n",
       "1420                  Fahrenheit 11/9        2018            128.0   \n",
       "1421                        Unplanned        2019            106.0   \n",
       "\n",
       "                       genres   id  release_date  \\\n",
       "0     Action,Animation,Comedy   26  Dec 31, 2012   \n",
       "1      Adventure,Comedy,Drama   37  Dec 25, 2013   \n",
       "2          Action,Crime,Drama   67  Sep 19, 2014   \n",
       "3     Action,Adventure,Sci-Fi   34  Jun 12, 2015   \n",
       "4                Comedy,Drama   16  Oct 28, 2011   \n",
       "...                       ...  ...           ...   \n",
       "1417     Crime,Drama,Thriller  100  Dec 14, 2018   \n",
       "1418      Action,Comedy,Crime    8  Jul 20, 2018   \n",
       "1419     Drama,Horror,Mystery   78  Feb 13, 2019   \n",
       "1420              Documentary   29  Sep 21, 2018   \n",
       "1421          Biography,Drama   33  Mar 29, 2019   \n",
       "\n",
       "                                movie  production_budget  domestic_gross  \\\n",
       "0                          Foodfight!           45000000               0   \n",
       "1     The Secret Life of Walter Mitty           91000000        58236838   \n",
       "2         A Walk Among the Tombstones           28000000        26017685   \n",
       "3                      Jurassic World          215000000       652270625   \n",
       "4                       The Rum Diary           45000000        13109815   \n",
       "...                               ...                ...             ...   \n",
       "1417                         The Mule           50000000       103804407   \n",
       "1418                 Teefa in Trouble            1500000               0   \n",
       "1419               Happy Death Day 2U            9000000        28051045   \n",
       "1420                  Fahrenheit 11/9            5000000         6352306   \n",
       "1421                        Unplanned            6000000        18107621   \n",
       "\n",
       "      worldwide_gross       ROI      profit  \n",
       "0               73706 -0.998362   -44926294  \n",
       "1           187861183  1.064409    96861183  \n",
       "2            62108587  1.218164    34108587  \n",
       "3          1648854864  6.669092  1433854864  \n",
       "4            21544732 -0.521228   -23455268  \n",
       "...               ...       ...         ...  \n",
       "1417        170857676  2.417154   120857676  \n",
       "1418            98806 -0.934129    -1401194  \n",
       "1419         64179495  6.131055    55179495  \n",
       "1420          6653715  0.330743     1653715  \n",
       "1421         18107621  2.017937    12107621  \n",
       "\n",
       "[1365 rows x 14 columns]"
      ]
     },
     "execution_count": 512,
     "metadata": {},
     "output_type": "execute_result"
    }
   ],
   "source": [
    "imdb_basics"
   ]
  },
  {
   "cell_type": "markdown",
   "metadata": {},
   "source": [
    "### Goal 1 - Genre and Profitability"
   ]
  },
  {
   "cell_type": "markdown",
   "metadata": {},
   "source": [
    "The first step was to drop rows with undefined genres from the data frame imdb_basics before we categorized each film by genre."
   ]
  },
  {
   "cell_type": "code",
   "execution_count": 513,
   "metadata": {
    "scrolled": false
   },
   "outputs": [],
   "source": [
    "imdb_basics=imdb_basics.dropna(subset=['genres'])\n",
    "#dropped the rows with undefined genres"
   ]
  },
  {
   "cell_type": "code",
   "execution_count": 514,
   "metadata": {
    "scrolled": false
   },
   "outputs": [
    {
     "data": {
      "text/html": [
       "<div>\n",
       "<style scoped>\n",
       "    .dataframe tbody tr th:only-of-type {\n",
       "        vertical-align: middle;\n",
       "    }\n",
       "\n",
       "    .dataframe tbody tr th {\n",
       "        vertical-align: top;\n",
       "    }\n",
       "\n",
       "    .dataframe thead th {\n",
       "        text-align: right;\n",
       "    }\n",
       "</style>\n",
       "<table border=\"1\" class=\"dataframe\">\n",
       "  <thead>\n",
       "    <tr style=\"text-align: right;\">\n",
       "      <th></th>\n",
       "      <th>primary_title</th>\n",
       "      <th>genres</th>\n",
       "      <th>ROI</th>\n",
       "    </tr>\n",
       "  </thead>\n",
       "  <tbody>\n",
       "    <tr>\n",
       "      <th>0</th>\n",
       "      <td>Foodfight!</td>\n",
       "      <td>Action,Animation,Comedy</td>\n",
       "      <td>-0.998362</td>\n",
       "    </tr>\n",
       "    <tr>\n",
       "      <th>1</th>\n",
       "      <td>The Secret Life of Walter Mitty</td>\n",
       "      <td>Adventure,Comedy,Drama</td>\n",
       "      <td>1.064409</td>\n",
       "    </tr>\n",
       "    <tr>\n",
       "      <th>2</th>\n",
       "      <td>A Walk Among the Tombstones</td>\n",
       "      <td>Action,Crime,Drama</td>\n",
       "      <td>1.218164</td>\n",
       "    </tr>\n",
       "    <tr>\n",
       "      <th>3</th>\n",
       "      <td>Jurassic World</td>\n",
       "      <td>Action,Adventure,Sci-Fi</td>\n",
       "      <td>6.669092</td>\n",
       "    </tr>\n",
       "    <tr>\n",
       "      <th>4</th>\n",
       "      <td>The Rum Diary</td>\n",
       "      <td>Comedy,Drama</td>\n",
       "      <td>-0.521228</td>\n",
       "    </tr>\n",
       "    <tr>\n",
       "      <th>...</th>\n",
       "      <td>...</td>\n",
       "      <td>...</td>\n",
       "      <td>...</td>\n",
       "    </tr>\n",
       "    <tr>\n",
       "      <th>1417</th>\n",
       "      <td>The Mule</td>\n",
       "      <td>Crime,Drama,Thriller</td>\n",
       "      <td>2.417154</td>\n",
       "    </tr>\n",
       "    <tr>\n",
       "      <th>1418</th>\n",
       "      <td>Teefa in Trouble</td>\n",
       "      <td>Action,Comedy,Crime</td>\n",
       "      <td>-0.934129</td>\n",
       "    </tr>\n",
       "    <tr>\n",
       "      <th>1419</th>\n",
       "      <td>Happy Death Day 2U</td>\n",
       "      <td>Drama,Horror,Mystery</td>\n",
       "      <td>6.131055</td>\n",
       "    </tr>\n",
       "    <tr>\n",
       "      <th>1420</th>\n",
       "      <td>Fahrenheit 11/9</td>\n",
       "      <td>Documentary</td>\n",
       "      <td>0.330743</td>\n",
       "    </tr>\n",
       "    <tr>\n",
       "      <th>1421</th>\n",
       "      <td>Unplanned</td>\n",
       "      <td>Biography,Drama</td>\n",
       "      <td>2.017937</td>\n",
       "    </tr>\n",
       "  </tbody>\n",
       "</table>\n",
       "<p>1365 rows × 3 columns</p>\n",
       "</div>"
      ],
      "text/plain": [
       "                        primary_title                   genres       ROI\n",
       "0                          Foodfight!  Action,Animation,Comedy -0.998362\n",
       "1     The Secret Life of Walter Mitty   Adventure,Comedy,Drama  1.064409\n",
       "2         A Walk Among the Tombstones       Action,Crime,Drama  1.218164\n",
       "3                      Jurassic World  Action,Adventure,Sci-Fi  6.669092\n",
       "4                       The Rum Diary             Comedy,Drama -0.521228\n",
       "...                               ...                      ...       ...\n",
       "1417                         The Mule     Crime,Drama,Thriller  2.417154\n",
       "1418                 Teefa in Trouble      Action,Comedy,Crime -0.934129\n",
       "1419               Happy Death Day 2U     Drama,Horror,Mystery  6.131055\n",
       "1420                  Fahrenheit 11/9              Documentary  0.330743\n",
       "1421                        Unplanned          Biography,Drama  2.017937\n",
       "\n",
       "[1365 rows x 3 columns]"
      ]
     },
     "execution_count": 514,
     "metadata": {},
     "output_type": "execute_result"
    }
   ],
   "source": [
    "imdb_basics[[\"primary_title\",\"genres\",\"ROI\"]]"
   ]
  },
  {
   "cell_type": "code",
   "execution_count": 515,
   "metadata": {},
   "outputs": [
    {
     "data": {
      "text/plain": [
       "'Action,Animation,Comedy'"
      ]
     },
     "execution_count": 515,
     "metadata": {},
     "output_type": "execute_result"
    }
   ],
   "source": [
    "imdb_basics['genres'][0]"
   ]
  },
  {
   "cell_type": "markdown",
   "metadata": {},
   "source": [
    "As shown above, many films are categorized under more than one genres. For example, Foodfight! is in three genres, which are 'Action, Animation, Comedy'.\n",
    "\n",
    "One major consideration we had to make was whether we should retain the combination of genres as a distinct category or include it into each of the genres. In other words, should we make a new genre called 'Action, Animation, Comedy' or place Foodfight! into the 'Action' genre, 'Animation' genre, and 'Comedy' genre?\n",
    "\n",
    "The former would offer more nuanced data as to which specific combination of genres would be the most profitable, yet the data frame would then account for too many genres, making it confusing and inaccessible to the audience.\n",
    "\n",
    "Thus, we've decided to place films into each of genres separately."
   ]
  },
  {
   "cell_type": "markdown",
   "metadata": {},
   "source": [
    "The second step was to make a list of unique genres to see how many distinct genres there are."
   ]
  },
  {
   "cell_type": "code",
   "execution_count": 516,
   "metadata": {
    "scrolled": true
   },
   "outputs": [
    {
     "data": {
      "text/plain": [
       "['Action',\n",
       " 'Adventure',\n",
       " 'Animation',\n",
       " 'Biography',\n",
       " 'Comedy',\n",
       " 'Crime',\n",
       " 'Documentary',\n",
       " 'Drama',\n",
       " 'Family',\n",
       " 'Fantasy',\n",
       " 'History',\n",
       " 'Horror',\n",
       " 'Music',\n",
       " 'Musical',\n",
       " 'Mystery',\n",
       " 'Romance',\n",
       " 'Sci-Fi',\n",
       " 'Sport',\n",
       " 'Thriller',\n",
       " 'War',\n",
       " 'Western']"
      ]
     },
     "execution_count": 516,
     "metadata": {},
     "output_type": "execute_result"
    }
   ],
   "source": [
    "list_of_unique_values =' '.join(imdb_basics.genres.unique())\n",
    "list_of_unique_values = list_of_unique_values.replace(' ',',')\n",
    "list_of_unique_genres = list_of_unique_values.split(\",\")\n",
    "list_of_unique_genres = sorted(list(set(list_of_unique_genres)))\n",
    "list_of_unique_genres"
   ]
  },
  {
   "cell_type": "markdown",
   "metadata": {},
   "source": [
    "Next, imdb_basics dataframe was translated into variables, which categorizes films by unique genres. Since values under the 'genres' column in imdb_basics are strings, inputting the genre name into the .str.contains() method will filter data by genre."
   ]
  },
  {
   "cell_type": "code",
   "execution_count": 517,
   "metadata": {},
   "outputs": [],
   "source": [
    "imdb_action = imdb_basics[imdb_basics['genres'].str.contains('Action')]\n",
    "imdb_adventure = imdb_basics[imdb_basics['genres'].str.contains('Adventure')]\n",
    "imdb_animation = imdb_basics[imdb_basics['genres'].str.contains('Animation')]\n",
    "imdb_biography = imdb_basics[imdb_basics['genres'].str.contains('Biography')]\n",
    "imdb_comedy = imdb_basics[imdb_basics['genres'].str.contains('Comedy')]\n",
    "imdb_crime = imdb_basics[imdb_basics['genres'].str.contains('Crime')]\n",
    "imdb_documentary = imdb_basics[imdb_basics['genres'].str.contains('Documentary')]\n",
    "imdb_drama = imdb_basics[imdb_basics['genres'].str.contains('Drama')]\n",
    "imdb_family = imdb_basics[imdb_basics['genres'].str.contains('Family')]\n",
    "imdb_fantasy = imdb_basics[imdb_basics['genres'].str.contains('Fantasy')]\n",
    "imdb_history = imdb_basics[imdb_basics['genres'].str.contains('History')]\n",
    "imdb_horror = imdb_basics[imdb_basics['genres'].str.contains('Horror')]\n",
    "imdb_music = imdb_basics[imdb_basics['genres'].str.contains('Music')]\n",
    "imdb_musical = imdb_basics[imdb_basics['genres'].str.contains('Musical')]\n",
    "imdb_mystery = imdb_basics[imdb_basics['genres'].str.contains('Mystery')]\n",
    "imdb_romance = imdb_basics[imdb_basics['genres'].str.contains('Romance')]\n",
    "imdb_sciFi = imdb_basics[imdb_basics['genres'].str.contains('Sci-Fi')]\n",
    "imdb_sport = imdb_basics[imdb_basics['genres'].str.contains('Sport')]\n",
    "imdb_thriller = imdb_basics[imdb_basics['genres'].str.contains('Thriller')]\n",
    "imdb_war = imdb_basics[imdb_basics['genres'].str.contains('War')]\n",
    "imdb_western = imdb_basics[imdb_basics['genres'].str.contains('Western')]"
   ]
  },
  {
   "cell_type": "markdown",
   "metadata": {},
   "source": [
    "By using .ROI.mean() on each of the variables, we created a list called genre_roi_mean that contains the mean of the ROI by genre."
   ]
  },
  {
   "cell_type": "code",
   "execution_count": 518,
   "metadata": {},
   "outputs": [],
   "source": [
    "genre_roi_mean=[imdb_action.ROI.mean(),\n",
    "imdb_adventure.ROI.mean(),\n",
    "imdb_animation.ROI.mean(),\n",
    "imdb_biography.ROI.mean(),\n",
    "imdb_comedy.ROI.mean(),\n",
    "imdb_crime.ROI.mean(),\n",
    "imdb_documentary.ROI.mean(),\n",
    "imdb_drama.ROI.mean(),\n",
    "imdb_family.ROI.mean(),\n",
    "imdb_fantasy.ROI.mean(),\n",
    "imdb_history.ROI.mean(),\n",
    "imdb_horror.ROI.mean(),\n",
    "imdb_music.ROI.mean(),\n",
    "imdb_musical.ROI.mean(),\n",
    "imdb_mystery.ROI.mean(),\n",
    "imdb_romance.ROI.mean(),\n",
    "imdb_sciFi.ROI.mean(),\n",
    "imdb_sport.ROI.mean(),\n",
    "imdb_thriller.ROI.mean(),\n",
    "imdb_war.ROI.mean(),\n",
    "imdb_western.ROI.mean()]"
   ]
  },
  {
   "cell_type": "code",
   "execution_count": 519,
   "metadata": {},
   "outputs": [],
   "source": [
    "genreroidf = pd.DataFrame({\"Genre\":list_of_unique_genres,\n",
    "                  \"ROI mean\":genre_roi_mean})\n",
    "genreroidf = genreroidf.sort_values('ROI mean',ascending = False)"
   ]
  },
  {
   "cell_type": "code",
   "execution_count": 520,
   "metadata": {},
   "outputs": [
    {
     "data": {
      "text/html": [
       "<div>\n",
       "<style scoped>\n",
       "    .dataframe tbody tr th:only-of-type {\n",
       "        vertical-align: middle;\n",
       "    }\n",
       "\n",
       "    .dataframe tbody tr th {\n",
       "        vertical-align: top;\n",
       "    }\n",
       "\n",
       "    .dataframe thead th {\n",
       "        text-align: right;\n",
       "    }\n",
       "</style>\n",
       "<table border=\"1\" class=\"dataframe\">\n",
       "  <thead>\n",
       "    <tr style=\"text-align: right;\">\n",
       "      <th></th>\n",
       "      <th>Genre</th>\n",
       "      <th>ROI mean</th>\n",
       "    </tr>\n",
       "  </thead>\n",
       "  <tbody>\n",
       "    <tr>\n",
       "      <th>11</th>\n",
       "      <td>Horror</td>\n",
       "      <td>9.665619</td>\n",
       "    </tr>\n",
       "    <tr>\n",
       "      <th>14</th>\n",
       "      <td>Mystery</td>\n",
       "      <td>9.440293</td>\n",
       "    </tr>\n",
       "    <tr>\n",
       "      <th>18</th>\n",
       "      <td>Thriller</td>\n",
       "      <td>5.979786</td>\n",
       "    </tr>\n",
       "    <tr>\n",
       "      <th>16</th>\n",
       "      <td>Sci-Fi</td>\n",
       "      <td>2.849196</td>\n",
       "    </tr>\n",
       "    <tr>\n",
       "      <th>2</th>\n",
       "      <td>Animation</td>\n",
       "      <td>2.786901</td>\n",
       "    </tr>\n",
       "    <tr>\n",
       "      <th>15</th>\n",
       "      <td>Romance</td>\n",
       "      <td>2.708097</td>\n",
       "    </tr>\n",
       "    <tr>\n",
       "      <th>12</th>\n",
       "      <td>Music</td>\n",
       "      <td>2.640003</td>\n",
       "    </tr>\n",
       "    <tr>\n",
       "      <th>3</th>\n",
       "      <td>Biography</td>\n",
       "      <td>2.497164</td>\n",
       "    </tr>\n",
       "    <tr>\n",
       "      <th>7</th>\n",
       "      <td>Drama</td>\n",
       "      <td>2.395374</td>\n",
       "    </tr>\n",
       "    <tr>\n",
       "      <th>4</th>\n",
       "      <td>Comedy</td>\n",
       "      <td>2.265404</td>\n",
       "    </tr>\n",
       "    <tr>\n",
       "      <th>9</th>\n",
       "      <td>Fantasy</td>\n",
       "      <td>2.231836</td>\n",
       "    </tr>\n",
       "    <tr>\n",
       "      <th>1</th>\n",
       "      <td>Adventure</td>\n",
       "      <td>2.158055</td>\n",
       "    </tr>\n",
       "    <tr>\n",
       "      <th>13</th>\n",
       "      <td>Musical</td>\n",
       "      <td>2.030204</td>\n",
       "    </tr>\n",
       "    <tr>\n",
       "      <th>0</th>\n",
       "      <td>Action</td>\n",
       "      <td>1.760547</td>\n",
       "    </tr>\n",
       "    <tr>\n",
       "      <th>8</th>\n",
       "      <td>Family</td>\n",
       "      <td>1.739706</td>\n",
       "    </tr>\n",
       "    <tr>\n",
       "      <th>6</th>\n",
       "      <td>Documentary</td>\n",
       "      <td>1.674764</td>\n",
       "    </tr>\n",
       "    <tr>\n",
       "      <th>10</th>\n",
       "      <td>History</td>\n",
       "      <td>1.549244</td>\n",
       "    </tr>\n",
       "    <tr>\n",
       "      <th>5</th>\n",
       "      <td>Crime</td>\n",
       "      <td>1.241294</td>\n",
       "    </tr>\n",
       "    <tr>\n",
       "      <th>17</th>\n",
       "      <td>Sport</td>\n",
       "      <td>1.240810</td>\n",
       "    </tr>\n",
       "    <tr>\n",
       "      <th>20</th>\n",
       "      <td>Western</td>\n",
       "      <td>0.875478</td>\n",
       "    </tr>\n",
       "    <tr>\n",
       "      <th>19</th>\n",
       "      <td>War</td>\n",
       "      <td>0.411109</td>\n",
       "    </tr>\n",
       "  </tbody>\n",
       "</table>\n",
       "</div>"
      ],
      "text/plain": [
       "          Genre  ROI mean\n",
       "11       Horror  9.665619\n",
       "14      Mystery  9.440293\n",
       "18     Thriller  5.979786\n",
       "16       Sci-Fi  2.849196\n",
       "2     Animation  2.786901\n",
       "15      Romance  2.708097\n",
       "12        Music  2.640003\n",
       "3     Biography  2.497164\n",
       "7         Drama  2.395374\n",
       "4        Comedy  2.265404\n",
       "9       Fantasy  2.231836\n",
       "1     Adventure  2.158055\n",
       "13      Musical  2.030204\n",
       "0        Action  1.760547\n",
       "8        Family  1.739706\n",
       "6   Documentary  1.674764\n",
       "10      History  1.549244\n",
       "5         Crime  1.241294\n",
       "17        Sport  1.240810\n",
       "20      Western  0.875478\n",
       "19          War  0.411109"
      ]
     },
     "execution_count": 520,
     "metadata": {},
     "output_type": "execute_result"
    }
   ],
   "source": [
    "genreroidf"
   ]
  },
  {
   "cell_type": "markdown",
   "metadata": {},
   "source": [
    "After data wranggling, we now have the list of unique genres and the average ROI for those genres respectively. This information was placed on a bar graph for visualization."
   ]
  },
  {
   "cell_type": "code",
   "execution_count": 521,
   "metadata": {
    "scrolled": false
   },
   "outputs": [
    {
     "data": {
      "text/plain": [
       "Text(0.5, 1.0, 'Average Return on Investment by Genre')"
      ]
     },
     "execution_count": 521,
     "metadata": {},
     "output_type": "execute_result"
    },
    {
     "data": {
      "image/png": "[encoded data removed]",
      "text/plain": [
       "<Figure size 1440x720 with 1 Axes>"
      ]
     },
     "metadata": {
      "needs_background": "light"
     },
     "output_type": "display_data"
    }
   ],
   "source": [
    "fig, ax = plt.subplots(figsize = (20,10))\n",
    "x = genreroidf['Genre']\n",
    "y = genreroidf[\"ROI mean\"]\n",
    "ax.bar(x,y)\n",
    "plt.xticks(fontsize = 15, rotation = 65)\n",
    "ax.set_xlabel(\"Genres\", fontsize = 20)\n",
    "ax.set_ylabel(\"Mean of Return on Investment\", fontsize = 20)\n",
    "ax.set_title(\"Average Return on Investment by Genre\", fontsize = 20)"
   ]
  },
  {
   "cell_type": "markdown",
   "metadata": {},
   "source": [
    "As shown above, this bar graph shows the mean of return on investment for each of the genres. Horror, Mystery, and Thriller appear to yield the highest average return on investment, while War, Western, and Sports yield the lowest. This data visualization can help identify which genre can have a lower risk from the point of view as an investor."
   ]
  },
  {
   "cell_type": "markdown",
   "metadata": {},
   "source": [
    "## Size of Market by Genre"
   ]
  },
  {
   "cell_type": "markdown",
   "metadata": {},
   "source": [
    "Finding the mean return on investment is important in selecting what genres to film, especially as an up-and-coming studio. However, another significant factor to consider is the size of the market - how much total profit was made in each genre. This can help determine where the money lies."
   ]
  },
  {
   "cell_type": "markdown",
   "metadata": {
    "scrolled": true
   },
   "source": [
    "To find the sum of profits of all films in each genre, we used the method .sum() on the variables that categorized the data by genre."
   ]
  },
  {
   "cell_type": "code",
   "execution_count": 522,
   "metadata": {},
   "outputs": [
    {
     "data": {
      "text/plain": [
       "71832227993"
      ]
     },
     "execution_count": 522,
     "metadata": {},
     "output_type": "execute_result"
    }
   ],
   "source": [
    "imdb_action.profit.sum()"
   ]
  },
  {
   "cell_type": "markdown",
   "metadata": {},
   "source": [
    "Then, we formulated a list containing all of those values."
   ]
  },
  {
   "cell_type": "code",
   "execution_count": 523,
   "metadata": {},
   "outputs": [],
   "source": [
    "genre_profit_sum=[imdb_action.profit.sum(),\n",
    "imdb_adventure.profit.sum(),\n",
    "imdb_animation.profit.sum(),\n",
    "imdb_biography.profit.sum(),\n",
    "imdb_comedy.profit.sum(),\n",
    "imdb_crime.profit.sum(),\n",
    "imdb_documentary.profit.sum(),\n",
    "imdb_drama.profit.sum(),\n",
    "imdb_family.profit.sum(),\n",
    "imdb_fantasy.profit.sum(),\n",
    "imdb_history.profit.sum(),\n",
    "imdb_horror.profit.sum(),\n",
    "imdb_music.profit.sum(),\n",
    "imdb_musical.profit.sum(),\n",
    "imdb_mystery.profit.sum(),\n",
    "imdb_romance.profit.sum(),\n",
    "imdb_sciFi.profit.sum(),\n",
    "imdb_sport.profit.sum(),\n",
    "imdb_thriller.profit.sum(),\n",
    "imdb_war.profit.sum(),\n",
    "imdb_western.profit.sum()]"
   ]
  },
  {
   "cell_type": "markdown",
   "metadata": {},
   "source": [
    "The list of unique genres from above and the sum of profits of all films were used to formulate a bar graph."
   ]
  },
  {
   "cell_type": "code",
   "execution_count": 524,
   "metadata": {},
   "outputs": [],
   "source": [
    "genretotalprofitdf = pd.DataFrame({\"Genre\":list_of_unique_genres,\n",
    "                  \"Total Profit\":genre_profit_sum})\n",
    "genretotalprofitdf = genretotalprofitdf.sort_values(\"Total Profit\",ascending = False)"
   ]
  },
  {
   "cell_type": "code",
   "execution_count": 525,
   "metadata": {},
   "outputs": [
    {
     "data": {
      "text/plain": [
       "Text(0.5, 1.0, 'Size of Market: Total Profit in Each Genre')"
      ]
     },
     "execution_count": 525,
     "metadata": {},
     "output_type": "execute_result"
    },
    {
     "data": {
      "image/png": "[encoded data removed]",
      "text/plain": [
       "<Figure size 1440x720 with 1 Axes>"
      ]
     },
     "metadata": {
      "needs_background": "light"
     },
     "output_type": "display_data"
    }
   ],
   "source": [
    "fig, ax = plt.subplots(figsize = (20,10))\n",
    "x = genretotalprofitdf['Genre']\n",
    "y = genretotalprofitdf['Total Profit']\n",
    "ax.bar(x,y)\n",
    "plt.xticks(fontsize = 15, rotation = 65)\n",
    "ax.set_xlabel(\"Genres\", fontsize = 20)\n",
    "ax.set_ylabel(\"Total Profit\", fontsize = 20)\n",
    "ax.set_title(\"Size of Market: Total Profit in Each Genre\", fontsize = 20)"
   ]
  },
  {
   "cell_type": "markdown",
   "metadata": {},
   "source": [
    "As this bar graph indicates, Action, Adventure, and Comedy are the biggest markets in terms of profit, while War, Western, Sport, and Documentary yield the lowest profits. This visualization can provide a general sense of which genres attract the most profit and the size of the market."
   ]
  },
  {
   "cell_type": "markdown",
   "metadata": {},
   "source": [
    "## Saturation of the Market"
   ]
  },
  {
   "cell_type": "markdown",
   "metadata": {},
   "source": [
    "Yes, the total profit of all films in each genre helps us understand the size of the market, but to gain a deeper understanding about the market, we must also consider its saturation. So, how many films are exactly in each of the genres? "
   ]
  },
  {
   "cell_type": "markdown",
   "metadata": {},
   "source": [
    "Using the len() method, we created a list containing the number of films in each genre."
   ]
  },
  {
   "cell_type": "code",
   "execution_count": 526,
   "metadata": {},
   "outputs": [
    {
     "data": {
      "text/plain": [
       "418"
      ]
     },
     "execution_count": 526,
     "metadata": {},
     "output_type": "execute_result"
    }
   ],
   "source": [
    "len(imdb_action)"
   ]
  },
  {
   "cell_type": "code",
   "execution_count": 527,
   "metadata": {},
   "outputs": [],
   "source": [
    "num_per_genres=[len(imdb_action),\n",
    "len(imdb_adventure),\n",
    "len(imdb_animation),\n",
    "len(imdb_biography),\n",
    "len(imdb_comedy),\n",
    "len(imdb_crime),\n",
    "len(imdb_documentary),\n",
    "len(imdb_drama),\n",
    "len(imdb_family),\n",
    "len(imdb_fantasy),\n",
    "len(imdb_history),\n",
    "len(imdb_horror),\n",
    "len(imdb_music),\n",
    "len(imdb_musical),\n",
    "len(imdb_mystery),\n",
    "len(imdb_romance),\n",
    "len(imdb_sciFi),\n",
    "len(imdb_sport),\n",
    "len(imdb_thriller),\n",
    "len(imdb_war),\n",
    "len(imdb_western)]"
   ]
  },
  {
   "cell_type": "markdown",
   "metadata": {},
   "source": [
    "The list of unique genres from above and number of films in each genre were used to formulate a bar graph."
   ]
  },
  {
   "cell_type": "code",
   "execution_count": 528,
   "metadata": {},
   "outputs": [],
   "source": [
    "genrenumdf = pd.DataFrame({\"Genre\":list_of_unique_genres,\n",
    "                  \"Number of Films\":num_per_genres})\n",
    "genrenumdf = genrenumdf.sort_values(\"Number of Films\",ascending = False)"
   ]
  },
  {
   "cell_type": "code",
   "execution_count": 529,
   "metadata": {
    "scrolled": false
   },
   "outputs": [
    {
     "data": {
      "text/plain": [
       "Text(0.5, 1.0, 'Saturation of the Film Market by Genre')"
      ]
     },
     "execution_count": 529,
     "metadata": {},
     "output_type": "execute_result"
    },
    {
     "data": {
      "image/png": "[encoded data removed]",
      "text/plain": [
       "<Figure size 1440x720 with 1 Axes>"
      ]
     },
     "metadata": {
      "needs_background": "light"
     },
     "output_type": "display_data"
    }
   ],
   "source": [
    "fig, ax = plt.subplots(figsize=(20,10))\n",
    "x = genrenumdf['Genre']\n",
    "y = genrenumdf['Number of Films']\n",
    "ax.bar(x,y)\n",
    "plt.xticks(fontsize = 15, rotation = 65)\n",
    "ax.set_xlabel(\"Genres\", fontsize = 20)\n",
    "ax.set_ylabel('Number of Films', fontsize = 20)\n",
    "ax.set_title(\"Saturation of the Film Market by Genre\", fontsize = 20)"
   ]
  },
  {
   "cell_type": "markdown",
   "metadata": {},
   "source": [
    "As this bar graph indicates, Drama, Comedy, and Action have a higher number of films, while War, Western, and Musical have a lower number of films. This visualization not only shows the size of the market based on genre, but also suggests how much competition is in each market."
   ]
  },
  {
   "cell_type": "markdown",
   "metadata": {},
   "source": [
    "## Average Profit of a Film in Each Genre"
   ]
  },
  {
   "cell_type": "markdown",
   "metadata": {},
   "source": [
    "Combining the information on total profit and the number of films in each genre, we can find the average profit of a film in each genre. This allows us to consider which genres could yield the highest profit."
   ]
  },
  {
   "cell_type": "markdown",
   "metadata": {},
   "source": [
    "Using the .mean() method, we created a list containing the mean profit of films in each genre."
   ]
  },
  {
   "cell_type": "code",
   "execution_count": 530,
   "metadata": {},
   "outputs": [],
   "source": [
    "genre_profit_mean=[imdb_action.profit.mean(),\n",
    "imdb_adventure.profit.mean(),\n",
    "imdb_animation.profit.mean(),\n",
    "imdb_biography.profit.mean(),\n",
    "imdb_comedy.profit.mean(),\n",
    "imdb_crime.profit.mean(),\n",
    "imdb_documentary.profit.mean(),\n",
    "imdb_drama.profit.mean(),\n",
    "imdb_family.profit.mean(),\n",
    "imdb_fantasy.profit.mean(),\n",
    "imdb_history.profit.mean(),\n",
    "imdb_horror.profit.mean(),\n",
    "imdb_music.profit.mean(),\n",
    "imdb_musical.profit.mean(),\n",
    "imdb_mystery.profit.mean(),\n",
    "imdb_romance.profit.mean(),\n",
    "imdb_sciFi.profit.mean(),\n",
    "imdb_sport.profit.mean(),\n",
    "imdb_thriller.profit.mean(),\n",
    "imdb_war.profit.mean(),\n",
    "imdb_western.profit.mean()]"
   ]
  },
  {
   "cell_type": "markdown",
   "metadata": {},
   "source": [
    "The list of unique genres from above and mean profit of films in each genre were used to formulate a bar graph."
   ]
  },
  {
   "cell_type": "code",
   "execution_count": 532,
   "metadata": {},
   "outputs": [],
   "source": [
    "genreaveprofitdf = pd.DataFrame({\"Genre\":list_of_unique_genres,\n",
    "                  \"Average Profit\":genre_profit_mean})\n",
    "genreaveprofitdf = genreaveprofitdf.sort_values(\"Average Profit\",ascending = False)"
   ]
  },
  {
   "cell_type": "code",
   "execution_count": 533,
   "metadata": {
    "scrolled": false
   },
   "outputs": [
    {
     "data": {
      "text/plain": [
       "Text(0.5, 1.0, 'Average Profit of Film in a Certain Genre')"
      ]
     },
     "execution_count": 533,
     "metadata": {},
     "output_type": "execute_result"
    },
    {
     "data": {
      "image/png": "[encoded data removed]",
      "text/plain": [
       "<Figure size 1440x720 with 1 Axes>"
      ]
     },
     "metadata": {
      "needs_background": "light"
     },
     "output_type": "display_data"
    }
   ],
   "source": [
    "fig, ax = plt.subplots(figsize=(20,10))\n",
    "x = genreaveprofitdf['Genre']\n",
    "y = genreaveprofitdf['Average Profit']\n",
    "ax.bar(x,y)\n",
    "plt.xticks(fontsize = 15, rotation = 65)\n",
    "ax.set_xlabel(\"Genres\", fontsize = 20)\n",
    "ax.set_ylabel('Average Profit ', fontsize = 20)\n",
    "ax.set_title(\"Average Profit of Film in a Certain Genre\", fontsize = 20)"
   ]
  },
  {
   "cell_type": "markdown",
   "metadata": {},
   "source": [
    "As this bar graph indicates, films that are Animation, Musical, Sci-Fi, and Adventure have a high average profit, while films that are War, Sport, and Documentary have a low average profit."
   ]
  },
  {
   "cell_type": "markdown",
   "metadata": {},
   "source": [
    "One can gain a deeper understanding about the relationship between genre and profitability by synthesizing the graphs on average ROIs by genre, total profit by genre, number of films in genre, and average profit of film by genre.\n",
    "\n",
    "The graph on average ROIs by genre indicate that Horror, Mystery, and Thriller have a higher average ROI, suggesting a lower risk in investment, than other genres. However, the markets for the aforementioned genres are actually small compared to more saturated genres with higher attraction of money like Action and Adventure. This means that the pure profit from genres like Horror, Mystery, and Thriller may not be that high, but with lower competition in the genre and a higher average ROI, there may be lower risk and an opportunity to enter a niche market.\n",
    "\n",
    "Musical, Sci-fi, Animation, Adventure, and Action films yield higher average profit, \n",
    "\n",
    "On all three metrics, War, Western, Sport, and Documentary genres are the least likely to yield high profits."
   ]
  },
  {
   "cell_type": "markdown",
   "metadata": {},
   "source": [
    "Appendix\n",
    "to find the studios that have the highest average profits; groupedby(studio)[profit.mean]"
   ]
  },
  {
   "cell_type": "code",
   "execution_count": null,
   "metadata": {},
   "outputs": [],
   "source": [
    "# Since each movie have been categorized under multiple genres, genres with a broad umbrella of categorization may have higher number of films."
   ]
  },
  {
   "cell_type": "code",
   "execution_count": null,
   "metadata": {},
   "outputs": [],
   "source": [
    "imdb_mystery.ROI.mean(), imdb_mystery.profit.mean()"
   ]
  },
  {
   "cell_type": "code",
   "execution_count": null,
   "metadata": {},
   "outputs": [],
   "source": [
    "imdb_basics[]"
   ]
  }
 ],
 "metadata": {
  "kernelspec": {
   "display_name": "Python 3",
   "language": "python",
   "name": "python3"
  },
  "language_info": {
   "codemirror_mode": {
    "name": "ipython",
    "version": 3
   },
   "file_extension": ".py",
   "mimetype": "text/x-python",
   "name": "python",
   "nbconvert_exporter": "python",
   "pygments_lexer": "ipython3",
   "version": "3.8.5"
  }
 },
 "nbformat": 4,
 "nbformat_minor": 4
}
